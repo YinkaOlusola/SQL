{
 "cells": [
  {
   "cell_type": "markdown",
   "id": "716b9f11",
   "metadata": {},
   "source": [
    "# SQL Introduction Exercise: TMDb Database\n",
    "#### © Explore Data Science Academy"
   ]
  },
  {
   "cell_type": "markdown",
   "id": "1ba9dc6b",
   "metadata": {},
   "source": [
    "## Instructions\n",
    "\n",
    "This challenge wass designed to determine how much that had been learned so far and to test the knowledge on basic SQL statements.\n",
    "\n",
    "Questions were provided which were answered using basic SQL Queries in attempt to test my understanding of the subject matter."
   ]
  },
  {
   "cell_type": "markdown",
   "id": "51eba107",
   "metadata": {},
   "source": [
    "## The TMDb Database\n",
    "\n",
    "In this challenge I explored the [The Movie Database](https://www.themoviedb.org/) - an online movie and TV show database, which houses some of the most popular movies and TV shows at your finger tips. The TMDb database supports 39 official languages used in over 180 countries daily and dates all the way back to 2008. \n",
    "\n",
    "\n",
    "<img src=\"images/sql_tmdb.jpg\" width=80%/>\n",
    "\n",
    "\n",
    "Below is an Entity Relationship diagram(ERD) of the TMDb database:\n",
    "\n",
    "<img src=\"images/TMDB_ER_diagram.png\" width=70%/>\n",
    "\n",
    "As can be seen from the ER diagram, the TMDb database consists of `12 tables` containing information about movies, cast, genre and so much more.  \n",
    "\n",
    "\n",
    "\n",
    "#### Getting started!"
   ]
  },
  {
   "cell_type": "markdown",
   "id": "03f85e74",
   "metadata": {},
   "source": [
    "## Loading the database\n",
    "\n",
    "The SQL environment was prepared by loading in the magic command below in order to use SQL queries.\n",
    "\n",
    "The database, TMDB.db, was then loaded into the SQL environment in the following cell.\n"
   ]
  },
  {
   "cell_type": "code",
   "execution_count": 1,
   "id": "6d18139e",
   "metadata": {},
   "outputs": [],
   "source": [
    "%load_ext sql"
   ]
  },
  {
   "cell_type": "code",
   "execution_count": 2,
   "id": "e8542e2c",
   "metadata": {},
   "outputs": [],
   "source": [
    "%sql sqlite:///data/TMDB.db"
   ]
  },
  {
   "cell_type": "markdown",
   "id": "840b6a95",
   "metadata": {},
   "source": [
    "<br>\n",
    "<br>\n",
    "\n",
    "#### The query below was used to view all the tables in the database"
   ]
  },
  {
   "cell_type": "code",
   "execution_count": 3,
   "id": "46813edd",
   "metadata": {},
   "outputs": [
    {
     "name": "stdout",
     "output_type": "stream",
     "text": [
      " * sqlite:///data/TMDB.db\n",
      "Done.\n"
     ]
    },
    {
     "data": {
      "text/html": [
       "<table>\n",
       "    <thead>\n",
       "        <tr>\n",
       "            <th>name</th>\n",
       "        </tr>\n",
       "    </thead>\n",
       "    <tbody>\n",
       "        <tr>\n",
       "            <td>Alan_Rickman_Movies</td>\n",
       "        </tr>\n",
       "        <tr>\n",
       "            <td>actors</td>\n",
       "        </tr>\n",
       "        <tr>\n",
       "            <td>casts</td>\n",
       "        </tr>\n",
       "        <tr>\n",
       "            <td>genremap</td>\n",
       "        </tr>\n",
       "        <tr>\n",
       "            <td>genres</td>\n",
       "        </tr>\n",
       "        <tr>\n",
       "            <td>keywordmap</td>\n",
       "        </tr>\n",
       "        <tr>\n",
       "            <td>keywords</td>\n",
       "        </tr>\n",
       "        <tr>\n",
       "            <td>languagemap</td>\n",
       "        </tr>\n",
       "        <tr>\n",
       "            <td>languages</td>\n",
       "        </tr>\n",
       "        <tr>\n",
       "            <td>movies</td>\n",
       "        </tr>\n",
       "        <tr>\n",
       "            <td>oscars</td>\n",
       "        </tr>\n",
       "        <tr>\n",
       "            <td>productioncompanies</td>\n",
       "        </tr>\n",
       "        <tr>\n",
       "            <td>productioncompanymap</td>\n",
       "        </tr>\n",
       "        <tr>\n",
       "            <td>productioncountries</td>\n",
       "        </tr>\n",
       "        <tr>\n",
       "            <td>productioncountrymap</td>\n",
       "        </tr>\n",
       "        <tr>\n",
       "            <td>sysdiagrams</td>\n",
       "        </tr>\n",
       "    </tbody>\n",
       "</table>"
      ],
      "text/plain": [
       "[('Alan_Rickman_Movies',),\n",
       " ('actors',),\n",
       " ('casts',),\n",
       " ('genremap',),\n",
       " ('genres',),\n",
       " ('keywordmap',),\n",
       " ('keywords',),\n",
       " ('languagemap',),\n",
       " ('languages',),\n",
       " ('movies',),\n",
       " ('oscars',),\n",
       " ('productioncompanies',),\n",
       " ('productioncompanymap',),\n",
       " ('productioncountries',),\n",
       " ('productioncountrymap',),\n",
       " ('sysdiagrams',)]"
      ]
     },
     "execution_count": 3,
     "metadata": {},
     "output_type": "execute_result"
    }
   ],
   "source": [
    "%%sql\n",
    "\n",
    "SELECT name FROM sqlite_master WHERE type IN ('table', 'view') AND name NOT LIKE 'sqlite_%' ORDER BY 1"
   ]
  },
  {
   "cell_type": "markdown",
   "id": "9dbb9896",
   "metadata": {},
   "source": [
    "<br>\n",
    "<br>\n",
    "\n",
    "#### In the following cells, questions were provided that are to be answered from the database using SQL queries."
   ]
  },
  {
   "cell_type": "markdown",
   "id": "1bc00e96",
   "metadata": {},
   "source": [
    "### Question\n",
    "\n",
    "A SQL query to view the whole movies table."
   ]
  },
  {
   "cell_type": "code",
   "execution_count": 4,
   "id": "76ebaeab",
   "metadata": {
    "scrolled": false
   },
   "outputs": [
    {
     "name": "stdout",
     "output_type": "stream",
     "text": [
      " * sqlite:///data/TMDB.db\n",
      "Done.\n"
     ]
    },
    {
     "data": {
      "text/html": [
       "<table>\n",
       "    <thead>\n",
       "        <tr>\n",
       "            <th>movie_id</th>\n",
       "            <th>title</th>\n",
       "            <th>release_date</th>\n",
       "            <th>budget</th>\n",
       "            <th>homepage</th>\n",
       "            <th>original_language</th>\n",
       "            <th>original_title</th>\n",
       "            <th>overview</th>\n",
       "            <th>popularity</th>\n",
       "            <th>revenue</th>\n",
       "            <th>runtime</th>\n",
       "            <th>release_status</th>\n",
       "            <th>tagline</th>\n",
       "            <th>vote_average</th>\n",
       "            <th>vote_count</th>\n",
       "        </tr>\n",
       "    </thead>\n",
       "    <tbody>\n",
       "        <tr>\n",
       "            <td>5</td>\n",
       "            <td>Four Rooms</td>\n",
       "            <td>1995-12-09 00:00:00.000000</td>\n",
       "            <td>4000000</td>\n",
       "            <td>None</td>\n",
       "            <td>en</td>\n",
       "            <td>Four Rooms</td>\n",
       "            <td>It&#x27;s Ted the Bellhop&#x27;s first night on the job...and the hotel&#x27;s very unusual guests are about to place him in some outrageous predicaments. It seems that this evening&#x27;s room service is serving up one unbelievable happening after another.</td>\n",
       "            <td>22.87623</td>\n",
       "            <td>4300000.0</td>\n",
       "            <td>98.0</td>\n",
       "            <td>Released</td>\n",
       "            <td>Twelve outrageous guests. Four scandalous requests. And one lone bellhop, in his first day on the job, who&#x27;s in for the wildest New year&#x27;s Eve of his life.</td>\n",
       "            <td>6.5</td>\n",
       "            <td>530</td>\n",
       "        </tr>\n",
       "        <tr>\n",
       "            <td>11</td>\n",
       "            <td>Star Wars</td>\n",
       "            <td>1977-05-25 00:00:00.000000</td>\n",
       "            <td>11000000</td>\n",
       "            <td>http://www.starwars.com/films/star-wars-episode-iv-a-new-hope</td>\n",
       "            <td>en</td>\n",
       "            <td>Star Wars</td>\n",
       "            <td>Princess Leia is captured and held hostage by the evil Imperial forces in their effort to take over the galactic Empire. Venturesome Luke Skywalker and dashing captain Han Solo team together with the loveable robot duo R2-D2 and C-3PO to rescue the beautiful princess and restore peace and justice in the Empire.</td>\n",
       "            <td>126.393695</td>\n",
       "            <td>775398007.0</td>\n",
       "            <td>121.0</td>\n",
       "            <td>Released</td>\n",
       "            <td>A long time ago in a galaxy far, far away...</td>\n",
       "            <td>8.1</td>\n",
       "            <td>6624</td>\n",
       "        </tr>\n",
       "    </tbody>\n",
       "</table>"
      ],
      "text/plain": [
       "[(5, 'Four Rooms', '1995-12-09 00:00:00.000000', 4000000, None, 'en', 'Four Rooms', \"It's Ted the Bellhop's first night on the job...and the hotel's very unusual guests are about to place him in some outrageous predicaments. It seems that this evening's room service is serving up one unbelievable happening after another.\", 22.87623, 4300000.0, 98.0, 'Released', \"Twelve outrageous guests. Four scandalous requests. And one lone bellhop, in his first day on the job, who's in for the wildest New year's Eve of his life.\", 6.5, 530),\n",
       " (11, 'Star Wars', '1977-05-25 00:00:00.000000', 11000000, 'http://www.starwars.com/films/star-wars-episode-iv-a-new-hope', 'en', 'Star Wars', 'Princess Leia is captured and held hostage by the evil Imperial forces in their effort to take over the galactic Empire. Venturesome Luke Skywalker a ... (14 characters truncated) ... tain Han Solo team together with the loveable robot duo R2-D2 and C-3PO to rescue the beautiful princess and restore peace and justice in the Empire.', 126.393695, 775398007.0, 121.0, 'Released', 'A long time ago in a galaxy far, far away...', 8.1, 6624)]"
      ]
     },
     "execution_count": 4,
     "metadata": {},
     "output_type": "execute_result"
    }
   ],
   "source": [
    "%%sql\n",
    "\n",
    "\n",
    "SELECT *\n",
    "FROM Movies\n",
    "LIMIT 2;"
   ]
  },
  {
   "cell_type": "markdown",
   "id": "c4a89aaa",
   "metadata": {},
   "source": [
    "### Question\n",
    "\n",
    "A drill down on the database to identify the budget for the movie **\"Inception\"**"
   ]
  },
  {
   "cell_type": "code",
   "execution_count": 5,
   "id": "f8bc268d",
   "metadata": {},
   "outputs": [
    {
     "name": "stdout",
     "output_type": "stream",
     "text": [
      " * sqlite:///data/TMDB.db\n",
      "Done.\n"
     ]
    },
    {
     "data": {
      "text/html": [
       "<table>\n",
       "    <thead>\n",
       "        <tr>\n",
       "            <th>budget</th>\n",
       "        </tr>\n",
       "    </thead>\n",
       "    <tbody>\n",
       "        <tr>\n",
       "            <td>160000000</td>\n",
       "        </tr>\n",
       "    </tbody>\n",
       "</table>"
      ],
      "text/plain": [
       "[(160000000,)]"
      ]
     },
     "execution_count": 5,
     "metadata": {},
     "output_type": "execute_result"
    }
   ],
   "source": [
    "%%sql\n",
    "\n",
    "SELECT movies.budget\n",
    "FROM movies\n",
    "WHERE lower(movies.title) = \"inception\""
   ]
  },
  {
   "cell_type": "markdown",
   "id": "5728b7b3",
   "metadata": {},
   "source": [
    "<br>\n",
    "\n",
    "### Question\n",
    "Runtime of the movie **\"Titanic\".**\n"
   ]
  },
  {
   "cell_type": "code",
   "execution_count": 6,
   "id": "8be4278f",
   "metadata": {},
   "outputs": [
    {
     "name": "stdout",
     "output_type": "stream",
     "text": [
      " * sqlite:///data/TMDB.db\n",
      "Done.\n"
     ]
    },
    {
     "data": {
      "text/html": [
       "<table>\n",
       "    <thead>\n",
       "        <tr>\n",
       "            <th>Title</th>\n",
       "            <th>Runtime (Minutes)</th>\n",
       "        </tr>\n",
       "    </thead>\n",
       "    <tbody>\n",
       "        <tr>\n",
       "            <td>Titanic</td>\n",
       "            <td>194.0</td>\n",
       "        </tr>\n",
       "    </tbody>\n",
       "</table>"
      ],
      "text/plain": [
       "[('Titanic', 194.0)]"
      ]
     },
     "execution_count": 6,
     "metadata": {},
     "output_type": "execute_result"
    }
   ],
   "source": [
    "%%sql\n",
    "\n",
    "SELECT movies.title AS \"Title\", movies.runtime AS \"Runtime (Minutes)\"\n",
    "FROM movies\n",
    "WHERE lower(movies.title) = \"titanic\""
   ]
  },
  {
   "cell_type": "markdown",
   "id": "8584026a",
   "metadata": {},
   "source": [
    "<br>\n",
    "\n",
    "### Question\n",
    "Checking for the number of movies that do not have English as their original language? (“en” being the abbreviation for English)"
   ]
  },
  {
   "cell_type": "code",
   "execution_count": 7,
   "id": "35132563",
   "metadata": {},
   "outputs": [
    {
     "name": "stdout",
     "output_type": "stream",
     "text": [
      " * sqlite:///data/TMDB.db\n",
      "Done.\n"
     ]
    },
    {
     "data": {
      "text/html": [
       "<table>\n",
       "    <thead>\n",
       "        <tr>\n",
       "            <th>Number_of_movies</th>\n",
       "        </tr>\n",
       "    </thead>\n",
       "    <tbody>\n",
       "        <tr>\n",
       "            <td>298</td>\n",
       "        </tr>\n",
       "    </tbody>\n",
       "</table>"
      ],
      "text/plain": [
       "[(298,)]"
      ]
     },
     "execution_count": 7,
     "metadata": {},
     "output_type": "execute_result"
    }
   ],
   "source": [
    "%%sql\n",
    "\n",
    "SELECT count(movies.movie_id) AS \"Number_of_movies\"\n",
    "FROM movies\n",
    "WHERE movies.original_language != \"en\""
   ]
  },
  {
   "cell_type": "markdown",
   "id": "696df2c8",
   "metadata": {},
   "source": [
    "<br>\n",
    "\n",
    "### Question\n",
    "\n",
    "Checking for the number of movies that have a popularity score of more than 250."
   ]
  },
  {
   "cell_type": "code",
   "execution_count": 8,
   "id": "f2a2f7e1",
   "metadata": {},
   "outputs": [
    {
     "name": "stdout",
     "output_type": "stream",
     "text": [
      " * sqlite:///data/TMDB.db\n",
      "Done.\n"
     ]
    },
    {
     "data": {
      "text/html": [
       "<table>\n",
       "    <thead>\n",
       "        <tr>\n",
       "            <th>Number_of_movies_with_popularity &gt; 250</th>\n",
       "        </tr>\n",
       "    </thead>\n",
       "    <tbody>\n",
       "        <tr>\n",
       "            <td>7</td>\n",
       "        </tr>\n",
       "    </tbody>\n",
       "</table>"
      ],
      "text/plain": [
       "[(7,)]"
      ]
     },
     "execution_count": 8,
     "metadata": {},
     "output_type": "execute_result"
    }
   ],
   "source": [
    "%%sql\n",
    "\n",
    "SELECT count(movies.movie_id) AS \"Number_of_movies_with_popularity > 250\"\n",
    "FROM movies\n",
    "WHERE movies.popularity > 250"
   ]
  },
  {
   "cell_type": "markdown",
   "id": "1b9b4bc6",
   "metadata": {},
   "source": [
    "<br>\n",
    "\n",
    "### Question\n",
    "\n",
    "Checking for the number of movies whose title is not the same as the original title."
   ]
  },
  {
   "cell_type": "code",
   "execution_count": 9,
   "id": "0ca33ca0",
   "metadata": {},
   "outputs": [
    {
     "name": "stdout",
     "output_type": "stream",
     "text": [
      " * sqlite:///data/TMDB.db\n",
      "Done.\n"
     ]
    },
    {
     "data": {
      "text/html": [
       "<table>\n",
       "    <thead>\n",
       "        <tr>\n",
       "            <th>Number_of_movies</th>\n",
       "        </tr>\n",
       "    </thead>\n",
       "    <tbody>\n",
       "        <tr>\n",
       "            <td>261</td>\n",
       "        </tr>\n",
       "    </tbody>\n",
       "</table>"
      ],
      "text/plain": [
       "[(261,)]"
      ]
     },
     "execution_count": 9,
     "metadata": {},
     "output_type": "execute_result"
    }
   ],
   "source": [
    "%%sql\n",
    "\n",
    "SELECT count(movies.title) AS \"Number_of_movies\"\n",
    "FROM movies\n",
    "WHERE movies.title != movies.original_title"
   ]
  },
  {
   "cell_type": "markdown",
   "id": "852ba891",
   "metadata": {},
   "source": [
    "<br>\n",
    "\n",
    "### Question\n",
    "\n",
    "Checking for the number of movies that managed to get a popularity rating of more than 100 with a budget of less than $10 000 000."
   ]
  },
  {
   "cell_type": "code",
   "execution_count": 10,
   "id": "af566869",
   "metadata": {},
   "outputs": [
    {
     "name": "stdout",
     "output_type": "stream",
     "text": [
      " * sqlite:///data/TMDB.db\n",
      "Done.\n"
     ]
    },
    {
     "data": {
      "text/html": [
       "<table>\n",
       "    <thead>\n",
       "        <tr>\n",
       "            <th>Number_of_movies_with_popularity_&gt;_100_and_budget_&lt;_$10M</th>\n",
       "        </tr>\n",
       "    </thead>\n",
       "    <tbody>\n",
       "        <tr>\n",
       "            <td>5</td>\n",
       "        </tr>\n",
       "    </tbody>\n",
       "</table>"
      ],
      "text/plain": [
       "[(5,)]"
      ]
     },
     "execution_count": 10,
     "metadata": {},
     "output_type": "execute_result"
    }
   ],
   "source": [
    "%%sql\n",
    "\n",
    "SELECT count(movies.movie_id) AS \"Number_of_movies_with_popularity_>_100_and_budget_<_$10M\"\n",
    "FROM movies\n",
    "WHERE movies.popularity > 100\n",
    "AND movies.budget < 10000000"
   ]
  },
  {
   "cell_type": "markdown",
   "id": "6bea677f",
   "metadata": {},
   "source": [
    "<br>\n",
    "<br>\n",
    "\n",
    "### Question\n",
    "\n",
    "Number of movies with the word \"love\" in their titles."
   ]
  },
  {
   "cell_type": "code",
   "execution_count": 11,
   "id": "bfce8ec3",
   "metadata": {},
   "outputs": [
    {
     "name": "stdout",
     "output_type": "stream",
     "text": [
      " * sqlite:///data/TMDB.db\n",
      "Done.\n"
     ]
    },
    {
     "data": {
      "text/html": [
       "<table>\n",
       "    <thead>\n",
       "        <tr>\n",
       "            <th>Number_of_movies</th>\n",
       "        </tr>\n",
       "    </thead>\n",
       "    <tbody>\n",
       "        <tr>\n",
       "            <td>71</td>\n",
       "        </tr>\n",
       "    </tbody>\n",
       "</table>"
      ],
      "text/plain": [
       "[(71,)]"
      ]
     },
     "execution_count": 11,
     "metadata": {},
     "output_type": "execute_result"
    }
   ],
   "source": [
    "%%sql\n",
    "\n",
    "SELECT count(movies.movie_id) AS \"Number_of_movies\"\n",
    "FROM movies\n",
    "WHERE lower(movies.title)\n",
    "LIKE \"%love%\""
   ]
  },
  {
   "cell_type": "markdown",
   "id": "10603d47",
   "metadata": {},
   "source": [
    "<br>\n",
    "<br>\n",
    "\n",
    "### Question\n",
    "\n",
    "Checking for the number of movies that were released between the dates 1 August 2012 and 31 July 2013."
   ]
  },
  {
   "cell_type": "code",
   "execution_count": 12,
   "id": "204b4f87",
   "metadata": {},
   "outputs": [
    {
     "name": "stdout",
     "output_type": "stream",
     "text": [
      " * sqlite:///data/TMDB.db\n",
      "Done.\n"
     ]
    },
    {
     "data": {
      "text/html": [
       "<table>\n",
       "    <thead>\n",
       "        <tr>\n",
       "            <th>Number_of_movies</th>\n",
       "        </tr>\n",
       "    </thead>\n",
       "    <tbody>\n",
       "        <tr>\n",
       "            <td>227</td>\n",
       "        </tr>\n",
       "    </tbody>\n",
       "</table>"
      ],
      "text/plain": [
       "[(227,)]"
      ]
     },
     "execution_count": 12,
     "metadata": {},
     "output_type": "execute_result"
    }
   ],
   "source": [
    "%%sql\n",
    "\n",
    "SELECT count(movies.movie_id) AS \"Number_of_movies\"\n",
    "FROM movies\n",
    "WHERE movies.release_date BETWEEN \"2012-08-01 00:00:00.000000\" AND \"2013-07-31 00:00:00.000000\""
   ]
  },
  {
   "cell_type": "markdown",
   "id": "46991c86",
   "metadata": {},
   "source": [
    "<br>\n",
    "<br>\n",
    "\n",
    "### Question\n",
    "**Illustration**\n",
    "\n",
    "You have had a long day and want to sit back and enjoy a movie. Unfortunately, today you are only in the mood for a very specific type of movie. It definitely needs to be in English. It should also be new, something after 1 Jan 2010, but not too new as you might have seen it recently, so it must have been released before 1 Jan 2016. It should also be a romantic movie, so make sure it has the word love somewhere in the title. You also want it to be a big blockbuster, so the budget of the movie must be more than $10 000 000.\n",
    "\n",
    "Checking for the movie with the highest popularity that meets all the requirements above."
   ]
  },
  {
   "cell_type": "code",
   "execution_count": 13,
   "id": "8541a781",
   "metadata": {},
   "outputs": [
    {
     "name": "stdout",
     "output_type": "stream",
     "text": [
      " * sqlite:///data/TMDB.db\n",
      "Done.\n"
     ]
    },
    {
     "data": {
      "text/html": [
       "<table>\n",
       "    <thead>\n",
       "        <tr>\n",
       "            <th>Movie_title</th>\n",
       "            <th>Popularity</th>\n",
       "        </tr>\n",
       "    </thead>\n",
       "    <tbody>\n",
       "        <tr>\n",
       "            <td>Crazy, Stupid, Love.</td>\n",
       "            <td>37.990705</td>\n",
       "        </tr>\n",
       "        <tr>\n",
       "            <td>Eat Pray Love</td>\n",
       "            <td>28.800112</td>\n",
       "        </tr>\n",
       "        <tr>\n",
       "            <td>From Paris with Love</td>\n",
       "            <td>27.916284</td>\n",
       "        </tr>\n",
       "        <tr>\n",
       "            <td>Endless Love</td>\n",
       "            <td>27.256849</td>\n",
       "        </tr>\n",
       "        <tr>\n",
       "            <td>Love &amp; Other Drugs</td>\n",
       "            <td>20.236951</td>\n",
       "        </tr>\n",
       "        <tr>\n",
       "            <td>To Rome with Love</td>\n",
       "            <td>15.013386</td>\n",
       "        </tr>\n",
       "        <tr>\n",
       "            <td>Love the Coopers</td>\n",
       "            <td>9.191187</td>\n",
       "        </tr>\n",
       "        <tr>\n",
       "            <td>Accidental Love</td>\n",
       "            <td>5.644844</td>\n",
       "        </tr>\n",
       "        <tr>\n",
       "            <td>The Lovers</td>\n",
       "            <td>2.418535</td>\n",
       "        </tr>\n",
       "    </tbody>\n",
       "</table>"
      ],
      "text/plain": [
       "[('Crazy, Stupid, Love.', 37.990705),\n",
       " ('Eat Pray Love', 28.800112),\n",
       " ('From Paris with Love', 27.916284),\n",
       " ('Endless Love', 27.256849),\n",
       " ('Love & Other Drugs', 20.236951),\n",
       " ('To Rome with Love', 15.013386),\n",
       " ('Love the Coopers', 9.191187),\n",
       " ('Accidental Love', 5.644844),\n",
       " ('The Lovers', 2.418535)]"
      ]
     },
     "execution_count": 13,
     "metadata": {},
     "output_type": "execute_result"
    }
   ],
   "source": [
    "%%sql\n",
    "\n",
    "SELECT movies.title AS \"Movie_title\", movies.popularity AS \"Popularity\"\n",
    "FROM movies\n",
    "WHERE movies.original_language = \"en\"\n",
    "AND lower(movies.title) LIKE \"%love%\"\n",
    "AND movies.budget > 10000000\n",
    "AND movies.release_date BETWEEN \"2010-01-01 00:00:00.000000\" AND \"2016-01-01 00:00:00.000000\"\n",
    "ORDER BY [Popularity] DESC"
   ]
  },
  {
   "cell_type": "code",
   "execution_count": null,
   "id": "8042dee4",
   "metadata": {},
   "outputs": [],
   "source": []
  }
 ],
 "metadata": {
  "kernelspec": {
   "display_name": "Python 3 (ipykernel)",
   "language": "python",
   "name": "python3"
  },
  "language_info": {
   "codemirror_mode": {
    "name": "ipython",
    "version": 3
   },
   "file_extension": ".py",
   "mimetype": "text/x-python",
   "name": "python",
   "nbconvert_exporter": "python",
   "pygments_lexer": "ipython3",
   "version": "3.11.0"
  }
 },
 "nbformat": 4,
 "nbformat_minor": 5
}
