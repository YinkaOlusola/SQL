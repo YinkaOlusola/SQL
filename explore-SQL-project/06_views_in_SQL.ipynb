{
 "cells": [
  {
   "cell_type": "markdown",
   "id": "f3766e47",
   "metadata": {},
   "source": [
    "# SQL Introduction Exercise: TMDb Database\n",
    "#### © Explore Data Science Academy"
   ]
  },
  {
   "cell_type": "markdown",
   "id": "a00f9acd",
   "metadata": {},
   "source": [
    "## Instructions\n",
    "\n",
    "This project was carried out to show understanding of SQL views"
   ]
  },
  {
   "cell_type": "markdown",
   "id": "953db76d",
   "metadata": {},
   "source": [
    "As a result of several changes made to the underlying dataset, it is important to run the SQL queries below if at any point it is necessary to reset the changes\n",
    "\n",
    "```SQL\n",
    "DROP VIEW Customer_Germany;\n",
    "DROP VIEW Customer_Support_View;\n",
    "DROP VIEW Customer_View;\n",
    "DROP VIEW Customer_per_Country_View;\n",
    "DROP VIEW Employee_View;\n",
    "DROP VIEW Support_Person_Stats;\n",
    "```"
   ]
  },
  {
   "cell_type": "markdown",
   "id": "b4be5601",
   "metadata": {},
   "source": [
    "### An overview of the database"
   ]
  },
  {
   "cell_type": "code",
   "execution_count": 1,
   "id": "42d45abf",
   "metadata": {},
   "outputs": [],
   "source": [
    "#Load the SQL extension to use magic commands.\n",
    "%load_ext sql"
   ]
  },
  {
   "cell_type": "code",
   "execution_count": 2,
   "id": "0e4eb4e1",
   "metadata": {},
   "outputs": [],
   "source": [
    "%sql sqlite:///data/chinook.db"
   ]
  },
  {
   "cell_type": "markdown",
   "id": "087e0837",
   "metadata": {},
   "source": [
    "%%sql\n",
    "\n",
    "DROP VIEW Customer_Germany;\n",
    "DROP VIEW Customer_Support_View;\n",
    "DROP VIEW Customer_View;\n",
    "DROP VIEW Customer_per_Country_View;\n",
    "DROP VIEW Employee_View;\n",
    "DROP VIEW Support_Person_Stats;\n",
    "DROP VIEW Billing_View;\n",
    "DROP VIEW Billing_View_per_Country;\n",
    "DROP VIEW Customer_Billing_2013_View;\n",
    "DROP VIEW Customer_Billing_View;\n",
    "DROP VIEW Customer_Per_Country_View;\n",
    "DROP VIEW Customer_Support_View;\n",
    "DROP VIEW Customer_View;\n",
    "DROP VIEW Employee_View;\n",
    "DROP VIEW Support_Person_Stats;\n",
    "DROP VIEW Yearly_Billing;"
   ]
  },
  {
   "cell_type": "markdown",
   "id": "9d531f6b",
   "metadata": {},
   "source": [
    "#### Tables in the database"
   ]
  },
  {
   "cell_type": "code",
   "execution_count": 3,
   "id": "fab8f0d6",
   "metadata": {
    "scrolled": false
   },
   "outputs": [
    {
     "name": "stdout",
     "output_type": "stream",
     "text": [
      " * sqlite:///data/chinook.db\n",
      "Done.\n"
     ]
    },
    {
     "data": {
      "text/html": [
       "<table>\n",
       "    <thead>\n",
       "        <tr>\n",
       "            <th>name</th>\n",
       "        </tr>\n",
       "    </thead>\n",
       "    <tbody>\n",
       "        <tr>\n",
       "            <td>Billing_View</td>\n",
       "        </tr>\n",
       "        <tr>\n",
       "            <td>Customer_Billing_View</td>\n",
       "        </tr>\n",
       "        <tr>\n",
       "            <td>Yearly_Billing</td>\n",
       "        </tr>\n",
       "        <tr>\n",
       "            <td>albums</td>\n",
       "        </tr>\n",
       "        <tr>\n",
       "            <td>artists</td>\n",
       "        </tr>\n",
       "        <tr>\n",
       "            <td>customers</td>\n",
       "        </tr>\n",
       "        <tr>\n",
       "            <td>employees</td>\n",
       "        </tr>\n",
       "        <tr>\n",
       "            <td>genres</td>\n",
       "        </tr>\n",
       "        <tr>\n",
       "            <td>invoice_items</td>\n",
       "        </tr>\n",
       "        <tr>\n",
       "            <td>invoices</td>\n",
       "        </tr>\n",
       "        <tr>\n",
       "            <td>media_types</td>\n",
       "        </tr>\n",
       "        <tr>\n",
       "            <td>playlist_track</td>\n",
       "        </tr>\n",
       "        <tr>\n",
       "            <td>playlists</td>\n",
       "        </tr>\n",
       "        <tr>\n",
       "            <td>tracks</td>\n",
       "        </tr>\n",
       "    </tbody>\n",
       "</table>"
      ],
      "text/plain": [
       "[('Billing_View',),\n",
       " ('Customer_Billing_View',),\n",
       " ('Yearly_Billing',),\n",
       " ('albums',),\n",
       " ('artists',),\n",
       " ('customers',),\n",
       " ('employees',),\n",
       " ('genres',),\n",
       " ('invoice_items',),\n",
       " ('invoices',),\n",
       " ('media_types',),\n",
       " ('playlist_track',),\n",
       " ('playlists',),\n",
       " ('tracks',)]"
      ]
     },
     "execution_count": 3,
     "metadata": {},
     "output_type": "execute_result"
    }
   ],
   "source": [
    "%%sql\n",
    "\n",
    "SELECT name\n",
    "FROM sqlite_master\n",
    "\n",
    "WHERE type IN ('table','view')\n",
    "\n",
    "AND name NOT LIKE 'sqlite_%'\n",
    "\n",
    "ORDER BY 1"
   ]
  },
  {
   "cell_type": "markdown",
   "id": "702c7a0e",
   "metadata": {},
   "source": [
    "**A quick look at some tables of the database**"
   ]
  },
  {
   "cell_type": "code",
   "execution_count": 4,
   "id": "24e4f0b5",
   "metadata": {},
   "outputs": [
    {
     "name": "stdout",
     "output_type": "stream",
     "text": [
      " * sqlite:///data/chinook.db\n",
      "Done.\n"
     ]
    },
    {
     "data": {
      "text/html": [
       "<table>\n",
       "    <thead>\n",
       "        <tr>\n",
       "            <th>EmployeeId</th>\n",
       "            <th>LastName</th>\n",
       "            <th>FirstName</th>\n",
       "            <th>Title</th>\n",
       "            <th>ReportsTo</th>\n",
       "            <th>BirthDate</th>\n",
       "            <th>HireDate</th>\n",
       "            <th>Address</th>\n",
       "            <th>City</th>\n",
       "            <th>State</th>\n",
       "            <th>Country</th>\n",
       "            <th>PostalCode</th>\n",
       "            <th>Phone</th>\n",
       "            <th>Fax</th>\n",
       "            <th>Email</th>\n",
       "        </tr>\n",
       "    </thead>\n",
       "    <tbody>\n",
       "        <tr>\n",
       "            <td>1</td>\n",
       "            <td>Adams</td>\n",
       "            <td>Andrew</td>\n",
       "            <td>General Manager</td>\n",
       "            <td>None</td>\n",
       "            <td>1962-02-18 00:00:00</td>\n",
       "            <td>2002-08-14 00:00:00</td>\n",
       "            <td>11120 Jasper Ave NW</td>\n",
       "            <td>Edmonton</td>\n",
       "            <td>AB</td>\n",
       "            <td>Canada</td>\n",
       "            <td>T5K 2N1</td>\n",
       "            <td>+1 (780) 428-9482</td>\n",
       "            <td>+1 (780) 428-3457</td>\n",
       "            <td>andrew@chinookcorp.com</td>\n",
       "        </tr>\n",
       "        <tr>\n",
       "            <td>2</td>\n",
       "            <td>Edwards</td>\n",
       "            <td>Nancy</td>\n",
       "            <td>Sales Manager</td>\n",
       "            <td>1</td>\n",
       "            <td>1958-12-08 00:00:00</td>\n",
       "            <td>2002-05-01 00:00:00</td>\n",
       "            <td>825 8 Ave SW</td>\n",
       "            <td>Calgary</td>\n",
       "            <td>AB</td>\n",
       "            <td>Canada</td>\n",
       "            <td>T2P 2T3</td>\n",
       "            <td>+1 (403) 262-3443</td>\n",
       "            <td>+1 (403) 262-3322</td>\n",
       "            <td>nancy@chinookcorp.com</td>\n",
       "        </tr>\n",
       "        <tr>\n",
       "            <td>3</td>\n",
       "            <td>Peacock</td>\n",
       "            <td>Jane</td>\n",
       "            <td>Sales Support Agent</td>\n",
       "            <td>2</td>\n",
       "            <td>1973-08-29 00:00:00</td>\n",
       "            <td>2002-04-01 00:00:00</td>\n",
       "            <td>1111 6 Ave SW</td>\n",
       "            <td>Calgary</td>\n",
       "            <td>AB</td>\n",
       "            <td>Canada</td>\n",
       "            <td>T2P 5M5</td>\n",
       "            <td>+1 (403) 262-3443</td>\n",
       "            <td>+1 (403) 262-6712</td>\n",
       "            <td>jane@chinookcorp.com</td>\n",
       "        </tr>\n",
       "        <tr>\n",
       "            <td>4</td>\n",
       "            <td>Park</td>\n",
       "            <td>Margaret</td>\n",
       "            <td>Sales Support Agent</td>\n",
       "            <td>2</td>\n",
       "            <td>1947-09-19 00:00:00</td>\n",
       "            <td>2003-05-03 00:00:00</td>\n",
       "            <td>683 10 Street SW</td>\n",
       "            <td>Calgary</td>\n",
       "            <td>AB</td>\n",
       "            <td>Canada</td>\n",
       "            <td>T2P 5G3</td>\n",
       "            <td>+1 (403) 263-4423</td>\n",
       "            <td>+1 (403) 263-4289</td>\n",
       "            <td>margaret@chinookcorp.com</td>\n",
       "        </tr>\n",
       "        <tr>\n",
       "            <td>5</td>\n",
       "            <td>Johnson</td>\n",
       "            <td>Steve</td>\n",
       "            <td>Sales Support Agent</td>\n",
       "            <td>2</td>\n",
       "            <td>1965-03-03 00:00:00</td>\n",
       "            <td>2003-10-17 00:00:00</td>\n",
       "            <td>7727B 41 Ave</td>\n",
       "            <td>Calgary</td>\n",
       "            <td>AB</td>\n",
       "            <td>Canada</td>\n",
       "            <td>T3B 1Y7</td>\n",
       "            <td>1 (780) 836-9987</td>\n",
       "            <td>1 (780) 836-9543</td>\n",
       "            <td>steve@chinookcorp.com</td>\n",
       "        </tr>\n",
       "    </tbody>\n",
       "</table>"
      ],
      "text/plain": [
       "[(1, 'Adams', 'Andrew', 'General Manager', None, '1962-02-18 00:00:00', '2002-08-14 00:00:00', '11120 Jasper Ave NW', 'Edmonton', 'AB', 'Canada', 'T5K 2N1', '+1 (780) 428-9482', '+1 (780) 428-3457', 'andrew@chinookcorp.com'),\n",
       " (2, 'Edwards', 'Nancy', 'Sales Manager', 1, '1958-12-08 00:00:00', '2002-05-01 00:00:00', '825 8 Ave SW', 'Calgary', 'AB', 'Canada', 'T2P 2T3', '+1 (403) 262-3443', '+1 (403) 262-3322', 'nancy@chinookcorp.com'),\n",
       " (3, 'Peacock', 'Jane', 'Sales Support Agent', 2, '1973-08-29 00:00:00', '2002-04-01 00:00:00', '1111 6 Ave SW', 'Calgary', 'AB', 'Canada', 'T2P 5M5', '+1 (403) 262-3443', '+1 (403) 262-6712', 'jane@chinookcorp.com'),\n",
       " (4, 'Park', 'Margaret', 'Sales Support Agent', 2, '1947-09-19 00:00:00', '2003-05-03 00:00:00', '683 10 Street SW', 'Calgary', 'AB', 'Canada', 'T2P 5G3', '+1 (403) 263-4423', '+1 (403) 263-4289', 'margaret@chinookcorp.com'),\n",
       " (5, 'Johnson', 'Steve', 'Sales Support Agent', 2, '1965-03-03 00:00:00', '2003-10-17 00:00:00', '7727B 41 Ave', 'Calgary', 'AB', 'Canada', 'T3B 1Y7', '1 (780) 836-9987', '1 (780) 836-9543', 'steve@chinookcorp.com')]"
      ]
     },
     "execution_count": 4,
     "metadata": {},
     "output_type": "execute_result"
    }
   ],
   "source": [
    "%%sql\n",
    "\n",
    "SELECT * FROM Employees\n",
    "LIMIT 5;"
   ]
  },
  {
   "cell_type": "code",
   "execution_count": 5,
   "id": "8ae02257",
   "metadata": {},
   "outputs": [
    {
     "name": "stdout",
     "output_type": "stream",
     "text": [
      " * sqlite:///data/chinook.db\n",
      "Done.\n"
     ]
    },
    {
     "data": {
      "text/html": [
       "<table>\n",
       "    <thead>\n",
       "        <tr>\n",
       "            <th>CustomerId</th>\n",
       "            <th>FirstName</th>\n",
       "            <th>LastName</th>\n",
       "            <th>Company</th>\n",
       "            <th>Address</th>\n",
       "            <th>City</th>\n",
       "            <th>State</th>\n",
       "            <th>Country</th>\n",
       "            <th>PostalCode</th>\n",
       "            <th>Phone</th>\n",
       "            <th>Fax</th>\n",
       "            <th>Email</th>\n",
       "            <th>SupportRepId</th>\n",
       "        </tr>\n",
       "    </thead>\n",
       "    <tbody>\n",
       "        <tr>\n",
       "            <td>1</td>\n",
       "            <td>Luís</td>\n",
       "            <td>Gonçalves</td>\n",
       "            <td>Embraer - Empresa Brasileira de Aeronáutica S.A.</td>\n",
       "            <td>Av. Brigadeiro Faria Lima, 2170</td>\n",
       "            <td>São José dos Campos</td>\n",
       "            <td>SP</td>\n",
       "            <td>Brazil</td>\n",
       "            <td>12227-000</td>\n",
       "            <td>+55 (12) 3923-5555</td>\n",
       "            <td>+55 (12) 3923-5566</td>\n",
       "            <td>luisg@embraer.com.br</td>\n",
       "            <td>3</td>\n",
       "        </tr>\n",
       "        <tr>\n",
       "            <td>2</td>\n",
       "            <td>Leonie</td>\n",
       "            <td>Köhler</td>\n",
       "            <td>None</td>\n",
       "            <td>Theodor-Heuss-Straße 34</td>\n",
       "            <td>Stuttgart</td>\n",
       "            <td>None</td>\n",
       "            <td>Germany</td>\n",
       "            <td>70174</td>\n",
       "            <td>+49 0711 2842222</td>\n",
       "            <td>None</td>\n",
       "            <td>leonekohler@surfeu.de</td>\n",
       "            <td>5</td>\n",
       "        </tr>\n",
       "        <tr>\n",
       "            <td>3</td>\n",
       "            <td>François</td>\n",
       "            <td>Tremblay</td>\n",
       "            <td>None</td>\n",
       "            <td>1498 rue Bélanger</td>\n",
       "            <td>Montréal</td>\n",
       "            <td>QC</td>\n",
       "            <td>Canada</td>\n",
       "            <td>H2G 1A7</td>\n",
       "            <td>+1 (514) 721-4711</td>\n",
       "            <td>None</td>\n",
       "            <td>ftremblay@gmail.com</td>\n",
       "            <td>3</td>\n",
       "        </tr>\n",
       "        <tr>\n",
       "            <td>4</td>\n",
       "            <td>Bjørn</td>\n",
       "            <td>Hansen</td>\n",
       "            <td>None</td>\n",
       "            <td>Ullevålsveien 14</td>\n",
       "            <td>Oslo</td>\n",
       "            <td>None</td>\n",
       "            <td>Norway</td>\n",
       "            <td>0171</td>\n",
       "            <td>+47 22 44 22 22</td>\n",
       "            <td>None</td>\n",
       "            <td>bjorn.hansen@yahoo.no</td>\n",
       "            <td>4</td>\n",
       "        </tr>\n",
       "        <tr>\n",
       "            <td>5</td>\n",
       "            <td>František</td>\n",
       "            <td>Wichterlová</td>\n",
       "            <td>JetBrains s.r.o.</td>\n",
       "            <td>Klanova 9/506</td>\n",
       "            <td>Prague</td>\n",
       "            <td>None</td>\n",
       "            <td>Czech Republic</td>\n",
       "            <td>14700</td>\n",
       "            <td>+420 2 4172 5555</td>\n",
       "            <td>+420 2 4172 5555</td>\n",
       "            <td>frantisekw@jetbrains.com</td>\n",
       "            <td>4</td>\n",
       "        </tr>\n",
       "    </tbody>\n",
       "</table>"
      ],
      "text/plain": [
       "[(1, 'Luís', 'Gonçalves', 'Embraer - Empresa Brasileira de Aeronáutica S.A.', 'Av. Brigadeiro Faria Lima, 2170', 'São José dos Campos', 'SP', 'Brazil', '12227-000', '+55 (12) 3923-5555', '+55 (12) 3923-5566', 'luisg@embraer.com.br', 3),\n",
       " (2, 'Leonie', 'Köhler', None, 'Theodor-Heuss-Straße 34', 'Stuttgart', None, 'Germany', '70174', '+49 0711 2842222', None, 'leonekohler@surfeu.de', 5),\n",
       " (3, 'François', 'Tremblay', None, '1498 rue Bélanger', 'Montréal', 'QC', 'Canada', 'H2G 1A7', '+1 (514) 721-4711', None, 'ftremblay@gmail.com', 3),\n",
       " (4, 'Bjørn', 'Hansen', None, 'Ullevålsveien 14', 'Oslo', None, 'Norway', '0171', '+47 22 44 22 22', None, 'bjorn.hansen@yahoo.no', 4),\n",
       " (5, 'František', 'Wichterlová', 'JetBrains s.r.o.', 'Klanova 9/506', 'Prague', None, 'Czech Republic', '14700', '+420 2 4172 5555', '+420 2 4172 5555', 'frantisekw@jetbrains.com', 4)]"
      ]
     },
     "execution_count": 5,
     "metadata": {},
     "output_type": "execute_result"
    }
   ],
   "source": [
    "%%sql\n",
    "\n",
    "SELECT * FROM customers\n",
    "LIMIT 5;"
   ]
  },
  {
   "cell_type": "code",
   "execution_count": 6,
   "id": "19cfad11",
   "metadata": {},
   "outputs": [
    {
     "name": "stdout",
     "output_type": "stream",
     "text": [
      " * sqlite:///data/chinook.db\n",
      "Done.\n"
     ]
    },
    {
     "data": {
      "text/html": [
       "<table>\n",
       "    <thead>\n",
       "        <tr>\n",
       "            <th>InvoiceLineId</th>\n",
       "            <th>InvoiceId</th>\n",
       "            <th>TrackId</th>\n",
       "            <th>UnitPrice</th>\n",
       "            <th>Quantity</th>\n",
       "        </tr>\n",
       "    </thead>\n",
       "    <tbody>\n",
       "        <tr>\n",
       "            <td>1</td>\n",
       "            <td>1</td>\n",
       "            <td>2</td>\n",
       "            <td>0.99</td>\n",
       "            <td>1</td>\n",
       "        </tr>\n",
       "        <tr>\n",
       "            <td>2</td>\n",
       "            <td>1</td>\n",
       "            <td>4</td>\n",
       "            <td>0.99</td>\n",
       "            <td>1</td>\n",
       "        </tr>\n",
       "        <tr>\n",
       "            <td>3</td>\n",
       "            <td>2</td>\n",
       "            <td>6</td>\n",
       "            <td>0.99</td>\n",
       "            <td>1</td>\n",
       "        </tr>\n",
       "        <tr>\n",
       "            <td>4</td>\n",
       "            <td>2</td>\n",
       "            <td>8</td>\n",
       "            <td>0.99</td>\n",
       "            <td>1</td>\n",
       "        </tr>\n",
       "        <tr>\n",
       "            <td>5</td>\n",
       "            <td>2</td>\n",
       "            <td>10</td>\n",
       "            <td>0.99</td>\n",
       "            <td>1</td>\n",
       "        </tr>\n",
       "        <tr>\n",
       "            <td>6</td>\n",
       "            <td>2</td>\n",
       "            <td>12</td>\n",
       "            <td>0.99</td>\n",
       "            <td>1</td>\n",
       "        </tr>\n",
       "        <tr>\n",
       "            <td>7</td>\n",
       "            <td>3</td>\n",
       "            <td>16</td>\n",
       "            <td>0.99</td>\n",
       "            <td>1</td>\n",
       "        </tr>\n",
       "        <tr>\n",
       "            <td>8</td>\n",
       "            <td>3</td>\n",
       "            <td>20</td>\n",
       "            <td>0.99</td>\n",
       "            <td>1</td>\n",
       "        </tr>\n",
       "        <tr>\n",
       "            <td>9</td>\n",
       "            <td>3</td>\n",
       "            <td>24</td>\n",
       "            <td>0.99</td>\n",
       "            <td>1</td>\n",
       "        </tr>\n",
       "        <tr>\n",
       "            <td>10</td>\n",
       "            <td>3</td>\n",
       "            <td>28</td>\n",
       "            <td>0.99</td>\n",
       "            <td>1</td>\n",
       "        </tr>\n",
       "    </tbody>\n",
       "</table>"
      ],
      "text/plain": [
       "[(1, 1, 2, 0.99, 1),\n",
       " (2, 1, 4, 0.99, 1),\n",
       " (3, 2, 6, 0.99, 1),\n",
       " (4, 2, 8, 0.99, 1),\n",
       " (5, 2, 10, 0.99, 1),\n",
       " (6, 2, 12, 0.99, 1),\n",
       " (7, 3, 16, 0.99, 1),\n",
       " (8, 3, 20, 0.99, 1),\n",
       " (9, 3, 24, 0.99, 1),\n",
       " (10, 3, 28, 0.99, 1)]"
      ]
     },
     "execution_count": 6,
     "metadata": {},
     "output_type": "execute_result"
    }
   ],
   "source": [
    "%%sql\n",
    "\n",
    "SELECT * FROM Invoice_items\n",
    "LIMIT 10;"
   ]
  },
  {
   "cell_type": "code",
   "execution_count": 7,
   "id": "e0d52a29",
   "metadata": {},
   "outputs": [
    {
     "name": "stdout",
     "output_type": "stream",
     "text": [
      " * sqlite:///data/chinook.db\n",
      "Done.\n"
     ]
    },
    {
     "data": {
      "text/html": [
       "<table>\n",
       "    <thead>\n",
       "        <tr>\n",
       "            <th>InvoiceId</th>\n",
       "            <th>CustomerId</th>\n",
       "            <th>InvoiceDate</th>\n",
       "            <th>BillingAddress</th>\n",
       "            <th>BillingCity</th>\n",
       "            <th>BillingState</th>\n",
       "            <th>BillingCountry</th>\n",
       "            <th>BillingPostalCode</th>\n",
       "            <th>Total</th>\n",
       "        </tr>\n",
       "    </thead>\n",
       "    <tbody>\n",
       "        <tr>\n",
       "            <td>1</td>\n",
       "            <td>2</td>\n",
       "            <td>2009-01-01 00:00:00</td>\n",
       "            <td>Theodor-Heuss-Straße 34</td>\n",
       "            <td>Stuttgart</td>\n",
       "            <td>None</td>\n",
       "            <td>Germany</td>\n",
       "            <td>70174</td>\n",
       "            <td>1.98</td>\n",
       "        </tr>\n",
       "        <tr>\n",
       "            <td>2</td>\n",
       "            <td>4</td>\n",
       "            <td>2009-01-02 00:00:00</td>\n",
       "            <td>Ullevålsveien 14</td>\n",
       "            <td>Oslo</td>\n",
       "            <td>None</td>\n",
       "            <td>Norway</td>\n",
       "            <td>0171</td>\n",
       "            <td>3.96</td>\n",
       "        </tr>\n",
       "        <tr>\n",
       "            <td>3</td>\n",
       "            <td>8</td>\n",
       "            <td>2009-01-03 00:00:00</td>\n",
       "            <td>Grétrystraat 63</td>\n",
       "            <td>Brussels</td>\n",
       "            <td>None</td>\n",
       "            <td>Belgium</td>\n",
       "            <td>1000</td>\n",
       "            <td>5.94</td>\n",
       "        </tr>\n",
       "        <tr>\n",
       "            <td>4</td>\n",
       "            <td>14</td>\n",
       "            <td>2009-01-06 00:00:00</td>\n",
       "            <td>8210 111 ST NW</td>\n",
       "            <td>Edmonton</td>\n",
       "            <td>AB</td>\n",
       "            <td>Canada</td>\n",
       "            <td>T6G 2C7</td>\n",
       "            <td>8.91</td>\n",
       "        </tr>\n",
       "        <tr>\n",
       "            <td>5</td>\n",
       "            <td>23</td>\n",
       "            <td>2009-01-11 00:00:00</td>\n",
       "            <td>69 Salem Street</td>\n",
       "            <td>Boston</td>\n",
       "            <td>MA</td>\n",
       "            <td>USA</td>\n",
       "            <td>2113</td>\n",
       "            <td>13.86</td>\n",
       "        </tr>\n",
       "    </tbody>\n",
       "</table>"
      ],
      "text/plain": [
       "[(1, 2, '2009-01-01 00:00:00', 'Theodor-Heuss-Straße 34', 'Stuttgart', None, 'Germany', '70174', 1.98),\n",
       " (2, 4, '2009-01-02 00:00:00', 'Ullevålsveien 14', 'Oslo', None, 'Norway', '0171', 3.96),\n",
       " (3, 8, '2009-01-03 00:00:00', 'Grétrystraat 63', 'Brussels', None, 'Belgium', '1000', 5.94),\n",
       " (4, 14, '2009-01-06 00:00:00', '8210 111 ST NW', 'Edmonton', 'AB', 'Canada', 'T6G 2C7', 8.91),\n",
       " (5, 23, '2009-01-11 00:00:00', '69 Salem Street', 'Boston', 'MA', 'USA', '2113', 13.86)]"
      ]
     },
     "execution_count": 7,
     "metadata": {},
     "output_type": "execute_result"
    }
   ],
   "source": [
    "%%sql\n",
    "\n",
    "SELECT * FROM Invoices\n",
    "LIMIT 5;"
   ]
  },
  {
   "cell_type": "markdown",
   "id": "e6749c17",
   "metadata": {},
   "source": [
    "<br>\n",
    "<br>\n",
    "\n",
    "# Task 1 Description.\n",
    "\n",
    "The manager needs to present details from the Chinook database to new clients. However, she is wary of releasing too much information. She has requested a few tasks to be completed using the \"invoices\" table, where all customer invoices need to be assessed:"
   ]
  },
  {
   "cell_type": "markdown",
   "id": "e1e0557a",
   "metadata": {},
   "source": [
    "## Task 1.1\n",
    "\n",
    "**She would like to view the invoice date, billing city, billing country and the total spent on each invoice. The SQL query below set up a view called \"Billing_View\" to display these specific columns only.**"
   ]
  },
  {
   "cell_type": "markdown",
   "id": "903d859f",
   "metadata": {},
   "source": [
    "Creating **Billing_View**"
   ]
  },
  {
   "cell_type": "code",
   "execution_count": 8,
   "id": "6fced902",
   "metadata": {},
   "outputs": [
    {
     "name": "stdout",
     "output_type": "stream",
     "text": [
      " * sqlite:///data/chinook.db\n",
      "(sqlite3.OperationalError) view Billing_View already exists\n",
      "[SQL: CREATE VIEW Billing_View AS\n",
      "SELECT InvoiceDate, BillingCity, BillingCountry, Total\n",
      "FROM Invoices]\n",
      "(Background on this error at: https://sqlalche.me/e/20/e3q8)\n"
     ]
    }
   ],
   "source": [
    "%%sql\n",
    "\n",
    "CREATE VIEW Billing_View AS\n",
    "SELECT InvoiceDate, BillingCity, BillingCountry, Total\n",
    "FROM Invoices"
   ]
  },
  {
   "cell_type": "markdown",
   "id": "515368bf",
   "metadata": {},
   "source": [
    "Displaying the content of the **Billing_View**"
   ]
  },
  {
   "cell_type": "code",
   "execution_count": 9,
   "id": "748c26f9",
   "metadata": {},
   "outputs": [
    {
     "name": "stdout",
     "output_type": "stream",
     "text": [
      " * sqlite:///data/chinook.db\n",
      "Done.\n"
     ]
    },
    {
     "data": {
      "text/html": [
       "<table>\n",
       "    <thead>\n",
       "        <tr>\n",
       "            <th>InvoiceDate</th>\n",
       "            <th>BillingCity</th>\n",
       "            <th>BillingCountry</th>\n",
       "            <th>Total</th>\n",
       "        </tr>\n",
       "    </thead>\n",
       "    <tbody>\n",
       "        <tr>\n",
       "            <td>2009-01-01 00:00:00</td>\n",
       "            <td>Stuttgart</td>\n",
       "            <td>Germany</td>\n",
       "            <td>1.98</td>\n",
       "        </tr>\n",
       "        <tr>\n",
       "            <td>2009-01-02 00:00:00</td>\n",
       "            <td>Oslo</td>\n",
       "            <td>Norway</td>\n",
       "            <td>3.96</td>\n",
       "        </tr>\n",
       "        <tr>\n",
       "            <td>2009-01-03 00:00:00</td>\n",
       "            <td>Brussels</td>\n",
       "            <td>Belgium</td>\n",
       "            <td>5.94</td>\n",
       "        </tr>\n",
       "        <tr>\n",
       "            <td>2009-01-06 00:00:00</td>\n",
       "            <td>Edmonton</td>\n",
       "            <td>Canada</td>\n",
       "            <td>8.91</td>\n",
       "        </tr>\n",
       "        <tr>\n",
       "            <td>2009-01-11 00:00:00</td>\n",
       "            <td>Boston</td>\n",
       "            <td>USA</td>\n",
       "            <td>13.86</td>\n",
       "        </tr>\n",
       "        <tr>\n",
       "            <td>2009-01-19 00:00:00</td>\n",
       "            <td>Frankfurt</td>\n",
       "            <td>Germany</td>\n",
       "            <td>0.99</td>\n",
       "        </tr>\n",
       "        <tr>\n",
       "            <td>2009-02-01 00:00:00</td>\n",
       "            <td>Berlin</td>\n",
       "            <td>Germany</td>\n",
       "            <td>1.98</td>\n",
       "        </tr>\n",
       "        <tr>\n",
       "            <td>2009-02-01 00:00:00</td>\n",
       "            <td>Paris</td>\n",
       "            <td>France</td>\n",
       "            <td>1.98</td>\n",
       "        </tr>\n",
       "        <tr>\n",
       "            <td>2009-02-02 00:00:00</td>\n",
       "            <td>Bordeaux</td>\n",
       "            <td>France</td>\n",
       "            <td>3.96</td>\n",
       "        </tr>\n",
       "        <tr>\n",
       "            <td>2009-02-03 00:00:00</td>\n",
       "            <td>Dublin</td>\n",
       "            <td>Ireland</td>\n",
       "            <td>5.94</td>\n",
       "        </tr>\n",
       "    </tbody>\n",
       "</table>"
      ],
      "text/plain": [
       "[('2009-01-01 00:00:00', 'Stuttgart', 'Germany', 1.98),\n",
       " ('2009-01-02 00:00:00', 'Oslo', 'Norway', 3.96),\n",
       " ('2009-01-03 00:00:00', 'Brussels', 'Belgium', 5.94),\n",
       " ('2009-01-06 00:00:00', 'Edmonton', 'Canada', 8.91),\n",
       " ('2009-01-11 00:00:00', 'Boston', 'USA', 13.86),\n",
       " ('2009-01-19 00:00:00', 'Frankfurt', 'Germany', 0.99),\n",
       " ('2009-02-01 00:00:00', 'Berlin', 'Germany', 1.98),\n",
       " ('2009-02-01 00:00:00', 'Paris', 'France', 1.98),\n",
       " ('2009-02-02 00:00:00', 'Bordeaux', 'France', 3.96),\n",
       " ('2009-02-03 00:00:00', 'Dublin', 'Ireland', 5.94)]"
      ]
     },
     "execution_count": 9,
     "metadata": {},
     "output_type": "execute_result"
    }
   ],
   "source": [
    "%%sql\n",
    "\n",
    "SELECT *\n",
    "FROM Billing_View\n",
    "LIMIT 10;"
   ]
  },
  {
   "cell_type": "markdown",
   "id": "852ee925",
   "metadata": {},
   "source": [
    "Dropping the created **Billing_View.**"
   ]
  },
  {
   "cell_type": "code",
   "execution_count": 10,
   "id": "09b2681e",
   "metadata": {},
   "outputs": [
    {
     "name": "stdout",
     "output_type": "stream",
     "text": [
      " * sqlite:///data/chinook.db\n",
      "(sqlite3.OperationalError) no such view: Billing_View_per_Country\n",
      "[SQL: DROP VIEW Billing_View_per_Country]\n",
      "(Background on this error at: https://sqlalche.me/e/20/e3q8)\n"
     ]
    }
   ],
   "source": [
    "%%sql\n",
    "\n",
    "DROP VIEW Billing_View_per_Country"
   ]
  },
  {
   "cell_type": "markdown",
   "id": "ce31e4dd",
   "metadata": {},
   "source": [
    "<br>\n",
    "<br>\n",
    "\n",
    "## Task 1.2\n",
    "\n",
    "**She then needs to get a view on the average spending for each country. She only wants to see the billing country and the aggregated average total amount spent. Set up a view called \"Billing_View_per_Country\" to display these averages.**"
   ]
  },
  {
   "cell_type": "markdown",
   "id": "d4abaf26",
   "metadata": {},
   "source": [
    "Creating **Billing_View_per_Country**"
   ]
  },
  {
   "cell_type": "code",
   "execution_count": 11,
   "id": "11f3d930",
   "metadata": {},
   "outputs": [
    {
     "name": "stdout",
     "output_type": "stream",
     "text": [
      " * sqlite:///data/chinook.db\n",
      "Done.\n"
     ]
    },
    {
     "data": {
      "text/plain": [
       "[]"
      ]
     },
     "execution_count": 11,
     "metadata": {},
     "output_type": "execute_result"
    }
   ],
   "source": [
    "%%sql\n",
    "\n",
    "CREATE VIEW Billing_View_per_Country AS\n",
    "SELECT BillingCountry, avg(Total) AS \"Average_of_Total_Amount_Spent\"\n",
    "FROM Invoices\n",
    "GROUP BY BillingCountry"
   ]
  },
  {
   "cell_type": "markdown",
   "id": "f6083355",
   "metadata": {},
   "source": [
    "Displaying the content of **Billing_View_per_Country**"
   ]
  },
  {
   "cell_type": "code",
   "execution_count": 12,
   "id": "bd299464",
   "metadata": {},
   "outputs": [
    {
     "name": "stdout",
     "output_type": "stream",
     "text": [
      " * sqlite:///data/chinook.db\n",
      "Done.\n"
     ]
    },
    {
     "data": {
      "text/html": [
       "<table>\n",
       "    <thead>\n",
       "        <tr>\n",
       "            <th>BillingCountry</th>\n",
       "            <th>Average_of_Total_Amount_Spent</th>\n",
       "        </tr>\n",
       "    </thead>\n",
       "    <tbody>\n",
       "        <tr>\n",
       "            <td>Argentina</td>\n",
       "            <td>5.3742857142857146</td>\n",
       "        </tr>\n",
       "        <tr>\n",
       "            <td>Australia</td>\n",
       "            <td>5.3742857142857146</td>\n",
       "        </tr>\n",
       "        <tr>\n",
       "            <td>Austria</td>\n",
       "            <td>6.088571428571428</td>\n",
       "        </tr>\n",
       "        <tr>\n",
       "            <td>Belgium</td>\n",
       "            <td>5.374285714285714</td>\n",
       "        </tr>\n",
       "        <tr>\n",
       "            <td>Brazil</td>\n",
       "            <td>5.431428571428571</td>\n",
       "        </tr>\n",
       "        <tr>\n",
       "            <td>Canada</td>\n",
       "            <td>5.427857142857142</td>\n",
       "        </tr>\n",
       "        <tr>\n",
       "            <td>Chile</td>\n",
       "            <td>6.659999999999999</td>\n",
       "        </tr>\n",
       "        <tr>\n",
       "            <td>Czech Republic</td>\n",
       "            <td>6.445714285714287</td>\n",
       "        </tr>\n",
       "        <tr>\n",
       "            <td>Denmark</td>\n",
       "            <td>5.3742857142857146</td>\n",
       "        </tr>\n",
       "        <tr>\n",
       "            <td>Finland</td>\n",
       "            <td>5.945714285714287</td>\n",
       "        </tr>\n",
       "        <tr>\n",
       "            <td>France</td>\n",
       "            <td>5.574285714285712</td>\n",
       "        </tr>\n",
       "        <tr>\n",
       "            <td>Germany</td>\n",
       "            <td>5.588571428571428</td>\n",
       "        </tr>\n",
       "        <tr>\n",
       "            <td>Hungary</td>\n",
       "            <td>6.517142857142857</td>\n",
       "        </tr>\n",
       "        <tr>\n",
       "            <td>India</td>\n",
       "            <td>5.789230769230769</td>\n",
       "        </tr>\n",
       "        <tr>\n",
       "            <td>Ireland</td>\n",
       "            <td>6.517142857142857</td>\n",
       "        </tr>\n",
       "        <tr>\n",
       "            <td>Italy</td>\n",
       "            <td>5.3742857142857146</td>\n",
       "        </tr>\n",
       "        <tr>\n",
       "            <td>Netherlands</td>\n",
       "            <td>5.8028571428571425</td>\n",
       "        </tr>\n",
       "        <tr>\n",
       "            <td>Norway</td>\n",
       "            <td>5.659999999999999</td>\n",
       "        </tr>\n",
       "        <tr>\n",
       "            <td>Poland</td>\n",
       "            <td>5.3742857142857146</td>\n",
       "        </tr>\n",
       "        <tr>\n",
       "            <td>Portugal</td>\n",
       "            <td>5.517142857142856</td>\n",
       "        </tr>\n",
       "        <tr>\n",
       "            <td>Spain</td>\n",
       "            <td>5.374285714285714</td>\n",
       "        </tr>\n",
       "        <tr>\n",
       "            <td>Sweden</td>\n",
       "            <td>5.517142857142858</td>\n",
       "        </tr>\n",
       "        <tr>\n",
       "            <td>USA</td>\n",
       "            <td>5.747912087912091</td>\n",
       "        </tr>\n",
       "        <tr>\n",
       "            <td>United Kingdom</td>\n",
       "            <td>5.374285714285714</td>\n",
       "        </tr>\n",
       "    </tbody>\n",
       "</table>"
      ],
      "text/plain": [
       "[('Argentina', 5.3742857142857146),\n",
       " ('Australia', 5.3742857142857146),\n",
       " ('Austria', 6.088571428571428),\n",
       " ('Belgium', 5.374285714285714),\n",
       " ('Brazil', 5.431428571428571),\n",
       " ('Canada', 5.427857142857142),\n",
       " ('Chile', 6.659999999999999),\n",
       " ('Czech Republic', 6.445714285714287),\n",
       " ('Denmark', 5.3742857142857146),\n",
       " ('Finland', 5.945714285714287),\n",
       " ('France', 5.574285714285712),\n",
       " ('Germany', 5.588571428571428),\n",
       " ('Hungary', 6.517142857142857),\n",
       " ('India', 5.789230769230769),\n",
       " ('Ireland', 6.517142857142857),\n",
       " ('Italy', 5.3742857142857146),\n",
       " ('Netherlands', 5.8028571428571425),\n",
       " ('Norway', 5.659999999999999),\n",
       " ('Poland', 5.3742857142857146),\n",
       " ('Portugal', 5.517142857142856),\n",
       " ('Spain', 5.374285714285714),\n",
       " ('Sweden', 5.517142857142858),\n",
       " ('USA', 5.747912087912091),\n",
       " ('United Kingdom', 5.374285714285714)]"
      ]
     },
     "execution_count": 12,
     "metadata": {},
     "output_type": "execute_result"
    }
   ],
   "source": [
    "%%sql\n",
    "\n",
    "SELECT *\n",
    "FROM Billing_View_per_Country"
   ]
  },
  {
   "cell_type": "markdown",
   "id": "371f1b54",
   "metadata": {},
   "source": [
    "Dropping the created **Billing_View_per_Country.**"
   ]
  },
  {
   "cell_type": "code",
   "execution_count": 13,
   "id": "1080fb97",
   "metadata": {},
   "outputs": [
    {
     "name": "stdout",
     "output_type": "stream",
     "text": [
      " * sqlite:///data/chinook.db\n",
      "Done.\n"
     ]
    },
    {
     "data": {
      "text/plain": [
       "[]"
      ]
     },
     "execution_count": 13,
     "metadata": {},
     "output_type": "execute_result"
    }
   ],
   "source": [
    "%%sql\n",
    "\n",
    "DROP VIEW Billing_View_per_Country"
   ]
  },
  {
   "cell_type": "markdown",
   "id": "bbe748ef",
   "metadata": {},
   "source": [
    "<br>\n",
    "<br>\n",
    "\n",
    "## Task 1.3\n",
    "\n",
    "**She is also interested in seeing the most profitable years. She needs to see the years and the sum of the amount spent each year. Set up a view called \"Yearly_Billing\" to display the total spend for each year. HINT: use the \"strftime\" function to convert the invoice date.**"
   ]
  },
  {
   "cell_type": "markdown",
   "id": "427c7c8b",
   "metadata": {},
   "source": [
    "Creating the **Yearly_Billing** View"
   ]
  },
  {
   "cell_type": "code",
   "execution_count": 14,
   "id": "d0d58acd",
   "metadata": {},
   "outputs": [
    {
     "name": "stdout",
     "output_type": "stream",
     "text": [
      " * sqlite:///data/chinook.db\n",
      "(sqlite3.OperationalError) view Yearly_Billing already exists\n",
      "[SQL: CREATE VIEW Yearly_Billing AS\n",
      "SELECT sum(Total), strftime('%Y', InvoiceDate) Year\n",
      "FROM Invoices\n",
      "GROUP BY [Year]]\n",
      "(Background on this error at: https://sqlalche.me/e/20/e3q8)\n"
     ]
    }
   ],
   "source": [
    "%%sql\n",
    "\n",
    "CREATE VIEW Yearly_Billing AS\n",
    "SELECT sum(Total), strftime('%Y', InvoiceDate) Year\n",
    "FROM Invoices\n",
    "GROUP BY [Year]"
   ]
  },
  {
   "cell_type": "markdown",
   "id": "962a42cb",
   "metadata": {},
   "source": [
    "Displaying the contents of the **Yearly_Billing** View"
   ]
  },
  {
   "cell_type": "code",
   "execution_count": 15,
   "id": "e8fd332a",
   "metadata": {},
   "outputs": [
    {
     "name": "stdout",
     "output_type": "stream",
     "text": [
      " * sqlite:///data/chinook.db\n",
      "Done.\n"
     ]
    },
    {
     "data": {
      "text/html": [
       "<table>\n",
       "    <thead>\n",
       "        <tr>\n",
       "            <th>sum(Total)</th>\n",
       "            <th>Year</th>\n",
       "        </tr>\n",
       "    </thead>\n",
       "    <tbody>\n",
       "        <tr>\n",
       "            <td>449.4600000000003</td>\n",
       "            <td>2009</td>\n",
       "        </tr>\n",
       "        <tr>\n",
       "            <td>481.45000000000033</td>\n",
       "            <td>2010</td>\n",
       "        </tr>\n",
       "        <tr>\n",
       "            <td>469.5800000000003</td>\n",
       "            <td>2011</td>\n",
       "        </tr>\n",
       "        <tr>\n",
       "            <td>477.53000000000026</td>\n",
       "            <td>2012</td>\n",
       "        </tr>\n",
       "        <tr>\n",
       "            <td>450.58000000000027</td>\n",
       "            <td>2013</td>\n",
       "        </tr>\n",
       "    </tbody>\n",
       "</table>"
      ],
      "text/plain": [
       "[(449.4600000000003, '2009'),\n",
       " (481.45000000000033, '2010'),\n",
       " (469.5800000000003, '2011'),\n",
       " (477.53000000000026, '2012'),\n",
       " (450.58000000000027, '2013')]"
      ]
     },
     "execution_count": 15,
     "metadata": {},
     "output_type": "execute_result"
    }
   ],
   "source": [
    "%%sql\n",
    "\n",
    "SELECT *\n",
    "FROM Yearly_Billing"
   ]
  },
  {
   "cell_type": "markdown",
   "id": "8f2dd7b7",
   "metadata": {},
   "source": [
    "Dropping the **Yearly_Billing** View"
   ]
  },
  {
   "cell_type": "code",
   "execution_count": 16,
   "id": "945d952d",
   "metadata": {},
   "outputs": [
    {
     "name": "stdout",
     "output_type": "stream",
     "text": [
      " * sqlite:///data/chinook.db\n",
      "(sqlite3.OperationalError) near \"Yearly_Billing\": syntax error\n",
      "[SQL: DROP Yearly_Billing]\n",
      "(Background on this error at: https://sqlalche.me/e/20/e3q8)\n"
     ]
    }
   ],
   "source": [
    "%%sql\n",
    "\n",
    "DROP Yearly_Billing"
   ]
  },
  {
   "cell_type": "markdown",
   "id": "63747dfb",
   "metadata": {},
   "source": [
    "<br>\n",
    "<br>\n",
    "\n",
    "# Task 2 Description.\n",
    "\n",
    "The manager is satisfied with the first set of views created - Horay!\n",
    "<br>\n",
    "Unfortunately, she would like to go into the more granular detail of the customers and their spending.\n",
    "<br>\n",
    "The final task requires to link the \"customers\" table with the \"invoices\" table. She has asked for the following views:"
   ]
  },
  {
   "cell_type": "markdown",
   "id": "d17d37b0",
   "metadata": {},
   "source": [
    "## Task 2.1\n",
    "\n",
    "The billing country stated on the invoice, the total spent on the invoice, the last name of each customer, and their country of residence.\n",
    "<br>\n",
    "- This view should only have the billing country, total spent, last name of the customer and their country of residence as columns.\n",
    "<br>\n",
    "Call this view \"Customer_Billing_View\"."
   ]
  },
  {
   "cell_type": "markdown",
   "id": "9266ae41",
   "metadata": {},
   "source": [
    "**Viewing the customer's table in the database**"
   ]
  },
  {
   "cell_type": "code",
   "execution_count": 17,
   "id": "6a16ccd2",
   "metadata": {},
   "outputs": [
    {
     "name": "stdout",
     "output_type": "stream",
     "text": [
      " * sqlite:///data/chinook.db\n",
      "Done.\n"
     ]
    },
    {
     "data": {
      "text/html": [
       "<table>\n",
       "    <thead>\n",
       "        <tr>\n",
       "            <th>CustomerId</th>\n",
       "            <th>FirstName</th>\n",
       "            <th>LastName</th>\n",
       "            <th>Company</th>\n",
       "            <th>Address</th>\n",
       "            <th>City</th>\n",
       "            <th>State</th>\n",
       "            <th>Country</th>\n",
       "            <th>PostalCode</th>\n",
       "            <th>Phone</th>\n",
       "            <th>Fax</th>\n",
       "            <th>Email</th>\n",
       "            <th>SupportRepId</th>\n",
       "        </tr>\n",
       "    </thead>\n",
       "    <tbody>\n",
       "        <tr>\n",
       "            <td>1</td>\n",
       "            <td>Luís</td>\n",
       "            <td>Gonçalves</td>\n",
       "            <td>Embraer - Empresa Brasileira de Aeronáutica S.A.</td>\n",
       "            <td>Av. Brigadeiro Faria Lima, 2170</td>\n",
       "            <td>São José dos Campos</td>\n",
       "            <td>SP</td>\n",
       "            <td>Brazil</td>\n",
       "            <td>12227-000</td>\n",
       "            <td>+55 (12) 3923-5555</td>\n",
       "            <td>+55 (12) 3923-5566</td>\n",
       "            <td>luisg@embraer.com.br</td>\n",
       "            <td>3</td>\n",
       "        </tr>\n",
       "    </tbody>\n",
       "</table>"
      ],
      "text/plain": [
       "[(1, 'Luís', 'Gonçalves', 'Embraer - Empresa Brasileira de Aeronáutica S.A.', 'Av. Brigadeiro Faria Lima, 2170', 'São José dos Campos', 'SP', 'Brazil', '12227-000', '+55 (12) 3923-5555', '+55 (12) 3923-5566', 'luisg@embraer.com.br', 3)]"
      ]
     },
     "execution_count": 17,
     "metadata": {},
     "output_type": "execute_result"
    }
   ],
   "source": [
    "%%sql\n",
    "\n",
    "SELECT *\n",
    "FROM Customers\n",
    "LIMIT 1;"
   ]
  },
  {
   "cell_type": "markdown",
   "id": "cdb78684",
   "metadata": {},
   "source": [
    "Creating the **Customer_Billing_View**"
   ]
  },
  {
   "cell_type": "code",
   "execution_count": 18,
   "id": "48cbdf07",
   "metadata": {},
   "outputs": [
    {
     "name": "stdout",
     "output_type": "stream",
     "text": [
      " * sqlite:///data/chinook.db\n",
      "(sqlite3.OperationalError) view Customer_Billing_View already exists\n",
      "[SQL: CREATE VIEW Customer_Billing_View AS\n",
      "SELECT c.LastName, c.Country, i.BillingCountry, i.Total\n",
      "FROM Customers c\n",
      "INNER JOIN Invoices i\n",
      "ON c.CustomerId = i.CustomerId]\n",
      "(Background on this error at: https://sqlalche.me/e/20/e3q8)\n"
     ]
    }
   ],
   "source": [
    "%%sql\n",
    "\n",
    "CREATE VIEW Customer_Billing_View AS\n",
    "SELECT c.LastName, c.Country, i.BillingCountry, i.Total\n",
    "FROM Customers c\n",
    "INNER JOIN Invoices i\n",
    "ON c.CustomerId = i.CustomerId"
   ]
  },
  {
   "cell_type": "markdown",
   "id": "58496d94",
   "metadata": {},
   "source": [
    "Displaying the contents of the created **Customer_Billing_View**"
   ]
  },
  {
   "cell_type": "code",
   "execution_count": 19,
   "id": "90545e99",
   "metadata": {},
   "outputs": [
    {
     "name": "stdout",
     "output_type": "stream",
     "text": [
      " * sqlite:///data/chinook.db\n",
      "Done.\n"
     ]
    },
    {
     "data": {
      "text/html": [
       "<table>\n",
       "    <thead>\n",
       "        <tr>\n",
       "            <th>LastName</th>\n",
       "            <th>Country</th>\n",
       "            <th>BillingCountry</th>\n",
       "            <th>Total</th>\n",
       "        </tr>\n",
       "    </thead>\n",
       "    <tbody>\n",
       "        <tr>\n",
       "            <td>Gonçalves</td>\n",
       "            <td>Brazil</td>\n",
       "            <td>Brazil</td>\n",
       "            <td>3.98</td>\n",
       "        </tr>\n",
       "        <tr>\n",
       "            <td>Gonçalves</td>\n",
       "            <td>Brazil</td>\n",
       "            <td>Brazil</td>\n",
       "            <td>3.96</td>\n",
       "        </tr>\n",
       "        <tr>\n",
       "            <td>Gonçalves</td>\n",
       "            <td>Brazil</td>\n",
       "            <td>Brazil</td>\n",
       "            <td>5.94</td>\n",
       "        </tr>\n",
       "        <tr>\n",
       "            <td>Gonçalves</td>\n",
       "            <td>Brazil</td>\n",
       "            <td>Brazil</td>\n",
       "            <td>0.99</td>\n",
       "        </tr>\n",
       "        <tr>\n",
       "            <td>Gonçalves</td>\n",
       "            <td>Brazil</td>\n",
       "            <td>Brazil</td>\n",
       "            <td>1.98</td>\n",
       "        </tr>\n",
       "        <tr>\n",
       "            <td>Gonçalves</td>\n",
       "            <td>Brazil</td>\n",
       "            <td>Brazil</td>\n",
       "            <td>13.86</td>\n",
       "        </tr>\n",
       "        <tr>\n",
       "            <td>Gonçalves</td>\n",
       "            <td>Brazil</td>\n",
       "            <td>Brazil</td>\n",
       "            <td>8.91</td>\n",
       "        </tr>\n",
       "        <tr>\n",
       "            <td>Köhler</td>\n",
       "            <td>Germany</td>\n",
       "            <td>Germany</td>\n",
       "            <td>1.98</td>\n",
       "        </tr>\n",
       "        <tr>\n",
       "            <td>Köhler</td>\n",
       "            <td>Germany</td>\n",
       "            <td>Germany</td>\n",
       "            <td>13.86</td>\n",
       "        </tr>\n",
       "        <tr>\n",
       "            <td>Köhler</td>\n",
       "            <td>Germany</td>\n",
       "            <td>Germany</td>\n",
       "            <td>8.91</td>\n",
       "        </tr>\n",
       "    </tbody>\n",
       "</table>"
      ],
      "text/plain": [
       "[('Gonçalves', 'Brazil', 'Brazil', 3.98),\n",
       " ('Gonçalves', 'Brazil', 'Brazil', 3.96),\n",
       " ('Gonçalves', 'Brazil', 'Brazil', 5.94),\n",
       " ('Gonçalves', 'Brazil', 'Brazil', 0.99),\n",
       " ('Gonçalves', 'Brazil', 'Brazil', 1.98),\n",
       " ('Gonçalves', 'Brazil', 'Brazil', 13.86),\n",
       " ('Gonçalves', 'Brazil', 'Brazil', 8.91),\n",
       " ('Köhler', 'Germany', 'Germany', 1.98),\n",
       " ('Köhler', 'Germany', 'Germany', 13.86),\n",
       " ('Köhler', 'Germany', 'Germany', 8.91)]"
      ]
     },
     "execution_count": 19,
     "metadata": {},
     "output_type": "execute_result"
    }
   ],
   "source": [
    "%%sql\n",
    "\n",
    "SELECT * \n",
    "FROM Customer_Billing_View\n",
    "LIMIT 10;"
   ]
  },
  {
   "cell_type": "markdown",
   "id": "3da49f52",
   "metadata": {},
   "source": [
    "Dropping the created **Customer_Billing_View**"
   ]
  },
  {
   "cell_type": "markdown",
   "id": "7e9f5ccb",
   "metadata": {},
   "source": [
    "<br>\n",
    "<br>\n",
    "\n",
    "## Task 2.2\n",
    "\n",
    "The sum of the total amount spent by each customer in the latest year (2013). \n",
    "- The view should only contain the customers' surname, the sum of the total invoice amount and the year as columns. Call this view \"Customer_Billing_2013_View\". \n",
    "    \n",
    "Hint: the invoice date column should be treated as a string; use the \"strftime\" function."
   ]
  },
  {
   "cell_type": "markdown",
   "id": "2ed65816",
   "metadata": {},
   "source": [
    "Creating the **Customer_Billing_2013_View**"
   ]
  },
  {
   "cell_type": "code",
   "execution_count": 20,
   "id": "a4132712",
   "metadata": {},
   "outputs": [
    {
     "name": "stdout",
     "output_type": "stream",
     "text": [
      " * sqlite:///data/chinook.db\n",
      "Done.\n"
     ]
    },
    {
     "data": {
      "text/plain": [
       "[]"
      ]
     },
     "execution_count": 20,
     "metadata": {},
     "output_type": "execute_result"
    }
   ],
   "source": [
    "%%sql\n",
    "\n",
    "CREATE VIEW Customer_Billing_2013_View AS\n",
    "SELECT c.LastName, SUM(i.Total), strftime('%Y', InvoiceDate) Year\n",
    "FROM Customers c\n",
    "INNER JOIN Invoices AS i\n",
    "ON c.CustomerId = i.CustomerId\n",
    "WHERE [Year] = '2013'\n",
    "\n",
    "GROUP BY c.LastName"
   ]
  },
  {
   "cell_type": "markdown",
   "id": "a8b1013f",
   "metadata": {},
   "source": [
    "Displaying the contents of the **Customer_Billing_2013_View**"
   ]
  },
  {
   "cell_type": "code",
   "execution_count": 21,
   "id": "374b17b6",
   "metadata": {},
   "outputs": [
    {
     "name": "stdout",
     "output_type": "stream",
     "text": [
      " * sqlite:///data/chinook.db\n",
      "Done.\n"
     ]
    },
    {
     "data": {
      "text/html": [
       "<table>\n",
       "    <thead>\n",
       "        <tr>\n",
       "            <th>LastName</th>\n",
       "            <th>SUM(i.Total)</th>\n",
       "            <th>Year</th>\n",
       "        </tr>\n",
       "    </thead>\n",
       "    <tbody>\n",
       "        <tr>\n",
       "            <td>Almeida</td>\n",
       "            <td>11.879999999999999</td>\n",
       "            <td>2013</td>\n",
       "        </tr>\n",
       "        <tr>\n",
       "            <td>Barnett</td>\n",
       "            <td>0.99</td>\n",
       "            <td>2013</td>\n",
       "        </tr>\n",
       "        <tr>\n",
       "            <td>Bernard</td>\n",
       "            <td>22.77</td>\n",
       "            <td>2013</td>\n",
       "        </tr>\n",
       "        <tr>\n",
       "            <td>Brooks</td>\n",
       "            <td>22.77</td>\n",
       "            <td>2013</td>\n",
       "        </tr>\n",
       "        <tr>\n",
       "            <td>Brown</td>\n",
       "            <td>11.879999999999999</td>\n",
       "            <td>2013</td>\n",
       "        </tr>\n",
       "        <tr>\n",
       "            <td>Chase</td>\n",
       "            <td>1.98</td>\n",
       "            <td>2013</td>\n",
       "        </tr>\n",
       "        <tr>\n",
       "            <td>Cunningham</td>\n",
       "            <td>8.91</td>\n",
       "            <td>2013</td>\n",
       "        </tr>\n",
       "        <tr>\n",
       "            <td>Dubois</td>\n",
       "            <td>6.930000000000001</td>\n",
       "            <td>2013</td>\n",
       "        </tr>\n",
       "        <tr>\n",
       "            <td>Francis</td>\n",
       "            <td>8.91</td>\n",
       "            <td>2013</td>\n",
       "        </tr>\n",
       "        <tr>\n",
       "            <td>Girard</td>\n",
       "            <td>1.98</td>\n",
       "            <td>2013</td>\n",
       "        </tr>\n",
       "        <tr>\n",
       "            <td>Gonçalves</td>\n",
       "            <td>8.91</td>\n",
       "            <td>2013</td>\n",
       "        </tr>\n",
       "        <tr>\n",
       "            <td>Gordon</td>\n",
       "            <td>1.98</td>\n",
       "            <td>2013</td>\n",
       "        </tr>\n",
       "        <tr>\n",
       "            <td>Gray</td>\n",
       "            <td>15.84</td>\n",
       "            <td>2013</td>\n",
       "        </tr>\n",
       "        <tr>\n",
       "            <td>Gruber</td>\n",
       "            <td>0.99</td>\n",
       "            <td>2013</td>\n",
       "        </tr>\n",
       "        <tr>\n",
       "            <td>Gutiérrez</td>\n",
       "            <td>24.75</td>\n",
       "            <td>2013</td>\n",
       "        </tr>\n",
       "        <tr>\n",
       "            <td>Hansen</td>\n",
       "            <td>1.98</td>\n",
       "            <td>2013</td>\n",
       "        </tr>\n",
       "        <tr>\n",
       "            <td>Harris</td>\n",
       "            <td>9.9</td>\n",
       "            <td>2013</td>\n",
       "        </tr>\n",
       "        <tr>\n",
       "            <td>Holý</td>\n",
       "            <td>27.84</td>\n",
       "            <td>2013</td>\n",
       "        </tr>\n",
       "        <tr>\n",
       "            <td>Hughes</td>\n",
       "            <td>0.99</td>\n",
       "            <td>2013</td>\n",
       "        </tr>\n",
       "        <tr>\n",
       "            <td>Hämäläinen</td>\n",
       "            <td>15.84</td>\n",
       "            <td>2013</td>\n",
       "        </tr>\n",
       "        <tr>\n",
       "            <td>Jones</td>\n",
       "            <td>15.84</td>\n",
       "            <td>2013</td>\n",
       "        </tr>\n",
       "        <tr>\n",
       "            <td>Kovács</td>\n",
       "            <td>0.99</td>\n",
       "            <td>2013</td>\n",
       "        </tr>\n",
       "        <tr>\n",
       "            <td>Leacock</td>\n",
       "            <td>8.91</td>\n",
       "            <td>2013</td>\n",
       "        </tr>\n",
       "        <tr>\n",
       "            <td>Mancini</td>\n",
       "            <td>8.91</td>\n",
       "            <td>2013</td>\n",
       "        </tr>\n",
       "        <tr>\n",
       "            <td>Martins</td>\n",
       "            <td>15.84</td>\n",
       "            <td>2013</td>\n",
       "        </tr>\n",
       "        <tr>\n",
       "            <td>Mercier</td>\n",
       "            <td>8.91</td>\n",
       "            <td>2013</td>\n",
       "        </tr>\n",
       "        <tr>\n",
       "            <td>Miller</td>\n",
       "            <td>6.930000000000001</td>\n",
       "            <td>2013</td>\n",
       "        </tr>\n",
       "        <tr>\n",
       "            <td>Mitchell</td>\n",
       "            <td>0.99</td>\n",
       "            <td>2013</td>\n",
       "        </tr>\n",
       "        <tr>\n",
       "            <td>Murray</td>\n",
       "            <td>11.879999999999999</td>\n",
       "            <td>2013</td>\n",
       "        </tr>\n",
       "        <tr>\n",
       "            <td>Muñoz</td>\n",
       "            <td>11.879999999999999</td>\n",
       "            <td>2013</td>\n",
       "        </tr>\n",
       "        <tr>\n",
       "            <td>Nielsen</td>\n",
       "            <td>8.91</td>\n",
       "            <td>2013</td>\n",
       "        </tr>\n",
       "        <tr>\n",
       "            <td>O&#x27;Reilly</td>\n",
       "            <td>5.9399999999999995</td>\n",
       "            <td>2013</td>\n",
       "        </tr>\n",
       "        <tr>\n",
       "            <td>Pareek</td>\n",
       "            <td>11.89</td>\n",
       "            <td>2013</td>\n",
       "        </tr>\n",
       "        <tr>\n",
       "            <td>Peeters</td>\n",
       "            <td>5.9399999999999995</td>\n",
       "            <td>2013</td>\n",
       "        </tr>\n",
       "        <tr>\n",
       "            <td>Philips</td>\n",
       "            <td>15.84</td>\n",
       "            <td>2013</td>\n",
       "        </tr>\n",
       "        <tr>\n",
       "            <td>Ralston</td>\n",
       "            <td>0.99</td>\n",
       "            <td>2013</td>\n",
       "        </tr>\n",
       "        <tr>\n",
       "            <td>Rocha</td>\n",
       "            <td>0.99</td>\n",
       "            <td>2013</td>\n",
       "        </tr>\n",
       "        <tr>\n",
       "            <td>Sampaio</td>\n",
       "            <td>24.75</td>\n",
       "            <td>2013</td>\n",
       "        </tr>\n",
       "        <tr>\n",
       "            <td>Silk</td>\n",
       "            <td>15.84</td>\n",
       "            <td>2013</td>\n",
       "        </tr>\n",
       "        <tr>\n",
       "            <td>Stevens</td>\n",
       "            <td>5.9399999999999995</td>\n",
       "            <td>2013</td>\n",
       "        </tr>\n",
       "        <tr>\n",
       "            <td>Sullivan</td>\n",
       "            <td>11.879999999999999</td>\n",
       "            <td>2013</td>\n",
       "        </tr>\n",
       "        <tr>\n",
       "            <td>Tremblay</td>\n",
       "            <td>6.930000000000001</td>\n",
       "            <td>2013</td>\n",
       "        </tr>\n",
       "        <tr>\n",
       "            <td>Van der Berg</td>\n",
       "            <td>15.84</td>\n",
       "            <td>2013</td>\n",
       "        </tr>\n",
       "        <tr>\n",
       "            <td>Wichterlová</td>\n",
       "            <td>8.91</td>\n",
       "            <td>2013</td>\n",
       "        </tr>\n",
       "        <tr>\n",
       "            <td>Wójcik</td>\n",
       "            <td>0.99</td>\n",
       "            <td>2013</td>\n",
       "        </tr>\n",
       "        <tr>\n",
       "            <td>Zimmermann</td>\n",
       "            <td>9.9</td>\n",
       "            <td>2013</td>\n",
       "        </tr>\n",
       "    </tbody>\n",
       "</table>"
      ],
      "text/plain": [
       "[('Almeida', 11.879999999999999, '2013'),\n",
       " ('Barnett', 0.99, '2013'),\n",
       " ('Bernard', 22.77, '2013'),\n",
       " ('Brooks', 22.77, '2013'),\n",
       " ('Brown', 11.879999999999999, '2013'),\n",
       " ('Chase', 1.98, '2013'),\n",
       " ('Cunningham', 8.91, '2013'),\n",
       " ('Dubois', 6.930000000000001, '2013'),\n",
       " ('Francis', 8.91, '2013'),\n",
       " ('Girard', 1.98, '2013'),\n",
       " ('Gonçalves', 8.91, '2013'),\n",
       " ('Gordon', 1.98, '2013'),\n",
       " ('Gray', 15.84, '2013'),\n",
       " ('Gruber', 0.99, '2013'),\n",
       " ('Gutiérrez', 24.75, '2013'),\n",
       " ('Hansen', 1.98, '2013'),\n",
       " ('Harris', 9.9, '2013'),\n",
       " ('Holý', 27.84, '2013'),\n",
       " ('Hughes', 0.99, '2013'),\n",
       " ('Hämäläinen', 15.84, '2013'),\n",
       " ('Jones', 15.84, '2013'),\n",
       " ('Kovács', 0.99, '2013'),\n",
       " ('Leacock', 8.91, '2013'),\n",
       " ('Mancini', 8.91, '2013'),\n",
       " ('Martins', 15.84, '2013'),\n",
       " ('Mercier', 8.91, '2013'),\n",
       " ('Miller', 6.930000000000001, '2013'),\n",
       " ('Mitchell', 0.99, '2013'),\n",
       " ('Murray', 11.879999999999999, '2013'),\n",
       " ('Muñoz', 11.879999999999999, '2013'),\n",
       " ('Nielsen', 8.91, '2013'),\n",
       " (\"O'Reilly\", 5.9399999999999995, '2013'),\n",
       " ('Pareek', 11.89, '2013'),\n",
       " ('Peeters', 5.9399999999999995, '2013'),\n",
       " ('Philips', 15.84, '2013'),\n",
       " ('Ralston', 0.99, '2013'),\n",
       " ('Rocha', 0.99, '2013'),\n",
       " ('Sampaio', 24.75, '2013'),\n",
       " ('Silk', 15.84, '2013'),\n",
       " ('Stevens', 5.9399999999999995, '2013'),\n",
       " ('Sullivan', 11.879999999999999, '2013'),\n",
       " ('Tremblay', 6.930000000000001, '2013'),\n",
       " ('Van der Berg', 15.84, '2013'),\n",
       " ('Wichterlová', 8.91, '2013'),\n",
       " ('Wójcik', 0.99, '2013'),\n",
       " ('Zimmermann', 9.9, '2013')]"
      ]
     },
     "execution_count": 21,
     "metadata": {},
     "output_type": "execute_result"
    }
   ],
   "source": [
    "%%sql\n",
    "\n",
    "SELECT *\n",
    "FROM Customer_Billing_2013_View"
   ]
  },
  {
   "cell_type": "markdown",
   "id": "d244bc5d",
   "metadata": {},
   "source": [
    "Dropping the created **Customer_Billing_2013_View**"
   ]
  },
  {
   "cell_type": "code",
   "execution_count": 22,
   "id": "73cf8050",
   "metadata": {},
   "outputs": [
    {
     "name": "stdout",
     "output_type": "stream",
     "text": [
      " * sqlite:///data/chinook.db\n",
      "Done.\n"
     ]
    },
    {
     "data": {
      "text/plain": [
       "[]"
      ]
     },
     "execution_count": 22,
     "metadata": {},
     "output_type": "execute_result"
    }
   ],
   "source": [
    "%%sql\n",
    "\n",
    "DROP VIEW Customer_Billing_2013_View"
   ]
  }
 ],
 "metadata": {
  "kernelspec": {
   "display_name": "Python 3 (ipykernel)",
   "language": "python",
   "name": "python3"
  },
  "language_info": {
   "codemirror_mode": {
    "name": "ipython",
    "version": 3
   },
   "file_extension": ".py",
   "mimetype": "text/x-python",
   "name": "python",
   "nbconvert_exporter": "python",
   "pygments_lexer": "ipython3",
   "version": "3.11.0"
  }
 },
 "nbformat": 4,
 "nbformat_minor": 5
}
