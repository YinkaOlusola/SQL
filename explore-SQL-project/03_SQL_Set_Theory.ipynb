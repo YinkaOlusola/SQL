{
 "cells": [
  {
   "cell_type": "markdown",
   "metadata": {},
   "source": [
    "# Set Theory in SQL: Classlist Database\n",
    "#### © Explore Data Science Academy"
   ]
  },
  {
   "cell_type": "markdown",
   "metadata": {},
   "source": [
    "## Instructions to Students\n",
    "\n",
    "This challenge was designed to determine how much have been learned so far and to test knowledge on SQL SET Theory statements.\n",
    "\n",
    "Questions were provided which were answered using SQL Queries in attempt to test my understanding of the subject matter."
   ]
  },
  {
   "cell_type": "markdown",
   "metadata": {},
   "source": [
    "## Honour Code\n",
    "\n",
    "I YINKA, AKINDELE, confirm - by submitting this document - that the solutions in this notebook are a result of my own work and that I abided by the EDSA honour code.\n",
    "\n",
    "Non-compliance with the honour code constitutes a material breach of contract."
   ]
  },
  {
   "cell_type": "markdown",
   "metadata": {},
   "source": [
    "## The TMDb Database\n",
    "\n",
    "In this challenge I explored the [The Movie Database](https://www.themoviedb.org/) - an online movie and TV show database, which houses some of the most popular movies and TV shows at your finger tips. The TMDb database supports 39 official languages used in over 180 countries daily and dates all the way back to 2008. \n",
    "\n",
    "\n",
    "<img src=\"images/sql_tmdb.jpg\" width=80%/>\n",
    "\n",
    "\n",
    "Below is an Entity Relationship diagram(ERD) of the TMDb database:\n",
    "\n",
    "<img src=\"images/TMDB_ER_diagram.png\" width=70%/>\n",
    "\n",
    "As can be seen from the ER diagram, the TMDb database consists of `12 tables` containing information about movies, cast, genre and so much more.  \n",
    "\n",
    "\n",
    "\n",
    "#### Getting started!"
   ]
  },
  {
   "cell_type": "markdown",
   "metadata": {},
   "source": [
    "This challenge is designed test your knowledge on SQL SET theory statements. Based on the TMDb dataset."
   ]
  },
  {
   "cell_type": "markdown",
   "metadata": {},
   "source": [
    "## Loading the database\n",
    "\n",
    "The SQL environment was prepared by loading in the magic command below in order to use SQL queries.\n",
    "\n",
    "The database, TMDB.db, was then loaded into the SQL environment in the following cell.\n"
   ]
  },
  {
   "cell_type": "code",
   "execution_count": 1,
   "metadata": {},
   "outputs": [],
   "source": [
    "%load_ext sql"
   ]
  },
  {
   "cell_type": "code",
   "execution_count": 2,
   "metadata": {},
   "outputs": [],
   "source": [
    "%%sql \n",
    "\n",
    "sqlite:///data/classlist.db"
   ]
  },
  {
   "cell_type": "markdown",
   "metadata": {},
   "source": [
    "<br>\n",
    "<br>\n",
    "\n",
    "#### The query below was used to view all the tables in the database"
   ]
  },
  {
   "cell_type": "code",
   "execution_count": 3,
   "metadata": {},
   "outputs": [
    {
     "name": "stdout",
     "output_type": "stream",
     "text": [
      " * sqlite:///data/classlist.db\n",
      "Done.\n"
     ]
    },
    {
     "data": {
      "text/html": [
       "<table>\n",
       "    <thead>\n",
       "        <tr>\n",
       "            <th>name</th>\n",
       "        </tr>\n",
       "    </thead>\n",
       "    <tbody>\n",
       "        <tr>\n",
       "            <td>exammarks</td>\n",
       "        </tr>\n",
       "        <tr>\n",
       "            <td>supplementarymarks</td>\n",
       "        </tr>\n",
       "        <tr>\n",
       "            <td>sysdiagrams</td>\n",
       "        </tr>\n",
       "    </tbody>\n",
       "</table>"
      ],
      "text/plain": [
       "[('exammarks',), ('supplementarymarks',), ('sysdiagrams',)]"
      ]
     },
     "execution_count": 3,
     "metadata": {},
     "output_type": "execute_result"
    }
   ],
   "source": [
    "%%sql\n",
    "SELECT name FROM sqlite_master WHERE type IN ('table', 'view') AND name NOT LIKE 'sqlite_%' ORDER BY 1"
   ]
  },
  {
   "cell_type": "markdown",
   "metadata": {},
   "source": [
    "## Questions on Set Theory \n",
    "\n",
    "#### In the following cells, questions were provided that are to be answered from the database using set theory SQL queries."
   ]
  },
  {
   "cell_type": "markdown",
   "metadata": {},
   "source": [
    "### Question\n",
    "\n",
    "How many students did not write any of their final exams?"
   ]
  },
  {
   "cell_type": "markdown",
   "metadata": {},
   "source": [
    "**Solution**"
   ]
  },
  {
   "cell_type": "code",
   "execution_count": 4,
   "metadata": {},
   "outputs": [
    {
     "name": "stdout",
     "output_type": "stream",
     "text": [
      " * sqlite:///data/classlist.db\n",
      "Done.\n"
     ]
    },
    {
     "data": {
      "text/html": [
       "<table>\n",
       "    <thead>\n",
       "        <tr>\n",
       "            <th>StudentNo</th>\n",
       "            <th>Maths</th>\n",
       "            <th>Science</th>\n",
       "            <th>Biology</th>\n",
       "            <th>Accounting</th>\n",
       "            <th>CompSci</th>\n",
       "            <th>Number_of_students_that_did_not_write_any_final_exams</th>\n",
       "        </tr>\n",
       "    </thead>\n",
       "    <tbody>\n",
       "        <tr>\n",
       "            <td>DODJAM003</td>\n",
       "            <td>None</td>\n",
       "            <td>None</td>\n",
       "            <td>None</td>\n",
       "            <td>None</td>\n",
       "            <td>None</td>\n",
       "            <td>1</td>\n",
       "        </tr>\n",
       "    </tbody>\n",
       "</table>"
      ],
      "text/plain": [
       "[('DODJAM003', None, None, None, None, None, 1)]"
      ]
     },
     "execution_count": 4,
     "metadata": {},
     "output_type": "execute_result"
    }
   ],
   "source": [
    "%%sql\n",
    "\n",
    "SELECT StudentNo, Maths, Science, Biology, Accounting, CompSci, count(*) AS \"Number_of_students_that_did_not_write_any_final_exams\"\n",
    "FROM (SELECT StudentNo, Maths, Science, Biology, Accounting, CompSci\n",
    "FROM exammarks\n",
    "WHERE Maths is NULL\n",
    "AND Science is NULL\n",
    "AND Biology is NULL\n",
    "AND Accounting is NULL\n",
    "AND CompSci is NULL\n",
    "\n",
    "UNION\n",
    "\n",
    "SELECT StudentNo, Maths, Science, Biology, Accounting, CompSci\n",
    "FROM supplementarymarks\n",
    "WHERE Maths is NULL\n",
    "AND Science is NULL\n",
    "AND Biology is NULL\n",
    "AND Accounting is NULL\n",
    "AND CompSci is NULL)"
   ]
  },
  {
   "cell_type": "markdown",
   "metadata": {},
   "source": [
    "### Question\n",
    "\n",
    "What are the names of the students in the grade who scored the highest marks for Science?\n"
   ]
  },
  {
   "cell_type": "markdown",
   "metadata": {},
   "source": [
    "**Solution**"
   ]
  },
  {
   "cell_type": "code",
   "execution_count": 5,
   "metadata": {},
   "outputs": [
    {
     "name": "stdout",
     "output_type": "stream",
     "text": [
      " * sqlite:///data/classlist.db\n",
      "Done.\n"
     ]
    },
    {
     "data": {
      "text/html": [
       "<table>\n",
       "    <thead>\n",
       "        <tr>\n",
       "            <th>First_Name</th>\n",
       "            <th>Science_score</th>\n",
       "        </tr>\n",
       "    </thead>\n",
       "    <tbody>\n",
       "        <tr>\n",
       "            <td>CRAIG</td>\n",
       "            <td>100</td>\n",
       "        </tr>\n",
       "        <tr>\n",
       "            <td>DANIELLE</td>\n",
       "            <td>100</td>\n",
       "        </tr>\n",
       "        <tr>\n",
       "            <td>BILLIE</td>\n",
       "            <td>99</td>\n",
       "        </tr>\n",
       "        <tr>\n",
       "            <td>DUANE</td>\n",
       "            <td>99</td>\n",
       "        </tr>\n",
       "        <tr>\n",
       "            <td>JOE</td>\n",
       "            <td>97</td>\n",
       "        </tr>\n",
       "    </tbody>\n",
       "</table>"
      ],
      "text/plain": [
       "[('CRAIG', 100), ('DANIELLE', 100), ('BILLIE', 99), ('DUANE', 99), ('JOE', 97)]"
      ]
     },
     "execution_count": 5,
     "metadata": {},
     "output_type": "execute_result"
    }
   ],
   "source": [
    "%%sql\n",
    "\n",
    "SELECT Name AS \"First_Name\", Science AS \"Science_score\"\n",
    "FROM exammarks\n",
    "\n",
    "UNION\n",
    "\n",
    "SELECT Name AS \"First_Name\", Science AS \"Science_score\"\n",
    "FROM supplementarymarks\n",
    "\n",
    "ORDER BY Science DESC\n",
    "LIMIT 5;"
   ]
  },
  {
   "cell_type": "markdown",
   "metadata": {},
   "source": [
    "### Question\n",
    "\n",
    "How many students had to re-write their Maths and science exam? *(hint: a passing mark is considered to be 50 or greater)*"
   ]
  },
  {
   "cell_type": "markdown",
   "metadata": {},
   "source": [
    "**Solution**"
   ]
  },
  {
   "cell_type": "code",
   "execution_count": 6,
   "metadata": {},
   "outputs": [
    {
     "name": "stdout",
     "output_type": "stream",
     "text": [
      " * sqlite:///data/classlist.db\n",
      "Done.\n"
     ]
    },
    {
     "data": {
      "text/html": [
       "<table>\n",
       "    <thead>\n",
       "        <tr>\n",
       "            <th>Number_of_students_rewriting_Maths_and_Science</th>\n",
       "        </tr>\n",
       "    </thead>\n",
       "    <tbody>\n",
       "        <tr>\n",
       "            <td>4</td>\n",
       "        </tr>\n",
       "    </tbody>\n",
       "</table>"
      ],
      "text/plain": [
       "[(4,)]"
      ]
     },
     "execution_count": 6,
     "metadata": {},
     "output_type": "execute_result"
    }
   ],
   "source": [
    "%%sql\n",
    "\n",
    "SELECT count(*) AS \"Number_of_students_rewriting_Maths_and_Science\"\n",
    "FROM (SELECT Maths, Science\n",
    "FROM exammarks\n",
    "WHERE Maths < 50\n",
    "AND Science < 50)"
   ]
  },
  {
   "cell_type": "markdown",
   "metadata": {},
   "source": [
    "### Question\n",
    "\n",
    "What was the average mark, rounded down, for students who wrote the supplementary accounting exam after missing the first?"
   ]
  },
  {
   "cell_type": "markdown",
   "metadata": {},
   "source": [
    "**Solution**"
   ]
  },
  {
   "cell_type": "code",
   "execution_count": 7,
   "metadata": {},
   "outputs": [
    {
     "name": "stdout",
     "output_type": "stream",
     "text": [
      " * sqlite:///data/classlist.db\n",
      "Done.\n"
     ]
    },
    {
     "data": {
      "text/html": [
       "<table>\n",
       "    <thead>\n",
       "        <tr>\n",
       "            <th>round(avg(sm.Accounting)-0.5)</th>\n",
       "        </tr>\n",
       "    </thead>\n",
       "    <tbody>\n",
       "        <tr>\n",
       "            <td>76.0</td>\n",
       "        </tr>\n",
       "    </tbody>\n",
       "</table>"
      ],
      "text/plain": [
       "[(76.0,)]"
      ]
     },
     "execution_count": 7,
     "metadata": {},
     "output_type": "execute_result"
    }
   ],
   "source": [
    "%%sql\n",
    "\n",
    "SELECT round(avg(sm.Accounting)-0.5)\n",
    "FROM supplementarymarks sm\n",
    "LEFT OUTER JOIN exammarks em\n",
    "ON sm.StudentNo = em.StudentNo\n",
    "WHERE NOT EXISTS\n",
    "      (SELECT *\n",
    "       FROM ExamMarks\n",
    "       WHERE sm.StudentNo = em.StudentNo)"
   ]
  },
  {
   "cell_type": "markdown",
   "metadata": {},
   "source": [
    "### Question\n",
    "\n",
    "What was the average mark, rounded down, for students who wrote the supplementary accounting exam after failing the first?\n"
   ]
  },
  {
   "cell_type": "markdown",
   "metadata": {},
   "source": [
    "**Solution**"
   ]
  },
  {
   "cell_type": "code",
   "execution_count": 8,
   "metadata": {},
   "outputs": [
    {
     "name": "stdout",
     "output_type": "stream",
     "text": [
      " * sqlite:///data/classlist.db\n",
      "Done.\n"
     ]
    },
    {
     "data": {
      "text/html": [
       "<table>\n",
       "    <thead>\n",
       "        <tr>\n",
       "            <th>FLOOR(avg(s.Accounting))</th>\n",
       "        </tr>\n",
       "    </thead>\n",
       "    <tbody>\n",
       "        <tr>\n",
       "            <td>73</td>\n",
       "        </tr>\n",
       "    </tbody>\n",
       "</table>"
      ],
      "text/plain": [
       "[(73,)]"
      ]
     },
     "execution_count": 8,
     "metadata": {},
     "output_type": "execute_result"
    }
   ],
   "source": [
    "%%sql\n",
    "\n",
    "SELECT FLOOR(avg(s.Accounting))\n",
    "FROM supplementarymarks s, exammarks e\n",
    "WHERE e.Accounting < 50 "
   ]
  },
  {
   "cell_type": "markdown",
   "metadata": {},
   "source": [
    "### Question\n",
    "\n",
    "What is the Full name of the student in the grade who scored the highest mark for Biology? *(hint: consider both supplementary and exam marks)*\n"
   ]
  },
  {
   "cell_type": "markdown",
   "metadata": {},
   "source": [
    "**Solution**"
   ]
  },
  {
   "cell_type": "code",
   "execution_count": 9,
   "metadata": {},
   "outputs": [
    {
     "name": "stdout",
     "output_type": "stream",
     "text": [
      " * sqlite:///data/classlist.db\n",
      "Done.\n"
     ]
    },
    {
     "data": {
      "text/html": [
       "<table>\n",
       "    <thead>\n",
       "        <tr>\n",
       "            <th>Full Name</th>\n",
       "            <th>Biology_Score</th>\n",
       "        </tr>\n",
       "    </thead>\n",
       "    <tbody>\n",
       "        <tr>\n",
       "            <td>TRACY GRADY</td>\n",
       "            <td>99</td>\n",
       "        </tr>\n",
       "        <tr>\n",
       "            <td>BERTHA HOFF</td>\n",
       "            <td>98</td>\n",
       "        </tr>\n",
       "    </tbody>\n",
       "</table>"
      ],
      "text/plain": [
       "[('TRACY GRADY', 99), ('BERTHA HOFF', 98)]"
      ]
     },
     "execution_count": 9,
     "metadata": {},
     "output_type": "execute_result"
    }
   ],
   "source": [
    "%%sql\n",
    "\n",
    "SELECT Name || \" \"|| Surname AS \"Full Name\", Biology AS \"Biology_Score\"\n",
    "FROM exammarks\n",
    "\n",
    "UNION\n",
    "\n",
    "SELECT Name || \" \"|| Surname AS \"Full Name\", Biology AS \"Biology_Score\"\n",
    "FROM supplementarymarks\n",
    "\n",
    "ORDER BY Biology DESC\n",
    "LIMIT 2;"
   ]
  },
  {
   "cell_type": "markdown",
   "metadata": {},
   "source": [
    "### Question\n",
    "\n",
    "Assuming all subjects are weighted equally, what was the average total mark, rounded down, for students who didn’t write any supplementary exams?\n",
    "\n",
    " \n",
    " correct answer 74"
   ]
  },
  {
   "cell_type": "markdown",
   "metadata": {},
   "source": [
    "**Solution**"
   ]
  },
  {
   "cell_type": "code",
   "execution_count": 10,
   "metadata": {},
   "outputs": [
    {
     "name": "stdout",
     "output_type": "stream",
     "text": [
      " * sqlite:///data/classlist.db\n",
      "Done.\n"
     ]
    },
    {
     "data": {
      "text/html": [
       "<table>\n",
       "    <thead>\n",
       "        <tr>\n",
       "            <th>Average_of_those_who_didn&#x27;t_write_any_supplementary_exams</th>\n",
       "        </tr>\n",
       "    </thead>\n",
       "    <tbody>\n",
       "        <tr>\n",
       "            <td>74</td>\n",
       "        </tr>\n",
       "    </tbody>\n",
       "</table>"
      ],
      "text/plain": [
       "[(74,)]"
      ]
     },
     "execution_count": 10,
     "metadata": {},
     "output_type": "execute_result"
    }
   ],
   "source": [
    "%%sql\n",
    "\n",
    "SELECT FLOOR(avg((e.Maths + e.Science + e.Biology + e.Accounting + e.CompSci)/5)) AS \"Average_of_those_who_didn't_write_any_supplementary_exams\"\n",
    "FROM exammarks e\n",
    "WHERE NOT EXISTS\n",
    "(\n",
    "    SELECT *\n",
    "    FROM supplementarymarks s\n",
    "    WHERE s.StudentNo = e.StudentNo\n",
    ")"
   ]
  },
  {
   "cell_type": "code",
   "execution_count": null,
   "metadata": {},
   "outputs": [],
   "source": []
  }
 ],
 "metadata": {
  "kernelspec": {
   "display_name": "Python 3 (ipykernel)",
   "language": "python",
   "name": "python3"
  },
  "language_info": {
   "codemirror_mode": {
    "name": "ipython",
    "version": 3
   },
   "file_extension": ".py",
   "mimetype": "text/x-python",
   "name": "python",
   "nbconvert_exporter": "python",
   "pygments_lexer": "ipython3",
   "version": "3.11.0"
  }
 },
 "nbformat": 4,
 "nbformat_minor": 2
}
