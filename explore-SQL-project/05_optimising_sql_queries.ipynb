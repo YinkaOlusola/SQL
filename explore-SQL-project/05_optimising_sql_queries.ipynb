{
 "cells": [
  {
   "cell_type": "markdown",
   "id": "a250287f",
   "metadata": {},
   "source": [
    "# Optimized SQL queries Exercise: Flight Database\n",
    "#### © Explore Data Science Academy"
   ]
  },
  {
   "cell_type": "markdown",
   "id": "e16e4f1f",
   "metadata": {},
   "source": [
    "## Instructions to Students\n",
    "\n",
    "#### This challenge was designed to determine how much have been learned so far and to test the knowledge of Optimised SQL queries. \n",
    "\n",
    "Questions were provided which were answered using optimized SQL Queries in attempt to test my understanding of the subject matter."
   ]
  },
  {
   "cell_type": "markdown",
   "id": "07f1dc4a",
   "metadata": {},
   "source": [
    "## Honour Code\n",
    "\n",
    "I YINKA, AKINDELE, confirm - by submitting this document - that the solutions in this notebook are a result of my own work and that I abide by the EDSA honour code.\n",
    "\n",
    "Non-compliance with the honour code constitutes a material breach of contract."
   ]
  },
  {
   "cell_type": "markdown",
   "id": "c065f956",
   "metadata": {},
   "source": [
    "## US Flights Database\n",
    "In this train, we used the US Flights database with actual US flights data to illustrate the optimisation techniques with large amounts of data. The flights database consist of the following tables:\n",
    "\n",
    "- **flights**:     all domestic flights in the USA in 2008\n",
    "- **carriers**:     lookup table for all the carriers\n",
    "- **airports**:     lookup table for all the airports\n",
    "- **planes**:     lookup table for the planes\n",
    "\n",
    "For convenience, the flights database ER diagram is provided below:\n",
    "\n",
    "\n",
    "\n",
    "<img src=\"images/flights_db_ER.png\" width=30% align=\"center\">"
   ]
  },
  {
   "cell_type": "code",
   "execution_count": 1,
   "id": "06c6e91b",
   "metadata": {},
   "outputs": [],
   "source": [
    "%load_ext sql"
   ]
  },
  {
   "cell_type": "code",
   "execution_count": 2,
   "id": "9352d02c",
   "metadata": {},
   "outputs": [],
   "source": [
    "%sql sqlite:///data/flights.db"
   ]
  },
  {
   "cell_type": "markdown",
   "id": "b247748b",
   "metadata": {},
   "source": [
    "<br>\n",
    "<br>\n",
    "\n",
    "#### The query below was used to view all the tables in the database"
   ]
  },
  {
   "cell_type": "code",
   "execution_count": 3,
   "id": "7fe478f0",
   "metadata": {},
   "outputs": [
    {
     "name": "stdout",
     "output_type": "stream",
     "text": [
      " * sqlite:///data/flights.db\n",
      "Done.\n"
     ]
    },
    {
     "data": {
      "text/html": [
       "<table>\n",
       "    <thead>\n",
       "        <tr>\n",
       "            <th>name</th>\n",
       "        </tr>\n",
       "    </thead>\n",
       "    <tbody>\n",
       "        <tr>\n",
       "            <td>airports</td>\n",
       "        </tr>\n",
       "        <tr>\n",
       "            <td>carriers</td>\n",
       "        </tr>\n",
       "        <tr>\n",
       "            <td>flights</td>\n",
       "        </tr>\n",
       "        <tr>\n",
       "            <td>planes</td>\n",
       "        </tr>\n",
       "        <tr>\n",
       "            <td>sysdiagrams</td>\n",
       "        </tr>\n",
       "    </tbody>\n",
       "</table>"
      ],
      "text/plain": [
       "[('airports',), ('carriers',), ('flights',), ('planes',), ('sysdiagrams',)]"
      ]
     },
     "execution_count": 3,
     "metadata": {},
     "output_type": "execute_result"
    }
   ],
   "source": [
    "%%sql\n",
    "SELECT name FROM sqlite_master WHERE type IN ('table', 'view') AND name NOT LIKE 'sqlite_%' ORDER BY 1"
   ]
  },
  {
   "cell_type": "markdown",
   "id": "796cb36d",
   "metadata": {},
   "source": [
    "<br>\n",
    "\n",
    "**A query to view the flights table**"
   ]
  },
  {
   "cell_type": "code",
   "execution_count": 4,
   "id": "c02add08",
   "metadata": {},
   "outputs": [
    {
     "name": "stdout",
     "output_type": "stream",
     "text": [
      " * sqlite:///data/flights.db\n",
      "Done.\n"
     ]
    },
    {
     "data": {
      "text/html": [
       "<table>\n",
       "    <thead>\n",
       "        <tr>\n",
       "            <th>index</th>\n",
       "            <th>Date</th>\n",
       "            <th>DayOfWeek</th>\n",
       "            <th>DepTime</th>\n",
       "            <th>CRSDepTime</th>\n",
       "            <th>ArrTime</th>\n",
       "            <th>CRSArrTime</th>\n",
       "            <th>UniqueCarrier</th>\n",
       "            <th>FlightNum</th>\n",
       "            <th>TailNum</th>\n",
       "            <th>ActualElapsedTime</th>\n",
       "            <th>CRSElapsedTime</th>\n",
       "            <th>AirTime</th>\n",
       "            <th>ArrDelay</th>\n",
       "            <th>DepDelay</th>\n",
       "            <th>Origin</th>\n",
       "            <th>Dest</th>\n",
       "            <th>Distance</th>\n",
       "            <th>TaxiIn</th>\n",
       "            <th>TaxiOut</th>\n",
       "            <th>Cancelled</th>\n",
       "            <th>CancellationCode</th>\n",
       "            <th>Diverted</th>\n",
       "            <th>CarrierDelay</th>\n",
       "            <th>WeatherDelay</th>\n",
       "            <th>NASDelay</th>\n",
       "            <th>SecurityDelay</th>\n",
       "            <th>LateAircraftDelay</th>\n",
       "        </tr>\n",
       "    </thead>\n",
       "    <tbody>\n",
       "        <tr>\n",
       "            <td>0</td>\n",
       "            <td>2008/1/3</td>\n",
       "            <td>4</td>\n",
       "            <td>2003.0</td>\n",
       "            <td>1955</td>\n",
       "            <td>2211.0</td>\n",
       "            <td>2225</td>\n",
       "            <td>WN</td>\n",
       "            <td>335</td>\n",
       "            <td>N712SW</td>\n",
       "            <td>128.0</td>\n",
       "            <td>150</td>\n",
       "            <td>116.0</td>\n",
       "            <td>-14.0</td>\n",
       "            <td>8.0</td>\n",
       "            <td>IAD</td>\n",
       "            <td>TPA</td>\n",
       "            <td>810</td>\n",
       "            <td>4</td>\n",
       "            <td>8</td>\n",
       "            <td>0</td>\n",
       "            <td>None</td>\n",
       "            <td>0</td>\n",
       "            <td>None</td>\n",
       "            <td>None</td>\n",
       "            <td>None</td>\n",
       "            <td>None</td>\n",
       "            <td>None</td>\n",
       "        </tr>\n",
       "        <tr>\n",
       "            <td>1</td>\n",
       "            <td>2008/1/3</td>\n",
       "            <td>4</td>\n",
       "            <td>754.0</td>\n",
       "            <td>735</td>\n",
       "            <td>1002.0</td>\n",
       "            <td>1000</td>\n",
       "            <td>WN</td>\n",
       "            <td>3231</td>\n",
       "            <td>N772SW</td>\n",
       "            <td>128.0</td>\n",
       "            <td>145</td>\n",
       "            <td>113.0</td>\n",
       "            <td>2.0</td>\n",
       "            <td>19.0</td>\n",
       "            <td>IAD</td>\n",
       "            <td>TPA</td>\n",
       "            <td>810</td>\n",
       "            <td>5</td>\n",
       "            <td>10</td>\n",
       "            <td>0</td>\n",
       "            <td>None</td>\n",
       "            <td>0</td>\n",
       "            <td>None</td>\n",
       "            <td>None</td>\n",
       "            <td>None</td>\n",
       "            <td>None</td>\n",
       "            <td>None</td>\n",
       "        </tr>\n",
       "        <tr>\n",
       "            <td>2</td>\n",
       "            <td>2008/1/3</td>\n",
       "            <td>4</td>\n",
       "            <td>628.0</td>\n",
       "            <td>620</td>\n",
       "            <td>804.0</td>\n",
       "            <td>750</td>\n",
       "            <td>WN</td>\n",
       "            <td>448</td>\n",
       "            <td>N428WN</td>\n",
       "            <td>96.0</td>\n",
       "            <td>90</td>\n",
       "            <td>76.0</td>\n",
       "            <td>14.0</td>\n",
       "            <td>8.0</td>\n",
       "            <td>IND</td>\n",
       "            <td>BWI</td>\n",
       "            <td>515</td>\n",
       "            <td>3</td>\n",
       "            <td>17</td>\n",
       "            <td>0</td>\n",
       "            <td>None</td>\n",
       "            <td>0</td>\n",
       "            <td>None</td>\n",
       "            <td>None</td>\n",
       "            <td>None</td>\n",
       "            <td>None</td>\n",
       "            <td>None</td>\n",
       "        </tr>\n",
       "        <tr>\n",
       "            <td>3</td>\n",
       "            <td>2008/1/3</td>\n",
       "            <td>4</td>\n",
       "            <td>926.0</td>\n",
       "            <td>930</td>\n",
       "            <td>1054.0</td>\n",
       "            <td>1100</td>\n",
       "            <td>WN</td>\n",
       "            <td>1746</td>\n",
       "            <td>N612SW</td>\n",
       "            <td>88.0</td>\n",
       "            <td>90</td>\n",
       "            <td>78.0</td>\n",
       "            <td>-6.0</td>\n",
       "            <td>-4.0</td>\n",
       "            <td>IND</td>\n",
       "            <td>BWI</td>\n",
       "            <td>515</td>\n",
       "            <td>3</td>\n",
       "            <td>7</td>\n",
       "            <td>0</td>\n",
       "            <td>None</td>\n",
       "            <td>0</td>\n",
       "            <td>None</td>\n",
       "            <td>None</td>\n",
       "            <td>None</td>\n",
       "            <td>None</td>\n",
       "            <td>None</td>\n",
       "        </tr>\n",
       "        <tr>\n",
       "            <td>4</td>\n",
       "            <td>2008/1/3</td>\n",
       "            <td>4</td>\n",
       "            <td>1829.0</td>\n",
       "            <td>1755</td>\n",
       "            <td>1959.0</td>\n",
       "            <td>1925</td>\n",
       "            <td>WN</td>\n",
       "            <td>3920</td>\n",
       "            <td>N464WN</td>\n",
       "            <td>90.0</td>\n",
       "            <td>90</td>\n",
       "            <td>77.0</td>\n",
       "            <td>34.0</td>\n",
       "            <td>34.0</td>\n",
       "            <td>IND</td>\n",
       "            <td>BWI</td>\n",
       "            <td>515</td>\n",
       "            <td>3</td>\n",
       "            <td>10</td>\n",
       "            <td>0</td>\n",
       "            <td>None</td>\n",
       "            <td>0</td>\n",
       "            <td>2</td>\n",
       "            <td>0</td>\n",
       "            <td>0</td>\n",
       "            <td>0</td>\n",
       "            <td>32</td>\n",
       "        </tr>\n",
       "    </tbody>\n",
       "</table>"
      ],
      "text/plain": [
       "[(0, '2008/1/3', 4, 2003.0, '1955', 2211.0, '2225', 'WN', '335', 'N712SW', 128.0, '150', '116.0', -14.0, 8.0, 'IAD', 'TPA', 810, '4', '8', '0', None, '0', None, None, None, None, None),\n",
       " (1, '2008/1/3', 4, 754.0, '735', 1002.0, '1000', 'WN', '3231', 'N772SW', 128.0, '145', '113.0', 2.0, 19.0, 'IAD', 'TPA', 810, '5', '10', '0', None, '0', None, None, None, None, None),\n",
       " (2, '2008/1/3', 4, 628.0, '620', 804.0, '750', 'WN', '448', 'N428WN', 96.0, '90', '76.0', 14.0, 8.0, 'IND', 'BWI', 515, '3', '17', '0', None, '0', None, None, None, None, None),\n",
       " (3, '2008/1/3', 4, 926.0, '930', 1054.0, '1100', 'WN', '1746', 'N612SW', 88.0, '90', '78.0', -6.0, -4.0, 'IND', 'BWI', 515, '3', '7', '0', None, '0', None, None, None, None, None),\n",
       " (4, '2008/1/3', 4, 1829.0, '1755', 1959.0, '1925', 'WN', '3920', 'N464WN', 90.0, '90', '77.0', 34.0, 34.0, 'IND', 'BWI', 515, '3', '10', '0', None, '0', '2', '0', '0', '0', '32')]"
      ]
     },
     "execution_count": 4,
     "metadata": {},
     "output_type": "execute_result"
    }
   ],
   "source": [
    "%%sql\n",
    "\n",
    "SELECT *\n",
    "FROM flights\n",
    "LIMIT 5;"
   ]
  },
  {
   "cell_type": "markdown",
   "id": "4dea3f28",
   "metadata": {},
   "source": [
    "<br>\n",
    "<br>\n",
    "\n",
    "### Question\n",
    "How many different carriers are there in total in the database?"
   ]
  },
  {
   "cell_type": "markdown",
   "id": "5a6d4cf1",
   "metadata": {},
   "source": [
    "### Solution"
   ]
  },
  {
   "cell_type": "code",
   "execution_count": 5,
   "id": "96b6be25",
   "metadata": {},
   "outputs": [
    {
     "name": "stdout",
     "output_type": "stream",
     "text": [
      " * sqlite:///data/flights.db\n",
      "Done.\n"
     ]
    },
    {
     "data": {
      "text/html": [
       "<table>\n",
       "    <thead>\n",
       "        <tr>\n",
       "            <th>Number_of_carriers_in_database</th>\n",
       "        </tr>\n",
       "    </thead>\n",
       "    <tbody>\n",
       "        <tr>\n",
       "            <td>1491</td>\n",
       "        </tr>\n",
       "    </tbody>\n",
       "</table>"
      ],
      "text/plain": [
       "[(1491,)]"
      ]
     },
     "execution_count": 5,
     "metadata": {},
     "output_type": "execute_result"
    }
   ],
   "source": [
    "%%sql\n",
    "\n",
    "SELECT COUNT(DISTINCT Description) AS \"Number_of_carriers_in_database\"\n",
    "FROM carriers"
   ]
  },
  {
   "cell_type": "markdown",
   "id": "aa3fe551",
   "metadata": {},
   "source": [
    "<br>\n",
    "<br>\n",
    "\n",
    "### Question\n",
    "How long was the longest delay before departure?"
   ]
  },
  {
   "cell_type": "markdown",
   "id": "56be785d",
   "metadata": {},
   "source": [
    "### Solution"
   ]
  },
  {
   "cell_type": "code",
   "execution_count": 6,
   "id": "90301faf",
   "metadata": {},
   "outputs": [
    {
     "name": "stdout",
     "output_type": "stream",
     "text": [
      " * sqlite:///data/flights.db\n",
      "Done.\n"
     ]
    },
    {
     "data": {
      "text/html": [
       "<table>\n",
       "    <thead>\n",
       "        <tr>\n",
       "            <th>Maximum_departure_delay</th>\n",
       "        </tr>\n",
       "    </thead>\n",
       "    <tbody>\n",
       "        <tr>\n",
       "            <td>1355.0</td>\n",
       "        </tr>\n",
       "    </tbody>\n",
       "</table>"
      ],
      "text/plain": [
       "[(1355.0,)]"
      ]
     },
     "execution_count": 6,
     "metadata": {},
     "output_type": "execute_result"
    }
   ],
   "source": [
    "%%sql\n",
    "\n",
    "SELECT max(DepDelay) AS \"Maximum_departure_delay\"\n",
    "FROM flights"
   ]
  },
  {
   "cell_type": "markdown",
   "id": "d7ad0fe5",
   "metadata": {},
   "source": [
    "<br>\n",
    "<br>\n",
    "\n",
    "### Question\n",
    "How many flights departed on the 28th of January 2008?"
   ]
  },
  {
   "cell_type": "markdown",
   "id": "2809f227",
   "metadata": {},
   "source": [
    "### Solution"
   ]
  },
  {
   "cell_type": "code",
   "execution_count": 7,
   "id": "099aa7a0",
   "metadata": {},
   "outputs": [
    {
     "name": "stdout",
     "output_type": "stream",
     "text": [
      " * sqlite:///data/flights.db\n",
      "Done.\n"
     ]
    },
    {
     "data": {
      "text/html": [
       "<table>\n",
       "    <thead>\n",
       "        <tr>\n",
       "            <th>Number_of_departed_flights_on_28_01_2008</th>\n",
       "        </tr>\n",
       "    </thead>\n",
       "    <tbody>\n",
       "        <tr>\n",
       "            <td>19495</td>\n",
       "        </tr>\n",
       "    </tbody>\n",
       "</table>"
      ],
      "text/plain": [
       "[(19495,)]"
      ]
     },
     "execution_count": 7,
     "metadata": {},
     "output_type": "execute_result"
    }
   ],
   "source": [
    "%%sql\n",
    "\n",
    "SELECT COUNT(*) AS \"Number_of_departed_flights_on_28_01_2008\"\n",
    "FROM flights\n",
    "WHERE Date = '2008/1/28'\n",
    "AND Cancelled <> 1"
   ]
  },
  {
   "cell_type": "markdown",
   "id": "ba147ab7",
   "metadata": {},
   "source": [
    "<br>\n",
    "<br>\n",
    "\n",
    "### Question\n",
    "What is the distance between Midway Airport (MDW) and Houston Airport (HOU)?"
   ]
  },
  {
   "cell_type": "markdown",
   "id": "9a8f40b2",
   "metadata": {},
   "source": [
    "### Solution"
   ]
  },
  {
   "cell_type": "code",
   "execution_count": 8,
   "id": "bb6b4174",
   "metadata": {},
   "outputs": [
    {
     "name": "stdout",
     "output_type": "stream",
     "text": [
      " * sqlite:///data/flights.db\n",
      "Done.\n"
     ]
    },
    {
     "data": {
      "text/html": [
       "<table>\n",
       "    <thead>\n",
       "        <tr>\n",
       "            <th>Distance_btw_Midway_and_Houston_Airport</th>\n",
       "        </tr>\n",
       "    </thead>\n",
       "    <tbody>\n",
       "        <tr>\n",
       "            <td>937</td>\n",
       "        </tr>\n",
       "    </tbody>\n",
       "</table>"
      ],
      "text/plain": [
       "[(937,)]"
      ]
     },
     "execution_count": 8,
     "metadata": {},
     "output_type": "execute_result"
    }
   ],
   "source": [
    "%%sql\n",
    "\n",
    "SELECT Distance AS \"Distance_btw_Midway_and_Houston_Airport\"\n",
    "FROM flights\n",
    "WHERE Origin = 'MDW'\n",
    "AND Dest = 'HOU'\n",
    "LIMIT 1;"
   ]
  },
  {
   "cell_type": "markdown",
   "id": "0afa33dd",
   "metadata": {},
   "source": [
    "<br>\n",
    "<br>\n",
    "\n",
    "### Question\n",
    "Which day of the week had the highest number of cancelled flights? (Where, 1 = cancelled , 0 = not cancelled)"
   ]
  },
  {
   "cell_type": "markdown",
   "id": "2d3ff998",
   "metadata": {},
   "source": [
    "### Solution"
   ]
  },
  {
   "cell_type": "code",
   "execution_count": 9,
   "id": "9fc671b7",
   "metadata": {},
   "outputs": [
    {
     "name": "stdout",
     "output_type": "stream",
     "text": [
      " * sqlite:///data/flights.db\n",
      "Done.\n"
     ]
    },
    {
     "data": {
      "text/html": [
       "<table>\n",
       "    <thead>\n",
       "        <tr>\n",
       "            <th>DayOfWeek</th>\n",
       "            <th>Number of cancelled flight per day</th>\n",
       "        </tr>\n",
       "    </thead>\n",
       "    <tbody>\n",
       "        <tr>\n",
       "            <td>4</td>\n",
       "            <td>3093</td>\n",
       "        </tr>\n",
       "        <tr>\n",
       "            <td>2</td>\n",
       "            <td>2993</td>\n",
       "        </tr>\n",
       "        <tr>\n",
       "            <td>3</td>\n",
       "            <td>2645</td>\n",
       "        </tr>\n",
       "        <tr>\n",
       "            <td>1</td>\n",
       "            <td>2617</td>\n",
       "        </tr>\n",
       "        <tr>\n",
       "            <td>5</td>\n",
       "            <td>2049</td>\n",
       "        </tr>\n",
       "        <tr>\n",
       "            <td>6</td>\n",
       "            <td>1984</td>\n",
       "        </tr>\n",
       "        <tr>\n",
       "            <td>7</td>\n",
       "            <td>1927</td>\n",
       "        </tr>\n",
       "    </tbody>\n",
       "</table>"
      ],
      "text/plain": [
       "[(4, 3093), (2, 2993), (3, 2645), (1, 2617), (5, 2049), (6, 1984), (7, 1927)]"
      ]
     },
     "execution_count": 9,
     "metadata": {},
     "output_type": "execute_result"
    }
   ],
   "source": [
    "%%sql\n",
    "\n",
    "SELECT DayOfWeek, COUNT(Cancelled) AS 'Number of cancelled flight per day'\n",
    "FROM flights\n",
    "WHERE Cancelled = 1\n",
    "GROUP BY DayOfWeek\n",
    "ORDER BY [Number of cancelled flight per day] DESC"
   ]
  },
  {
   "cell_type": "markdown",
   "id": "259d9a68",
   "metadata": {},
   "source": [
    "<br>\n",
    "<br>\n",
    "\n",
    "### Question\n",
    "How many airports have the word \"International\" in their name?"
   ]
  },
  {
   "cell_type": "markdown",
   "id": "8c7088bc",
   "metadata": {},
   "source": [
    "### Solution"
   ]
  },
  {
   "cell_type": "code",
   "execution_count": 10,
   "id": "b5f0f8f2",
   "metadata": {},
   "outputs": [
    {
     "name": "stdout",
     "output_type": "stream",
     "text": [
      " * sqlite:///data/flights.db\n",
      "Done.\n"
     ]
    },
    {
     "data": {
      "text/html": [
       "<table>\n",
       "    <thead>\n",
       "        <tr>\n",
       "            <th>Number_of_Airport_with_international_in_their_names</th>\n",
       "        </tr>\n",
       "    </thead>\n",
       "    <tbody>\n",
       "        <tr>\n",
       "            <td>124</td>\n",
       "        </tr>\n",
       "    </tbody>\n",
       "</table>"
      ],
      "text/plain": [
       "[(124,)]"
      ]
     },
     "execution_count": 10,
     "metadata": {},
     "output_type": "execute_result"
    }
   ],
   "source": [
    "%%sql\n",
    "\n",
    "SELECT COUNT(airport) AS \"Number_of_Airport_with_international_in_their_names\"\n",
    "FROM airports\n",
    "WHERE LOWER(airport) LIKE '%international%'"
   ]
  },
  {
   "cell_type": "markdown",
   "id": "8c529d80",
   "metadata": {},
   "source": [
    "<br>\n",
    "<br>\n",
    "\n",
    "### Question\n",
    "What is the most commonly produced model by the manufacturer \"BOEING\"?"
   ]
  },
  {
   "cell_type": "markdown",
   "id": "73d64240",
   "metadata": {},
   "source": [
    "### Solution"
   ]
  },
  {
   "cell_type": "code",
   "execution_count": 11,
   "id": "f52258ba",
   "metadata": {},
   "outputs": [
    {
     "name": "stdout",
     "output_type": "stream",
     "text": [
      " * sqlite:///data/flights.db\n",
      "Done.\n"
     ]
    },
    {
     "data": {
      "text/html": [
       "<table>\n",
       "    <thead>\n",
       "        <tr>\n",
       "            <th>Model</th>\n",
       "            <th>Number_of_Model</th>\n",
       "        </tr>\n",
       "    </thead>\n",
       "    <tbody>\n",
       "        <tr>\n",
       "            <td>737-7H4</td>\n",
       "            <td>308</td>\n",
       "        </tr>\n",
       "        <tr>\n",
       "            <td>737-3H4</td>\n",
       "            <td>147</td>\n",
       "        </tr>\n",
       "        <tr>\n",
       "            <td>757-232</td>\n",
       "            <td>112</td>\n",
       "        </tr>\n",
       "        <tr>\n",
       "            <td>737-824</td>\n",
       "            <td>100</td>\n",
       "        </tr>\n",
       "        <tr>\n",
       "            <td>717-200</td>\n",
       "            <td>98</td>\n",
       "        </tr>\n",
       "    </tbody>\n",
       "</table>"
      ],
      "text/plain": [
       "[('737-7H4', 308),\n",
       " ('737-3H4', 147),\n",
       " ('757-232', 112),\n",
       " ('737-824', 100),\n",
       " ('717-200', 98)]"
      ]
     },
     "execution_count": 11,
     "metadata": {},
     "output_type": "execute_result"
    }
   ],
   "source": [
    "%%sql\n",
    "\n",
    "SELECT model AS \"Model\", COUNT(model) AS \"Number_of_Model\"\n",
    "FROM planes\n",
    "WHERE LOWER(manufacturer) = 'boeing'\n",
    "GROUP BY model\n",
    "ORDER BY [Number_of_Model] DESC\n",
    "LIMIT 5;"
   ]
  },
  {
   "cell_type": "markdown",
   "id": "a8267c98",
   "metadata": {},
   "source": [
    "<br>\n",
    "<br>\n",
    "\n",
    "### Question\n",
    "What manufacturer had the highest average delay time (DepDelay + ArrDelay)?"
   ]
  },
  {
   "cell_type": "markdown",
   "id": "1fa97781",
   "metadata": {},
   "source": [
    "### Solution"
   ]
  },
  {
   "cell_type": "code",
   "execution_count": 12,
   "id": "cd83429f",
   "metadata": {},
   "outputs": [
    {
     "name": "stdout",
     "output_type": "stream",
     "text": [
      " * sqlite:///data/flights.db\n",
      "Done.\n"
     ]
    },
    {
     "data": {
      "text/html": [
       "<table>\n",
       "    <thead>\n",
       "        <tr>\n",
       "            <th>Manufacturer</th>\n",
       "            <th>Manufacturer_with_max_Average_DelayTime</th>\n",
       "        </tr>\n",
       "    </thead>\n",
       "    <tbody>\n",
       "        <tr>\n",
       "            <td>AVIAT AIRCRAFT INC</td>\n",
       "            <td>46.18867924528302</td>\n",
       "        </tr>\n",
       "        <tr>\n",
       "            <td>GULFSTREAM AEROSPACE</td>\n",
       "            <td>36.96</td>\n",
       "        </tr>\n",
       "        <tr>\n",
       "            <td>SIKORSKY</td>\n",
       "            <td>36.56944444444444</td>\n",
       "        </tr>\n",
       "        <tr>\n",
       "            <td>FRIEDEMANN JON</td>\n",
       "            <td>33.76521739130435</td>\n",
       "        </tr>\n",
       "        <tr>\n",
       "            <td>LEBLANC GLENN T</td>\n",
       "            <td>33.60769230769231</td>\n",
       "        </tr>\n",
       "    </tbody>\n",
       "</table>"
      ],
      "text/plain": [
       "[('AVIAT AIRCRAFT INC', 46.18867924528302),\n",
       " ('GULFSTREAM AEROSPACE', 36.96),\n",
       " ('SIKORSKY', 36.56944444444444),\n",
       " ('FRIEDEMANN JON', 33.76521739130435),\n",
       " ('LEBLANC GLENN T', 33.60769230769231)]"
      ]
     },
     "execution_count": 12,
     "metadata": {},
     "output_type": "execute_result"
    }
   ],
   "source": [
    "%%sql\n",
    "\n",
    "WITH CTE AS\n",
    "(SELECT p.manufacturer AS Manufacturer, avg(f.DepDelay + f.ArrDelay) AS \"Manufacturer_with_max_Average_DelayTime\"\n",
    "FROM flights AS f\n",
    "\n",
    "INNER JOIN planes AS p\n",
    "ON p.tailnum = f.TailNum\n",
    "\n",
    "GROUP BY p.manufacturer)\n",
    "\n",
    "SELECT CTE.Manufacturer, CTE.Manufacturer_with_max_Average_DelayTime\n",
    "FROM CTE\n",
    "ORDER BY CTE.Manufacturer_with_max_Average_DelayTime DESC\n",
    "LIMIT 5;"
   ]
  },
  {
   "cell_type": "markdown",
   "id": "2727cb15",
   "metadata": {},
   "source": [
    "<br>\n",
    "<br>\n",
    "\n",
    "### Question\n",
    "How many planes landed at Los Angeles International Airport?"
   ]
  },
  {
   "cell_type": "markdown",
   "id": "d7a0206f",
   "metadata": {},
   "source": [
    "### Solution"
   ]
  },
  {
   "cell_type": "code",
   "execution_count": 13,
   "id": "80c66c2e",
   "metadata": {},
   "outputs": [
    {
     "name": "stdout",
     "output_type": "stream",
     "text": [
      " * sqlite:///data/flights.db\n",
      "Done.\n"
     ]
    },
    {
     "data": {
      "text/html": [
       "<table>\n",
       "    <thead>\n",
       "        <tr>\n",
       "            <th>Number_of_flights_that_landed_in_LA_international_airport</th>\n",
       "        </tr>\n",
       "    </thead>\n",
       "    <tbody>\n",
       "        <tr>\n",
       "            <td>18964</td>\n",
       "        </tr>\n",
       "    </tbody>\n",
       "</table>"
      ],
      "text/plain": [
       "[(18964,)]"
      ]
     },
     "execution_count": 13,
     "metadata": {},
     "output_type": "execute_result"
    }
   ],
   "source": [
    "%%sql\n",
    "\n",
    "SELECT COUNT(f.Dest) AS \"Number_of_flights_that_landed_in_LA_international_airport\"\n",
    "FROM flights AS f, airports AS a\n",
    "WHERE f.Dest = a.iata\n",
    "AND a.airport = \"Los Angeles International\""
   ]
  },
  {
   "cell_type": "markdown",
   "id": "0191b040",
   "metadata": {},
   "source": [
    "<br>\n",
    "<br>\n",
    "\n",
    "### Question\n",
    "Which domestic carrier had the best on-time performance (OTP)? OTP is defined as the rate of on-time flights with a 15min buffer on departure and arrival."
   ]
  },
  {
   "cell_type": "markdown",
   "id": "0882829a",
   "metadata": {},
   "source": [
    "### Solution"
   ]
  },
  {
   "cell_type": "code",
   "execution_count": 14,
   "id": "89f5e30a",
   "metadata": {},
   "outputs": [
    {
     "name": "stdout",
     "output_type": "stream",
     "text": [
      " * sqlite:///data/flights.db\n",
      "Done.\n"
     ]
    },
    {
     "data": {
      "text/html": [
       "<table>\n",
       "    <thead>\n",
       "        <tr>\n",
       "            <th>Description</th>\n",
       "            <th>OTP</th>\n",
       "        </tr>\n",
       "    </thead>\n",
       "    <tbody>\n",
       "        <tr>\n",
       "            <td>Pinnacle Airlines Inc.\r",
       "</td>\n",
       "            <td>None</td>\n",
       "        </tr>\n",
       "        <tr>\n",
       "            <td>Hawaiian Airlines Inc.\r",
       "</td>\n",
       "            <td>-23.0</td>\n",
       "        </tr>\n",
       "        <tr>\n",
       "            <td>American Airlines Inc.\r",
       "</td>\n",
       "            <td>-15.0</td>\n",
       "        </tr>\n",
       "        <tr>\n",
       "            <td>Southwest Airlines Co.\r",
       "</td>\n",
       "            <td>-6.0</td>\n",
       "        </tr>\n",
       "        <tr>\n",
       "            <td>American Eagle Airlines Inc.\r",
       "</td>\n",
       "            <td>-3.0</td>\n",
       "        </tr>\n",
       "    </tbody>\n",
       "</table>"
      ],
      "text/plain": [
       "[('Pinnacle Airlines Inc.\\r', None),\n",
       " ('Hawaiian Airlines Inc.\\r', -23.0),\n",
       " ('American Airlines Inc.\\r', -15.0),\n",
       " ('Southwest Airlines Co.\\r', -6.0),\n",
       " ('American Eagle Airlines Inc.\\r', -3.0)]"
      ]
     },
     "execution_count": 14,
     "metadata": {},
     "output_type": "execute_result"
    }
   ],
   "source": [
    "%%sql\n",
    "\n",
    "SELECT c.Description, (f.ArrDelay + f.DepDelay) AS OTP\n",
    "FROM flights AS f, carriers AS c\n",
    "WHERE f.UniqueCarrier = c.Code\n",
    "\n",
    "GROUP BY c.Description\n",
    "\n",
    "ORDER BY [OTP]\n",
    "\n",
    "LIMIT 5;"
   ]
  },
  {
   "cell_type": "code",
   "execution_count": null,
   "id": "eff23cdd",
   "metadata": {},
   "outputs": [],
   "source": []
  }
 ],
 "metadata": {
  "kernelspec": {
   "display_name": "Python 3 (ipykernel)",
   "language": "python",
   "name": "python3"
  },
  "language_info": {
   "codemirror_mode": {
    "name": "ipython",
    "version": 3
   },
   "file_extension": ".py",
   "mimetype": "text/x-python",
   "name": "python",
   "nbconvert_exporter": "python",
   "pygments_lexer": "ipython3",
   "version": "3.11.0"
  }
 },
 "nbformat": 4,
 "nbformat_minor": 5
}
