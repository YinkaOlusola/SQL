{
 "cells": [
  {
   "cell_type": "markdown",
   "id": "6bba8d96",
   "metadata": {},
   "source": [
    "## JOINs\n",
    "\n",
    "**SQL Queries for Exercises on SQL JOINs**"
   ]
  },
  {
   "cell_type": "markdown",
   "id": "e2ead5a7",
   "metadata": {},
   "source": [
    "### Connecting to the SQLite db file"
   ]
  },
  {
   "cell_type": "code",
   "execution_count": 1,
   "id": "61ebc778",
   "metadata": {},
   "outputs": [],
   "source": [
    "# Importing library\n",
    "import sqlite3\n",
    "\n",
    "# Connect to or create the SQLite database\n",
    "\n",
    "conn = sqlite3.connect('parch_and_posey.db')"
   ]
  },
  {
   "cell_type": "code",
   "execution_count": 2,
   "id": "a0b0a38a",
   "metadata": {},
   "outputs": [],
   "source": [
    "%load_ext sql"
   ]
  },
  {
   "cell_type": "code",
   "execution_count": 3,
   "id": "0cc5776c",
   "metadata": {},
   "outputs": [],
   "source": [
    "%sql sqlite:///parch_and_posey.db"
   ]
  },
  {
   "cell_type": "markdown",
   "id": "9d0272f7",
   "metadata": {},
   "source": [
    "**Pull all the data from the accounts table, and all the data from the orders table.**"
   ]
  },
  {
   "cell_type": "code",
   "execution_count": null,
   "id": "489e4c05",
   "metadata": {},
   "outputs": [],
   "source": []
  },
  {
   "cell_type": "markdown",
   "id": "251bb600",
   "metadata": {},
   "source": [
    "<br>\n",
    "\n",
    "**Pulling standard_qty, gloss_qty, and poster_qty from the orders table, and the website and the primary_poc from the accounts table.**"
   ]
  },
  {
   "cell_type": "code",
   "execution_count": null,
   "id": "d52469c6",
   "metadata": {},
   "outputs": [],
   "source": []
  },
  {
   "cell_type": "markdown",
   "id": "0020fb97",
   "metadata": {},
   "source": [
    "<br>\n",
    "\n",
    "**Provide a table for all web_events associated with account name of Walmart. There should be three columns. Be sure to include the `primary_poc`, time of the event, and the `channel` for each event. Additionally, you might choose to add a fourth column to assure only Walmart events were chosen.**"
   ]
  },
  {
   "cell_type": "code",
   "execution_count": 4,
   "id": "03e8e3bb",
   "metadata": {},
   "outputs": [
    {
     "name": "stdout",
     "output_type": "stream",
     "text": [
      " * sqlite:///parch_and_posey.db\n",
      "Done.\n"
     ]
    },
    {
     "data": {
      "text/html": [
       "<table>\n",
       "    <thead>\n",
       "        <tr>\n",
       "            <th>primary_poc</th>\n",
       "            <th>occurred_at</th>\n",
       "            <th>channel</th>\n",
       "            <th>name</th>\n",
       "        </tr>\n",
       "    </thead>\n",
       "    <tbody>\n",
       "        <tr>\n",
       "            <td>Tamara Tuma</td>\n",
       "            <td>2015-10-06 04:22:11</td>\n",
       "            <td>facebook</td>\n",
       "            <td>Walmart</td>\n",
       "        </tr>\n",
       "        <tr>\n",
       "            <td>Tamara Tuma</td>\n",
       "            <td>2015-10-06 17:13:58</td>\n",
       "            <td>direct</td>\n",
       "            <td>Walmart</td>\n",
       "        </tr>\n",
       "        <tr>\n",
       "            <td>Tamara Tuma</td>\n",
       "            <td>2015-10-22 05:02:47</td>\n",
       "            <td>organic</td>\n",
       "            <td>Walmart</td>\n",
       "        </tr>\n",
       "        <tr>\n",
       "            <td>Tamara Tuma</td>\n",
       "            <td>2015-10-22 14:04:20</td>\n",
       "            <td>adwords</td>\n",
       "            <td>Walmart</td>\n",
       "        </tr>\n",
       "        <tr>\n",
       "            <td>Tamara Tuma</td>\n",
       "            <td>2015-11-05 03:08:26</td>\n",
       "            <td>direct</td>\n",
       "            <td>Walmart</td>\n",
       "        </tr>\n",
       "        <tr>\n",
       "            <td>Tamara Tuma</td>\n",
       "            <td>2015-11-05 17:18:54</td>\n",
       "            <td>direct</td>\n",
       "            <td>Walmart</td>\n",
       "        </tr>\n",
       "        <tr>\n",
       "            <td>Tamara Tuma</td>\n",
       "            <td>2015-12-04 03:57:24</td>\n",
       "            <td>direct</td>\n",
       "            <td>Walmart</td>\n",
       "        </tr>\n",
       "        <tr>\n",
       "            <td>Tamara Tuma</td>\n",
       "            <td>2015-12-11 08:44:16</td>\n",
       "            <td>direct</td>\n",
       "            <td>Walmart</td>\n",
       "        </tr>\n",
       "        <tr>\n",
       "            <td>Tamara Tuma</td>\n",
       "            <td>2016-01-01 15:45:54</td>\n",
       "            <td>adwords</td>\n",
       "            <td>Walmart</td>\n",
       "        </tr>\n",
       "        <tr>\n",
       "            <td>Tamara Tuma</td>\n",
       "            <td>2016-01-02 00:55:03</td>\n",
       "            <td>direct</td>\n",
       "            <td>Walmart</td>\n",
       "        </tr>\n",
       "    </tbody>\n",
       "</table>"
      ],
      "text/plain": [
       "[('Tamara Tuma', '2015-10-06 04:22:11', 'facebook', 'Walmart'),\n",
       " ('Tamara Tuma', '2015-10-06 17:13:58', 'direct', 'Walmart'),\n",
       " ('Tamara Tuma', '2015-10-22 05:02:47', 'organic', 'Walmart'),\n",
       " ('Tamara Tuma', '2015-10-22 14:04:20', 'adwords', 'Walmart'),\n",
       " ('Tamara Tuma', '2015-11-05 03:08:26', 'direct', 'Walmart'),\n",
       " ('Tamara Tuma', '2015-11-05 17:18:54', 'direct', 'Walmart'),\n",
       " ('Tamara Tuma', '2015-12-04 03:57:24', 'direct', 'Walmart'),\n",
       " ('Tamara Tuma', '2015-12-11 08:44:16', 'direct', 'Walmart'),\n",
       " ('Tamara Tuma', '2016-01-01 15:45:54', 'adwords', 'Walmart'),\n",
       " ('Tamara Tuma', '2016-01-02 00:55:03', 'direct', 'Walmart')]"
      ]
     },
     "execution_count": 4,
     "metadata": {},
     "output_type": "execute_result"
    }
   ],
   "source": [
    "%%sql\n",
    "\n",
    "SELECT a.primary_poc, w.occurred_at, w.channel, a.name\n",
    "FROM web_events w\n",
    "JOIN accounts a\n",
    "ON w.account_id = a.id\n",
    "WHERE a.name = 'Walmart'\n",
    "LIMIT 10;"
   ]
  },
  {
   "cell_type": "markdown",
   "id": "85578cf6",
   "metadata": {},
   "source": [
    "<br>\n",
    "\n",
    "**Provide a table that provides the region for each `sales_rep` along with their associated accounts. Your final table should include three columns: the `region name`, the `sales rep name`, and the `account name`. Sort the accounts alphabetically (A-Z) according to account name.**"
   ]
  },
  {
   "cell_type": "code",
   "execution_count": 5,
   "id": "42ff10a3",
   "metadata": {},
   "outputs": [
    {
     "name": "stdout",
     "output_type": "stream",
     "text": [
      " * sqlite:///parch_and_posey.db\n",
      "Done.\n"
     ]
    },
    {
     "data": {
      "text/html": [
       "<table>\n",
       "    <thead>\n",
       "        <tr>\n",
       "            <th>region</th>\n",
       "            <th>rep</th>\n",
       "            <th>account</th>\n",
       "        </tr>\n",
       "    </thead>\n",
       "    <tbody>\n",
       "        <tr>\n",
       "            <td>Northeast</td>\n",
       "            <td>Sibyl Lauria</td>\n",
       "            <td>3M</td>\n",
       "        </tr>\n",
       "        <tr>\n",
       "            <td>Southeast</td>\n",
       "            <td>Earlie Schleusner</td>\n",
       "            <td>ADP</td>\n",
       "        </tr>\n",
       "        <tr>\n",
       "            <td>Southeast</td>\n",
       "            <td>Moon Torian</td>\n",
       "            <td>AECOM</td>\n",
       "        </tr>\n",
       "        <tr>\n",
       "            <td>Southeast</td>\n",
       "            <td>Calvin Ollison</td>\n",
       "            <td>AES</td>\n",
       "        </tr>\n",
       "        <tr>\n",
       "            <td>Northeast</td>\n",
       "            <td>Elba Felder</td>\n",
       "            <td>AIG</td>\n",
       "        </tr>\n",
       "        <tr>\n",
       "            <td>Northeast</td>\n",
       "            <td>Necole Victory</td>\n",
       "            <td>AT&amp;T</td>\n",
       "        </tr>\n",
       "        <tr>\n",
       "            <td>Midwest</td>\n",
       "            <td>Julie Starr</td>\n",
       "            <td>AbbVie</td>\n",
       "        </tr>\n",
       "        <tr>\n",
       "            <td>Midwest</td>\n",
       "            <td>Chau Rowles</td>\n",
       "            <td>Abbott Laboratories</td>\n",
       "        </tr>\n",
       "        <tr>\n",
       "            <td>West</td>\n",
       "            <td>Marquetta Laycock</td>\n",
       "            <td>Advance Auto Parts</td>\n",
       "        </tr>\n",
       "        <tr>\n",
       "            <td>Northeast</td>\n",
       "            <td>Renetta Carew</td>\n",
       "            <td>Aetna</td>\n",
       "        </tr>\n",
       "    </tbody>\n",
       "</table>"
      ],
      "text/plain": [
       "[('Northeast', 'Sibyl Lauria', '3M'),\n",
       " ('Southeast', 'Earlie Schleusner', 'ADP'),\n",
       " ('Southeast', 'Moon Torian', 'AECOM'),\n",
       " ('Southeast', 'Calvin Ollison', 'AES'),\n",
       " ('Northeast', 'Elba Felder', 'AIG'),\n",
       " ('Northeast', 'Necole Victory', 'AT&T'),\n",
       " ('Midwest', 'Julie Starr', 'AbbVie'),\n",
       " ('Midwest', 'Chau Rowles', 'Abbott Laboratories'),\n",
       " ('West', 'Marquetta Laycock', 'Advance Auto Parts'),\n",
       " ('Northeast', 'Renetta Carew', 'Aetna')]"
      ]
     },
     "execution_count": 5,
     "metadata": {},
     "output_type": "execute_result"
    }
   ],
   "source": [
    "%%sql\n",
    "\n",
    "SELECT r.name region, s.name rep, a.name account\n",
    "FROM sales_reps s\n",
    "JOIN region r\n",
    "ON s.region_id = r.id\n",
    "JOIN accounts a\n",
    "ON a.sales_rep_id = s.id\n",
    "ORDER BY a.name\n",
    "LIMIT 10;"
   ]
  },
  {
   "cell_type": "markdown",
   "id": "476b24be",
   "metadata": {},
   "source": [
    "<br>\n",
    "\n",
    "**Provide the name for each region for every order, as well as the account name and the unit price they paid (`total_amt_usd`/`total`) for the `order`. Your final table should have 3 columns: region name, account name, and unit price. A few `accounts` have 0 for `total`, so I divided by (total + 0.01) to assure not dividing by zero.**"
   ]
  },
  {
   "cell_type": "code",
   "execution_count": 6,
   "id": "1d28e095",
   "metadata": {},
   "outputs": [
    {
     "name": "stdout",
     "output_type": "stream",
     "text": [
      " * sqlite:///parch_and_posey.db\n",
      "Done.\n"
     ]
    },
    {
     "data": {
      "text/html": [
       "<table>\n",
       "    <thead>\n",
       "        <tr>\n",
       "            <th>region</th>\n",
       "            <th>account</th>\n",
       "            <th>unit_price</th>\n",
       "        </tr>\n",
       "    </thead>\n",
       "    <tbody>\n",
       "        <tr>\n",
       "            <td>Northeast</td>\n",
       "            <td>Walmart</td>\n",
       "            <td>5.833423765599567</td>\n",
       "        </tr>\n",
       "        <tr>\n",
       "            <td>Northeast</td>\n",
       "            <td>Walmart</td>\n",
       "            <td>5.879706082872509</td>\n",
       "        </tr>\n",
       "        <tr>\n",
       "            <td>Northeast</td>\n",
       "            <td>Walmart</td>\n",
       "            <td>5.646522151667762</td>\n",
       "        </tr>\n",
       "        <tr>\n",
       "            <td>Northeast</td>\n",
       "            <td>Walmart</td>\n",
       "            <td>5.935815147625161</td>\n",
       "        </tr>\n",
       "        <tr>\n",
       "            <td>Northeast</td>\n",
       "            <td>Walmart</td>\n",
       "            <td>6.0194924371875205</td>\n",
       "        </tr>\n",
       "        <tr>\n",
       "            <td>Northeast</td>\n",
       "            <td>Walmart</td>\n",
       "            <td>5.960184231258712</td>\n",
       "        </tr>\n",
       "        <tr>\n",
       "            <td>Northeast</td>\n",
       "            <td>Walmart</td>\n",
       "            <td>5.759600023667239</td>\n",
       "        </tr>\n",
       "        <tr>\n",
       "            <td>Northeast</td>\n",
       "            <td>Walmart</td>\n",
       "            <td>6.1687185711808565</td>\n",
       "        </tr>\n",
       "        <tr>\n",
       "            <td>Northeast</td>\n",
       "            <td>Walmart</td>\n",
       "            <td>5.44423612294756</td>\n",
       "        </tr>\n",
       "        <tr>\n",
       "            <td>Northeast</td>\n",
       "            <td>Walmart</td>\n",
       "            <td>6.033416662415183</td>\n",
       "        </tr>\n",
       "    </tbody>\n",
       "</table>"
      ],
      "text/plain": [
       "[('Northeast', 'Walmart', 5.833423765599567),\n",
       " ('Northeast', 'Walmart', 5.879706082872509),\n",
       " ('Northeast', 'Walmart', 5.646522151667762),\n",
       " ('Northeast', 'Walmart', 5.935815147625161),\n",
       " ('Northeast', 'Walmart', 6.0194924371875205),\n",
       " ('Northeast', 'Walmart', 5.960184231258712),\n",
       " ('Northeast', 'Walmart', 5.759600023667239),\n",
       " ('Northeast', 'Walmart', 6.1687185711808565),\n",
       " ('Northeast', 'Walmart', 5.44423612294756),\n",
       " ('Northeast', 'Walmart', 6.033416662415183)]"
      ]
     },
     "execution_count": 6,
     "metadata": {},
     "output_type": "execute_result"
    }
   ],
   "source": [
    "%%sql\n",
    "\n",
    "SELECT r.name region, a.name account, \n",
    "       o.total_amt_usd/(o.total + 0.01) unit_price\n",
    "FROM region r\n",
    "JOIN sales_reps s\n",
    "ON s.region_id = r.id\n",
    "JOIN accounts a\n",
    "ON a.sales_rep_id = s.id\n",
    "JOIN orders o\n",
    "ON o.account_id = a.id\n",
    "LIMIT 10;"
   ]
  },
  {
   "cell_type": "markdown",
   "id": "69ebe061",
   "metadata": {},
   "source": [
    "<br>\n",
    "\n",
    "**1. Provide a table that provides the `region` for each `sales_rep` along with their associated accounts. This time only for the `Midwest` region. Your final table should include three columns: the region name, the sales rep name, and the account name. Sort the accounts alphabetically (A-Z) according to account name.**"
   ]
  },
  {
   "cell_type": "code",
   "execution_count": 7,
   "id": "ac0207bd",
   "metadata": {},
   "outputs": [
    {
     "name": "stdout",
     "output_type": "stream",
     "text": [
      " * sqlite:///parch_and_posey.db\n",
      "Done.\n"
     ]
    },
    {
     "data": {
      "text/html": [
       "<table>\n",
       "    <thead>\n",
       "        <tr>\n",
       "            <th>region</th>\n",
       "            <th>rep</th>\n",
       "            <th>account</th>\n",
       "        </tr>\n",
       "    </thead>\n",
       "    <tbody>\n",
       "        <tr>\n",
       "            <td>Midwest</td>\n",
       "            <td>Julie Starr</td>\n",
       "            <td>AbbVie</td>\n",
       "        </tr>\n",
       "        <tr>\n",
       "            <td>Midwest</td>\n",
       "            <td>Chau Rowles</td>\n",
       "            <td>Abbott Laboratories</td>\n",
       "        </tr>\n",
       "        <tr>\n",
       "            <td>Midwest</td>\n",
       "            <td>Cliff Meints</td>\n",
       "            <td>Aflac</td>\n",
       "        </tr>\n",
       "        <tr>\n",
       "            <td>Midwest</td>\n",
       "            <td>Chau Rowles</td>\n",
       "            <td>Alcoa</td>\n",
       "        </tr>\n",
       "        <tr>\n",
       "            <td>Midwest</td>\n",
       "            <td>Charles Bidwell</td>\n",
       "            <td>Altria Group</td>\n",
       "        </tr>\n",
       "        <tr>\n",
       "            <td>Midwest</td>\n",
       "            <td>Delilah Krum</td>\n",
       "            <td>Amgen</td>\n",
       "        </tr>\n",
       "        <tr>\n",
       "            <td>Midwest</td>\n",
       "            <td>Charles Bidwell</td>\n",
       "            <td>Arrow Electronics</td>\n",
       "        </tr>\n",
       "        <tr>\n",
       "            <td>Midwest</td>\n",
       "            <td>Delilah Krum</td>\n",
       "            <td>AutoNation</td>\n",
       "        </tr>\n",
       "        <tr>\n",
       "            <td>Midwest</td>\n",
       "            <td>Delilah Krum</td>\n",
       "            <td>Capital One Financial</td>\n",
       "        </tr>\n",
       "        <tr>\n",
       "            <td>Midwest</td>\n",
       "            <td>Cordell Rieder</td>\n",
       "            <td>Centene</td>\n",
       "        </tr>\n",
       "    </tbody>\n",
       "</table>"
      ],
      "text/plain": [
       "[('Midwest', 'Julie Starr', 'AbbVie'),\n",
       " ('Midwest', 'Chau Rowles', 'Abbott Laboratories'),\n",
       " ('Midwest', 'Cliff Meints', 'Aflac'),\n",
       " ('Midwest', 'Chau Rowles', 'Alcoa'),\n",
       " ('Midwest', 'Charles Bidwell', 'Altria Group'),\n",
       " ('Midwest', 'Delilah Krum', 'Amgen'),\n",
       " ('Midwest', 'Charles Bidwell', 'Arrow Electronics'),\n",
       " ('Midwest', 'Delilah Krum', 'AutoNation'),\n",
       " ('Midwest', 'Delilah Krum', 'Capital One Financial'),\n",
       " ('Midwest', 'Cordell Rieder', 'Centene')]"
      ]
     },
     "execution_count": 7,
     "metadata": {},
     "output_type": "execute_result"
    }
   ],
   "source": [
    "%%sql\n",
    "\n",
    "SELECT r.name region, s.name rep, a.name account\n",
    "FROM sales_reps s\n",
    "JOIN region r\n",
    "ON s.region_id = r.id\n",
    "JOIN accounts a\n",
    "ON a.sales_rep_id = s.id\n",
    "WHERE r.name = 'Midwest'\n",
    "ORDER BY a.name\n",
    "LIMIT 10;"
   ]
  },
  {
   "cell_type": "markdown",
   "id": "ded83db4",
   "metadata": {},
   "source": [
    "<br>\n",
    "\n",
    "**2. Provide a table that provides the `region` for each `sales_rep` along with their associated accounts. This time only for `accounts` where the sales rep has a first name starting with `S` and in the `Midwest` region. Your final table should include three columns: the region name, the sales rep name, and the account name. Sort the accounts alphabetically (A-Z) according to account name.**"
   ]
  },
  {
   "cell_type": "code",
   "execution_count": 8,
   "id": "0f016931",
   "metadata": {},
   "outputs": [
    {
     "name": "stdout",
     "output_type": "stream",
     "text": [
      " * sqlite:///parch_and_posey.db\n",
      "Done.\n"
     ]
    },
    {
     "data": {
      "text/html": [
       "<table>\n",
       "    <thead>\n",
       "        <tr>\n",
       "            <th>region</th>\n",
       "            <th>rep</th>\n",
       "            <th>account</th>\n",
       "        </tr>\n",
       "    </thead>\n",
       "    <tbody>\n",
       "        <tr>\n",
       "            <td>Midwest</td>\n",
       "            <td>Sherlene Wetherington</td>\n",
       "            <td>Community Health Systems</td>\n",
       "        </tr>\n",
       "        <tr>\n",
       "            <td>Midwest</td>\n",
       "            <td>Sherlene Wetherington</td>\n",
       "            <td>Progressive</td>\n",
       "        </tr>\n",
       "        <tr>\n",
       "            <td>Midwest</td>\n",
       "            <td>Sherlene Wetherington</td>\n",
       "            <td>Rite Aid</td>\n",
       "        </tr>\n",
       "        <tr>\n",
       "            <td>Midwest</td>\n",
       "            <td>Sherlene Wetherington</td>\n",
       "            <td>Time Warner Cable</td>\n",
       "        </tr>\n",
       "        <tr>\n",
       "            <td>Midwest</td>\n",
       "            <td>Sherlene Wetherington</td>\n",
       "            <td>U.S. Bancorp</td>\n",
       "        </tr>\n",
       "    </tbody>\n",
       "</table>"
      ],
      "text/plain": [
       "[('Midwest', 'Sherlene Wetherington', 'Community Health Systems'),\n",
       " ('Midwest', 'Sherlene Wetherington', 'Progressive'),\n",
       " ('Midwest', 'Sherlene Wetherington', 'Rite Aid'),\n",
       " ('Midwest', 'Sherlene Wetherington', 'Time Warner Cable'),\n",
       " ('Midwest', 'Sherlene Wetherington', 'U.S. Bancorp')]"
      ]
     },
     "execution_count": 8,
     "metadata": {},
     "output_type": "execute_result"
    }
   ],
   "source": [
    "%%sql\n",
    "\n",
    "SELECT r.name region, s.name rep, a.name account\n",
    "FROM sales_reps s\n",
    "JOIN region r\n",
    "ON s.region_id = r.id\n",
    "JOIN accounts a\n",
    "ON a.sales_rep_id = s.id\n",
    "WHERE r.name = 'Midwest' AND s.name LIKE 'S%'\n",
    "ORDER BY a.name;"
   ]
  },
  {
   "cell_type": "markdown",
   "id": "76de9822",
   "metadata": {},
   "source": [
    "<br>\n",
    "\n",
    "**3. Provide a table that provides the `region` for each `sales_rep` along with their associated `accounts`. This time only for accounts where the sales rep has a last name starting with K and in the `Midwest` region. Your final table should include three columns: the region name, the sales rep name, and the account name. Sort the accounts alphabetically (A-Z) according to account name.**"
   ]
  },
  {
   "cell_type": "code",
   "execution_count": 9,
   "id": "0540ed84",
   "metadata": {},
   "outputs": [
    {
     "name": "stdout",
     "output_type": "stream",
     "text": [
      " * sqlite:///parch_and_posey.db\n",
      "Done.\n"
     ]
    },
    {
     "data": {
      "text/html": [
       "<table>\n",
       "    <thead>\n",
       "        <tr>\n",
       "            <th>region</th>\n",
       "            <th>rep</th>\n",
       "            <th>account</th>\n",
       "        </tr>\n",
       "    </thead>\n",
       "    <tbody>\n",
       "        <tr>\n",
       "            <td>Midwest</td>\n",
       "            <td>Delilah Krum</td>\n",
       "            <td>Amgen</td>\n",
       "        </tr>\n",
       "        <tr>\n",
       "            <td>Midwest</td>\n",
       "            <td>Delilah Krum</td>\n",
       "            <td>AutoNation</td>\n",
       "        </tr>\n",
       "        <tr>\n",
       "            <td>Midwest</td>\n",
       "            <td>Delilah Krum</td>\n",
       "            <td>Capital One Financial</td>\n",
       "        </tr>\n",
       "        <tr>\n",
       "            <td>Midwest</td>\n",
       "            <td>Delilah Krum</td>\n",
       "            <td>Cummins</td>\n",
       "        </tr>\n",
       "        <tr>\n",
       "            <td>Midwest</td>\n",
       "            <td>Carletta Kosinski</td>\n",
       "            <td>Danaher</td>\n",
       "        </tr>\n",
       "        <tr>\n",
       "            <td>Midwest</td>\n",
       "            <td>Carletta Kosinski</td>\n",
       "            <td>Dollar General</td>\n",
       "        </tr>\n",
       "        <tr>\n",
       "            <td>Midwest</td>\n",
       "            <td>Delilah Krum</td>\n",
       "            <td>Hartford Financial Services Group</td>\n",
       "        </tr>\n",
       "        <tr>\n",
       "            <td>Midwest</td>\n",
       "            <td>Carletta Kosinski</td>\n",
       "            <td>International Paper</td>\n",
       "        </tr>\n",
       "        <tr>\n",
       "            <td>Midwest</td>\n",
       "            <td>Delilah Krum</td>\n",
       "            <td>Kimberly-Clark</td>\n",
       "        </tr>\n",
       "        <tr>\n",
       "            <td>Midwest</td>\n",
       "            <td>Carletta Kosinski</td>\n",
       "            <td>McDonald&#x27;s</td>\n",
       "        </tr>\n",
       "        <tr>\n",
       "            <td>Midwest</td>\n",
       "            <td>Carletta Kosinski</td>\n",
       "            <td>Northrop Grumman</td>\n",
       "        </tr>\n",
       "        <tr>\n",
       "            <td>Midwest</td>\n",
       "            <td>Delilah Krum</td>\n",
       "            <td>Plains GP Holdings</td>\n",
       "        </tr>\n",
       "        <tr>\n",
       "            <td>Midwest</td>\n",
       "            <td>Delilah Krum</td>\n",
       "            <td>Southwest Airlines</td>\n",
       "        </tr>\n",
       "    </tbody>\n",
       "</table>"
      ],
      "text/plain": [
       "[('Midwest', 'Delilah Krum', 'Amgen'),\n",
       " ('Midwest', 'Delilah Krum', 'AutoNation'),\n",
       " ('Midwest', 'Delilah Krum', 'Capital One Financial'),\n",
       " ('Midwest', 'Delilah Krum', 'Cummins'),\n",
       " ('Midwest', 'Carletta Kosinski', 'Danaher'),\n",
       " ('Midwest', 'Carletta Kosinski', 'Dollar General'),\n",
       " ('Midwest', 'Delilah Krum', 'Hartford Financial Services Group'),\n",
       " ('Midwest', 'Carletta Kosinski', 'International Paper'),\n",
       " ('Midwest', 'Delilah Krum', 'Kimberly-Clark'),\n",
       " ('Midwest', 'Carletta Kosinski', \"McDonald's\"),\n",
       " ('Midwest', 'Carletta Kosinski', 'Northrop Grumman'),\n",
       " ('Midwest', 'Delilah Krum', 'Plains GP Holdings'),\n",
       " ('Midwest', 'Delilah Krum', 'Southwest Airlines')]"
      ]
     },
     "execution_count": 9,
     "metadata": {},
     "output_type": "execute_result"
    }
   ],
   "source": [
    "%%sql\n",
    "\n",
    "SELECT r.name region, s.name rep, a.name account\n",
    "FROM sales_reps s\n",
    "JOIN region r\n",
    "ON s.region_id = r.id\n",
    "JOIN accounts a\n",
    "ON a.sales_rep_id = s.id\n",
    "WHERE r.name = 'Midwest' AND s.name LIKE '% K%'\n",
    "ORDER BY a.name;"
   ]
  },
  {
   "cell_type": "markdown",
   "id": "b0e169af",
   "metadata": {},
   "source": [
    "<br>\n",
    "\n",
    "**4. Provide the name for each `region` for every order, as well as the account name and the unit price they paid (total_amt_usd/total) for the order. However, you should only provide the results if the standard order quantity exceeds `100`. Your final table should have 3 columns: region name, account name, and unit price. In order to avoid a division by zero error, adding .01 to the denominator here is helpful total_amt_usd/(total+0.01).**"
   ]
  },
  {
   "cell_type": "code",
   "execution_count": 10,
   "id": "a6fc3e94",
   "metadata": {},
   "outputs": [
    {
     "name": "stdout",
     "output_type": "stream",
     "text": [
      " * sqlite:///parch_and_posey.db\n",
      "Done.\n"
     ]
    },
    {
     "data": {
      "text/html": [
       "<table>\n",
       "    <thead>\n",
       "        <tr>\n",
       "            <th>region</th>\n",
       "            <th>account</th>\n",
       "            <th>unit_price</th>\n",
       "        </tr>\n",
       "    </thead>\n",
       "    <tbody>\n",
       "        <tr>\n",
       "            <td>Northeast</td>\n",
       "            <td>Walmart</td>\n",
       "            <td>5.759600023667239</td>\n",
       "        </tr>\n",
       "        <tr>\n",
       "            <td>Northeast</td>\n",
       "            <td>Walmart</td>\n",
       "            <td>5.965174820318739</td>\n",
       "        </tr>\n",
       "        <tr>\n",
       "            <td>Northeast</td>\n",
       "            <td>Walmart</td>\n",
       "            <td>5.44423612294756</td>\n",
       "        </tr>\n",
       "        <tr>\n",
       "            <td>Northeast</td>\n",
       "            <td>Walmart</td>\n",
       "            <td>5.960184231258712</td>\n",
       "        </tr>\n",
       "        <tr>\n",
       "            <td>Northeast</td>\n",
       "            <td>Walmart</td>\n",
       "            <td>6.1687185711808565</td>\n",
       "        </tr>\n",
       "        <tr>\n",
       "            <td>Northeast</td>\n",
       "            <td>Walmart</td>\n",
       "            <td>6.628910225211274</td>\n",
       "        </tr>\n",
       "        <tr>\n",
       "            <td>Northeast</td>\n",
       "            <td>Walmart</td>\n",
       "            <td>5.646522151667762</td>\n",
       "        </tr>\n",
       "        <tr>\n",
       "            <td>Northeast</td>\n",
       "            <td>Walmart</td>\n",
       "            <td>6.033416662415183</td>\n",
       "        </tr>\n",
       "        <tr>\n",
       "            <td>Northeast</td>\n",
       "            <td>Walmart</td>\n",
       "            <td>6.0194924371875205</td>\n",
       "        </tr>\n",
       "        <tr>\n",
       "            <td>Northeast</td>\n",
       "            <td>Walmart</td>\n",
       "            <td>6.10980429503357</td>\n",
       "        </tr>\n",
       "    </tbody>\n",
       "</table>"
      ],
      "text/plain": [
       "[('Northeast', 'Walmart', 5.759600023667239),\n",
       " ('Northeast', 'Walmart', 5.965174820318739),\n",
       " ('Northeast', 'Walmart', 5.44423612294756),\n",
       " ('Northeast', 'Walmart', 5.960184231258712),\n",
       " ('Northeast', 'Walmart', 6.1687185711808565),\n",
       " ('Northeast', 'Walmart', 6.628910225211274),\n",
       " ('Northeast', 'Walmart', 5.646522151667762),\n",
       " ('Northeast', 'Walmart', 6.033416662415183),\n",
       " ('Northeast', 'Walmart', 6.0194924371875205),\n",
       " ('Northeast', 'Walmart', 6.10980429503357)]"
      ]
     },
     "execution_count": 10,
     "metadata": {},
     "output_type": "execute_result"
    }
   ],
   "source": [
    "%%sql\n",
    "\n",
    "SELECT r.name region, a.name account, o.total_amt_usd/(o.total + 0.01) unit_price\n",
    "FROM region r\n",
    "JOIN sales_reps s\n",
    "ON s.region_id = r.id\n",
    "JOIN accounts a\n",
    "ON a.sales_rep_id = s.id\n",
    "JOIN orders o\n",
    "ON o.account_id = a.id\n",
    "WHERE o.standard_qty > 100\n",
    "LIMIT 10;"
   ]
  },
  {
   "cell_type": "markdown",
   "id": "520bde2f",
   "metadata": {},
   "source": [
    "<br>\n",
    "\n",
    "**5. Provide the `name` for each `region` for every order, as well as the account name and the unit price they paid (`total_amt_usd`/`total`) for the order. However, you should only provide the results if the `standard order quantity` exceeds 100 and the `poster order quantity` exceeds 50. Your final table should have 3 columns: `region name`, `account name`, and `unit price`. Sort for the smallest unit price first. In order to avoid a division by zero error, adding .01 to the denominator here is helpful (`total_amt_usd`/(`total`+0.01).**"
   ]
  },
  {
   "cell_type": "code",
   "execution_count": 11,
   "id": "46fa7d16",
   "metadata": {},
   "outputs": [
    {
     "name": "stdout",
     "output_type": "stream",
     "text": [
      " * sqlite:///parch_and_posey.db\n",
      "Done.\n"
     ]
    },
    {
     "data": {
      "text/html": [
       "<table>\n",
       "    <thead>\n",
       "        <tr>\n",
       "            <th>region</th>\n",
       "            <th>account</th>\n",
       "            <th>unit_price</th>\n",
       "        </tr>\n",
       "    </thead>\n",
       "    <tbody>\n",
       "        <tr>\n",
       "            <td>Northeast</td>\n",
       "            <td>State Farm Insurance Cos.</td>\n",
       "            <td>5.119282250254291</td>\n",
       "        </tr>\n",
       "        <tr>\n",
       "            <td>Southeast</td>\n",
       "            <td>DISH Network</td>\n",
       "            <td>5.231815847540363</td>\n",
       "        </tr>\n",
       "        <tr>\n",
       "            <td>Northeast</td>\n",
       "            <td>Travelers Cos.</td>\n",
       "            <td>5.2351813313106526</td>\n",
       "        </tr>\n",
       "        <tr>\n",
       "            <td>Northeast</td>\n",
       "            <td>Best Buy</td>\n",
       "            <td>5.260426437930026</td>\n",
       "        </tr>\n",
       "        <tr>\n",
       "            <td>West</td>\n",
       "            <td>Stanley Black &amp; Decker</td>\n",
       "            <td>5.266395560073999</td>\n",
       "        </tr>\n",
       "        <tr>\n",
       "            <td>Northeast</td>\n",
       "            <td>Citigroup</td>\n",
       "            <td>5.273081210319704</td>\n",
       "        </tr>\n",
       "        <tr>\n",
       "            <td>Southeast</td>\n",
       "            <td>BlackRock</td>\n",
       "            <td>5.2782700457278775</td>\n",
       "        </tr>\n",
       "        <tr>\n",
       "            <td>Southeast</td>\n",
       "            <td>Nucor</td>\n",
       "            <td>5.2890939504788514</td>\n",
       "        </tr>\n",
       "        <tr>\n",
       "            <td>Northeast</td>\n",
       "            <td>Merck</td>\n",
       "            <td>5.29639144152687</td>\n",
       "        </tr>\n",
       "        <tr>\n",
       "            <td>Midwest</td>\n",
       "            <td>Sears Holdings</td>\n",
       "            <td>5.3009122462935965</td>\n",
       "        </tr>\n",
       "    </tbody>\n",
       "</table>"
      ],
      "text/plain": [
       "[('Northeast', 'State Farm Insurance Cos.', 5.119282250254291),\n",
       " ('Southeast', 'DISH Network', 5.231815847540363),\n",
       " ('Northeast', 'Travelers Cos.', 5.2351813313106526),\n",
       " ('Northeast', 'Best Buy', 5.260426437930026),\n",
       " ('West', 'Stanley Black & Decker', 5.266395560073999),\n",
       " ('Northeast', 'Citigroup', 5.273081210319704),\n",
       " ('Southeast', 'BlackRock', 5.2782700457278775),\n",
       " ('Southeast', 'Nucor', 5.2890939504788514),\n",
       " ('Northeast', 'Merck', 5.29639144152687),\n",
       " ('Midwest', 'Sears Holdings', 5.3009122462935965)]"
      ]
     },
     "execution_count": 11,
     "metadata": {},
     "output_type": "execute_result"
    }
   ],
   "source": [
    "%%sql\n",
    "\n",
    "SELECT r.name region, a.name account, o.total_amt_usd/(o.total + 0.01) unit_price\n",
    "FROM region r\n",
    "JOIN sales_reps s\n",
    "ON s.region_id = r.id\n",
    "JOIN accounts a\n",
    "ON a.sales_rep_id = s.id\n",
    "JOIN orders o\n",
    "ON o.account_id = a.id\n",
    "WHERE o.standard_qty > 100 AND o.poster_qty > 50\n",
    "ORDER BY unit_price\n",
    "LIMIT 10;"
   ]
  },
  {
   "cell_type": "markdown",
   "id": "6ce9f10c",
   "metadata": {},
   "source": [
    "<br>\n",
    "\n",
    "**6. Provide the name for each `region` for every `order`, as well as the account name and the unit price they paid (`total_amt_usd`/`total`) for the `order`. However, you should only provide the results if the standard order quantity exceeds 100 and the poster order quantity exceeds 50. Your final table should have 3 columns: `region name`, account name, and `unit price`. Sort for the largest unit price first. In order to avoid a division by zero error, adding .01 to the denominator here is helpful (`total_amt_usd`/(`total`+0.01).**"
   ]
  },
  {
   "cell_type": "code",
   "execution_count": 12,
   "id": "28f184a3",
   "metadata": {},
   "outputs": [
    {
     "name": "stdout",
     "output_type": "stream",
     "text": [
      " * sqlite:///parch_and_posey.db\n",
      "Done.\n"
     ]
    },
    {
     "data": {
      "text/html": [
       "<table>\n",
       "    <thead>\n",
       "        <tr>\n",
       "            <th>region</th>\n",
       "            <th>account</th>\n",
       "            <th>unit_price</th>\n",
       "        </tr>\n",
       "    </thead>\n",
       "    <tbody>\n",
       "        <tr>\n",
       "            <td>Northeast</td>\n",
       "            <td>IBM</td>\n",
       "            <td>8.089906082278144</td>\n",
       "        </tr>\n",
       "        <tr>\n",
       "            <td>West</td>\n",
       "            <td>Mosaic</td>\n",
       "            <td>8.066329210358129</td>\n",
       "        </tr>\n",
       "        <tr>\n",
       "            <td>West</td>\n",
       "            <td>Pacific Life</td>\n",
       "            <td>8.063022652514793</td>\n",
       "        </tr>\n",
       "        <tr>\n",
       "            <td>Northeast</td>\n",
       "            <td>CHS</td>\n",
       "            <td>8.018849326780114</td>\n",
       "        </tr>\n",
       "        <tr>\n",
       "            <td>West</td>\n",
       "            <td>Fidelity National Financial</td>\n",
       "            <td>7.9928024668468325</td>\n",
       "        </tr>\n",
       "        <tr>\n",
       "            <td>Midwest</td>\n",
       "            <td>Paccar</td>\n",
       "            <td>7.986961758718576</td>\n",
       "        </tr>\n",
       "        <tr>\n",
       "            <td>Southeast</td>\n",
       "            <td>PNC Financial Services Group</td>\n",
       "            <td>7.8951386043342335</td>\n",
       "        </tr>\n",
       "        <tr>\n",
       "            <td>Northeast</td>\n",
       "            <td>Costco</td>\n",
       "            <td>7.789351900293272</td>\n",
       "        </tr>\n",
       "        <tr>\n",
       "            <td>Midwest</td>\n",
       "            <td>Amgen</td>\n",
       "            <td>7.75383130334812</td>\n",
       "        </tr>\n",
       "        <tr>\n",
       "            <td>West</td>\n",
       "            <td>Hormel Foods</td>\n",
       "            <td>7.747530071148978</td>\n",
       "        </tr>\n",
       "    </tbody>\n",
       "</table>"
      ],
      "text/plain": [
       "[('Northeast', 'IBM', 8.089906082278144),\n",
       " ('West', 'Mosaic', 8.066329210358129),\n",
       " ('West', 'Pacific Life', 8.063022652514793),\n",
       " ('Northeast', 'CHS', 8.018849326780114),\n",
       " ('West', 'Fidelity National Financial', 7.9928024668468325),\n",
       " ('Midwest', 'Paccar', 7.986961758718576),\n",
       " ('Southeast', 'PNC Financial Services Group', 7.8951386043342335),\n",
       " ('Northeast', 'Costco', 7.789351900293272),\n",
       " ('Midwest', 'Amgen', 7.75383130334812),\n",
       " ('West', 'Hormel Foods', 7.747530071148978)]"
      ]
     },
     "execution_count": 12,
     "metadata": {},
     "output_type": "execute_result"
    }
   ],
   "source": [
    "%%sql\n",
    "\n",
    "SELECT r.name region, a.name account, o.total_amt_usd/(o.total + 0.01) unit_price\n",
    "FROM region r\n",
    "JOIN sales_reps s\n",
    "ON s.region_id = r.id\n",
    "JOIN accounts a\n",
    "ON a.sales_rep_id = s.id\n",
    "JOIN orders o\n",
    "ON o.account_id = a.id\n",
    "WHERE o.standard_qty > 100 AND o.poster_qty > 50\n",
    "ORDER BY unit_price DESC\n",
    "LIMIT 10;"
   ]
  },
  {
   "cell_type": "markdown",
   "id": "e64b469b",
   "metadata": {},
   "source": [
    "<br>\n",
    "\n",
    "**7. What are the different `channel`s used by `account id` `1001`? Your final table should have only 2 columns: `account name` and the different `channels`. You can try `SELECT` `DISTINCT` to narrow down the results to only the unique values.**"
   ]
  },
  {
   "cell_type": "code",
   "execution_count": 13,
   "id": "fdfe973c",
   "metadata": {},
   "outputs": [
    {
     "name": "stdout",
     "output_type": "stream",
     "text": [
      " * sqlite:///parch_and_posey.db\n",
      "Done.\n"
     ]
    },
    {
     "data": {
      "text/html": [
       "<table>\n",
       "    <thead>\n",
       "        <tr>\n",
       "            <th>name</th>\n",
       "            <th>channel</th>\n",
       "        </tr>\n",
       "    </thead>\n",
       "    <tbody>\n",
       "        <tr>\n",
       "            <td>Walmart</td>\n",
       "            <td>adwords</td>\n",
       "        </tr>\n",
       "        <tr>\n",
       "            <td>Walmart</td>\n",
       "            <td>banner</td>\n",
       "        </tr>\n",
       "        <tr>\n",
       "            <td>Walmart</td>\n",
       "            <td>direct</td>\n",
       "        </tr>\n",
       "        <tr>\n",
       "            <td>Walmart</td>\n",
       "            <td>facebook</td>\n",
       "        </tr>\n",
       "        <tr>\n",
       "            <td>Walmart</td>\n",
       "            <td>organic</td>\n",
       "        </tr>\n",
       "        <tr>\n",
       "            <td>Walmart</td>\n",
       "            <td>twitter</td>\n",
       "        </tr>\n",
       "    </tbody>\n",
       "</table>"
      ],
      "text/plain": [
       "[('Walmart', 'adwords'),\n",
       " ('Walmart', 'banner'),\n",
       " ('Walmart', 'direct'),\n",
       " ('Walmart', 'facebook'),\n",
       " ('Walmart', 'organic'),\n",
       " ('Walmart', 'twitter')]"
      ]
     },
     "execution_count": 13,
     "metadata": {},
     "output_type": "execute_result"
    }
   ],
   "source": [
    "%%sql\n",
    "\n",
    "SELECT DISTINCT a.name, w.channel\n",
    "FROM accounts a\n",
    "JOIN web_events w\n",
    "ON a.id = w.account_id\n",
    "WHERE a.id = '1001';"
   ]
  },
  {
   "cell_type": "markdown",
   "id": "e37fde3d",
   "metadata": {},
   "source": [
    "<br>\n",
    "\n",
    "**8. Find all the orders that occurred in 2015. Your final table should have 4 columns: `occurred_at`, `account name`, `order total`, and `order total_amt_usd`.**"
   ]
  },
  {
   "cell_type": "code",
   "execution_count": 14,
   "id": "de9a7a0a",
   "metadata": {},
   "outputs": [
    {
     "name": "stdout",
     "output_type": "stream",
     "text": [
      " * sqlite:///parch_and_posey.db\n",
      "Done.\n"
     ]
    },
    {
     "data": {
      "text/html": [
       "<table>\n",
       "    <thead>\n",
       "        <tr>\n",
       "            <th>region</th>\n",
       "            <th>rep</th>\n",
       "            <th>account</th>\n",
       "        </tr>\n",
       "    </thead>\n",
       "    <tbody>\n",
       "        <tr>\n",
       "            <td>Midwest</td>\n",
       "            <td>Sherlene Wetherington</td>\n",
       "            <td>Community Health Systems</td>\n",
       "        </tr>\n",
       "        <tr>\n",
       "            <td>Midwest</td>\n",
       "            <td>Sherlene Wetherington</td>\n",
       "            <td>Progressive</td>\n",
       "        </tr>\n",
       "        <tr>\n",
       "            <td>Midwest</td>\n",
       "            <td>Sherlene Wetherington</td>\n",
       "            <td>Rite Aid</td>\n",
       "        </tr>\n",
       "        <tr>\n",
       "            <td>Midwest</td>\n",
       "            <td>Sherlene Wetherington</td>\n",
       "            <td>Time Warner Cable</td>\n",
       "        </tr>\n",
       "        <tr>\n",
       "            <td>Midwest</td>\n",
       "            <td>Sherlene Wetherington</td>\n",
       "            <td>U.S. Bancorp</td>\n",
       "        </tr>\n",
       "    </tbody>\n",
       "</table>"
      ],
      "text/plain": [
       "[('Midwest', 'Sherlene Wetherington', 'Community Health Systems'),\n",
       " ('Midwest', 'Sherlene Wetherington', 'Progressive'),\n",
       " ('Midwest', 'Sherlene Wetherington', 'Rite Aid'),\n",
       " ('Midwest', 'Sherlene Wetherington', 'Time Warner Cable'),\n",
       " ('Midwest', 'Sherlene Wetherington', 'U.S. Bancorp')]"
      ]
     },
     "execution_count": 14,
     "metadata": {},
     "output_type": "execute_result"
    }
   ],
   "source": [
    "%%sql\n",
    "\n",
    "SELECT r.name region, s.name rep, a.name account\n",
    "FROM sales_reps s\n",
    "JOIN region r\n",
    "ON s.region_id = r.id\n",
    "JOIN accounts a\n",
    "ON a.sales_rep_id = s.id\n",
    "WHERE r.name = 'Midwest' AND s.name LIKE 'S%'\n",
    "ORDER BY a.name;"
   ]
  },
  {
   "cell_type": "code",
   "execution_count": null,
   "id": "2ae17f83",
   "metadata": {},
   "outputs": [],
   "source": []
  }
 ],
 "metadata": {
  "kernelspec": {
   "display_name": "Python 3 (ipykernel)",
   "language": "python",
   "name": "python3"
  },
  "language_info": {
   "codemirror_mode": {
    "name": "ipython",
    "version": 3
   },
   "file_extension": ".py",
   "mimetype": "text/x-python",
   "name": "python",
   "nbconvert_exporter": "python",
   "pygments_lexer": "ipython3",
   "version": "3.11.4"
  }
 },
 "nbformat": 4,
 "nbformat_minor": 5
}
