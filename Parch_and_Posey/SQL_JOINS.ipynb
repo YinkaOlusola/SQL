{
 "cells": [
  {
   "cell_type": "markdown",
   "id": "6bba8d96",
   "metadata": {},
   "source": [
    "## JOINs\n",
    "\n",
    "Exercises on SQL JOINs"
   ]
  },
  {
   "cell_type": "markdown",
   "id": "9d0272f7",
   "metadata": {},
   "source": [
    "**Pull all the data from the accounts table, and all the data from the orders table.**"
   ]
  },
  {
   "cell_type": "code",
   "execution_count": null,
   "id": "489e4c05",
   "metadata": {},
   "outputs": [],
   "source": []
  },
  {
   "cell_type": "markdown",
   "id": "251bb600",
   "metadata": {},
   "source": [
    "<br>\n",
    "\n",
    "**Try pulling standard_qty, gloss_qty, and poster_qty from the orders table, and the website and the primary_poc from the accounts table.**"
   ]
  },
  {
   "cell_type": "code",
   "execution_count": null,
   "id": "d52469c6",
   "metadata": {},
   "outputs": [],
   "source": []
  },
  {
   "cell_type": "markdown",
   "id": "0020fb97",
   "metadata": {},
   "source": [
    "<br>\n",
    "\n",
    "**Provide a table for all web_events associated with account name of Walmart. There should be three columns. Be sure to include the `primary_poc`, time of the event, and the `channel` for each event. Additionally, you might choose to add a fourth column to assure only Walmart events were chosen.**"
   ]
  },
  {
   "cell_type": "code",
   "execution_count": null,
   "id": "03e8e3bb",
   "metadata": {},
   "outputs": [],
   "source": []
  },
  {
   "cell_type": "markdown",
   "id": "85578cf6",
   "metadata": {},
   "source": [
    "<br>\n",
    "\n",
    "**Provide a table that provides the region for each `sales_rep` along with their associated accounts. Your final table should include three columns: the `region name`, the `sales rep name`, and the `account name`. Sort the accounts alphabetically (A-Z) according to account name.**"
   ]
  },
  {
   "cell_type": "code",
   "execution_count": null,
   "id": "42ff10a3",
   "metadata": {},
   "outputs": [],
   "source": []
  },
  {
   "cell_type": "markdown",
   "id": "476b24be",
   "metadata": {},
   "source": [
    "<br>\n",
    "\n",
    "**Provide the name for each region for every order, as well as the account name and the unit price they paid (`total_amt_usd`/`total`) for the `order`. Your final table should have 3 columns: region name, account name, and unit price. A few `accounts` have 0 for `total`, so I divided by (total + 0.01) to assure not dividing by zero.**"
   ]
  },
  {
   "cell_type": "code",
   "execution_count": null,
   "id": "1d28e095",
   "metadata": {},
   "outputs": [],
   "source": []
  },
  {
   "cell_type": "markdown",
   "id": "69ebe061",
   "metadata": {},
   "source": [
    "<br>\n",
    "\n",
    "**1. Provide a table that provides the `region` for each `sales_rep` along with their associated accounts. This time only for the `Midwest` region. Your final table should include three columns: the region name, the sales rep name, and the account name. Sort the accounts alphabetically (A-Z) according to account name.**"
   ]
  },
  {
   "cell_type": "code",
   "execution_count": null,
   "id": "ac0207bd",
   "metadata": {},
   "outputs": [],
   "source": []
  },
  {
   "cell_type": "markdown",
   "id": "ded83db4",
   "metadata": {},
   "source": [
    "<br>\n",
    "\n",
    "**2. Provide a table that provides the `region` for each `sales_rep` along with their associated accounts. This time only for `accounts` where the sales rep has a first name starting with `S` and in the `Midwest` region. Your final table should include three columns: the region name, the sales rep name, and the account name. Sort the accounts alphabetically (A-Z) according to account name.**"
   ]
  },
  {
   "cell_type": "code",
   "execution_count": null,
   "id": "0f016931",
   "metadata": {},
   "outputs": [],
   "source": []
  },
  {
   "cell_type": "markdown",
   "id": "76de9822",
   "metadata": {},
   "source": [
    "<br>\n",
    "\n",
    "**3. Provide a table that provides the `region` for each `sales_rep` along with their associated `accounts`. This time only for accounts where the sales rep has a last name starting with K and in the `Midwest` region. Your final table should include three columns: the region name, the sales rep name, and the account name. Sort the accounts alphabetically (A-Z) according to account name.**"
   ]
  },
  {
   "cell_type": "code",
   "execution_count": null,
   "id": "0540ed84",
   "metadata": {},
   "outputs": [],
   "source": []
  },
  {
   "cell_type": "markdown",
   "id": "b0e169af",
   "metadata": {},
   "source": [
    "<br>\n",
    "\n",
    "**4. Provide the name for each `region` for every order, as well as the account name and the unit price they paid (total_amt_usd/total) for the order. However, you should only provide the results if the standard order quantity exceeds `100`. Your final table should have 3 columns: region name, account name, and unit price. In order to avoid a division by zero error, adding .01 to the denominator here is helpful total_amt_usd/(total+0.01).**"
   ]
  },
  {
   "cell_type": "code",
   "execution_count": null,
   "id": "a6fc3e94",
   "metadata": {},
   "outputs": [],
   "source": []
  },
  {
   "cell_type": "markdown",
   "id": "520bde2f",
   "metadata": {},
   "source": [
    "<br>\n",
    "\n",
    "**5. Provide the `name` for each `region` for every order, as well as the account name and the unit price they paid (`total_amt_usd`/`total`) for the order. However, you should only provide the results if the `standard order quantity` exceeds 100 and the `poster order quantity` exceeds 50. Your final table should have 3 columns: `region name`, `account name`, and `unit price`. Sort for the smallest unit price first. In order to avoid a division by zero error, adding .01 to the denominator here is helpful (`total_amt_usd`/(`total`+0.01).**"
   ]
  },
  {
   "cell_type": "code",
   "execution_count": null,
   "id": "46fa7d16",
   "metadata": {},
   "outputs": [],
   "source": []
  },
  {
   "cell_type": "markdown",
   "id": "6ce9f10c",
   "metadata": {},
   "source": [
    "<br>\n",
    "\n",
    "**6. Provide the name for each `region` for every `order`, as well as the account name and the unit price they paid (`total_amt_usd`/`total`) for the `order`. However, you should only provide the results if the standard order quantity exceeds 100 and the poster order quantity exceeds 50. Your final table should have 3 columns: `region name`, account name, and `unit price`. Sort for the largest unit price first. In order to avoid a division by zero error, adding .01 to the denominator here is helpful (`total_amt_usd`/(`total`+0.01).**"
   ]
  },
  {
   "cell_type": "code",
   "execution_count": null,
   "id": "28f184a3",
   "metadata": {},
   "outputs": [],
   "source": []
  },
  {
   "cell_type": "markdown",
   "id": "e64b469b",
   "metadata": {},
   "source": [
    "<br>\n",
    "\n",
    "**7. What are the different `channel`s used by `account id` `1001`? Your final table should have only 2 columns: `account name` and the different `channels`. You can try `SELECT` `DISTINCT` to narrow down the results to only the unique values.**"
   ]
  },
  {
   "cell_type": "code",
   "execution_count": null,
   "id": "fdfe973c",
   "metadata": {},
   "outputs": [],
   "source": []
  },
  {
   "cell_type": "markdown",
   "id": "e37fde3d",
   "metadata": {},
   "source": [
    "<br>\n",
    "\n",
    "**8. Find all the orders that occurred in 2015. Your final table should have 4 columns: `occurred_at`, `account name`, `order total`, and `order total_amt_usd`.**"
   ]
  },
  {
   "cell_type": "code",
   "execution_count": null,
   "id": "de9a7a0a",
   "metadata": {},
   "outputs": [],
   "source": []
  }
 ],
 "metadata": {
  "kernelspec": {
   "display_name": "Python 3 (ipykernel)",
   "language": "python",
   "name": "python3"
  },
  "language_info": {
   "codemirror_mode": {
    "name": "ipython",
    "version": 3
   },
   "file_extension": ".py",
   "mimetype": "text/x-python",
   "name": "python",
   "nbconvert_exporter": "python",
   "pygments_lexer": "ipython3",
   "version": "3.11.4"
  }
 },
 "nbformat": 4,
 "nbformat_minor": 5
}
