{
 "cells": [
  {
   "cell_type": "markdown",
   "id": "7afd8dad",
   "metadata": {},
   "source": [
    "## Basic SQL\n",
    "\n",
    "This Notebook contains the basic SQL queries Exercise of the Udacity SQL course"
   ]
  },
  {
   "cell_type": "markdown",
   "id": "e2ead5a7",
   "metadata": {},
   "source": [
    "### Connecting to the SQLite db file"
   ]
  },
  {
   "cell_type": "code",
   "execution_count": 1,
   "id": "cf08820f",
   "metadata": {},
   "outputs": [],
   "source": [
    "# Importing library\n",
    "import sqlite3\n",
    "\n",
    "# Connect to or create the SQLite database\n",
    "\n",
    "conn = sqlite3.connect('parch_and_posey.db')"
   ]
  },
  {
   "cell_type": "code",
   "execution_count": 2,
   "id": "72b7f7a7",
   "metadata": {},
   "outputs": [],
   "source": [
    "%load_ext sql"
   ]
  },
  {
   "cell_type": "code",
   "execution_count": 3,
   "id": "27cad7ec",
   "metadata": {},
   "outputs": [],
   "source": [
    "%sql sqlite:///parch_and_posey.db"
   ]
  },
  {
   "cell_type": "code",
   "execution_count": 4,
   "id": "e6491c2f",
   "metadata": {},
   "outputs": [
    {
     "name": "stdout",
     "output_type": "stream",
     "text": [
      " * sqlite:///parch_and_posey.db\n",
      "Done.\n"
     ]
    },
    {
     "data": {
      "text/html": [
       "<table>\n",
       "    <thead>\n",
       "        <tr>\n",
       "            <th>name</th>\n",
       "        </tr>\n",
       "    </thead>\n",
       "    <tbody>\n",
       "        <tr>\n",
       "            <td>accounts</td>\n",
       "        </tr>\n",
       "        <tr>\n",
       "            <td>orders</td>\n",
       "        </tr>\n",
       "        <tr>\n",
       "            <td>region</td>\n",
       "        </tr>\n",
       "        <tr>\n",
       "            <td>sales_reps</td>\n",
       "        </tr>\n",
       "        <tr>\n",
       "            <td>web_events</td>\n",
       "        </tr>\n",
       "    </tbody>\n",
       "</table>"
      ],
      "text/plain": [
       "[('accounts',), ('orders',), ('region',), ('sales_reps',), ('web_events',)]"
      ]
     },
     "execution_count": 4,
     "metadata": {},
     "output_type": "execute_result"
    }
   ],
   "source": [
    "%%sql\n",
    "\n",
    "SELECT name FROM sqlite_master WHERE type IN ('table','view') AND name NOT LIKE 'sqlite_%' ORDER BY 1"
   ]
  },
  {
   "cell_type": "markdown",
   "id": "c5b5cb65",
   "metadata": {},
   "source": [
    "<br>\n",
    "\n",
    "### ORDER BY"
   ]
  },
  {
   "cell_type": "markdown",
   "id": "62db1abf",
   "metadata": {},
   "source": [
    "**Write a query to return the 10 earliest orders in the orders table. Include the `id`, `occurred_at`, and `total_amt_usd`.**"
   ]
  },
  {
   "cell_type": "code",
   "execution_count": 5,
   "id": "fb1f7f42",
   "metadata": {},
   "outputs": [
    {
     "name": "stdout",
     "output_type": "stream",
     "text": [
      " * sqlite:///parch_and_posey.db\n",
      "Done.\n"
     ]
    },
    {
     "data": {
      "text/html": [
       "<table>\n",
       "    <thead>\n",
       "        <tr>\n",
       "            <th>id</th>\n",
       "            <th>occurred_at</th>\n",
       "            <th>total_amt_usd</th>\n",
       "        </tr>\n",
       "    </thead>\n",
       "    <tbody>\n",
       "        <tr>\n",
       "            <td>6451</td>\n",
       "            <td>2017-01-02 00:02:40</td>\n",
       "            <td>6451.76</td>\n",
       "        </tr>\n",
       "        <tr>\n",
       "            <td>3546</td>\n",
       "            <td>2017-01-01 23:50:16</td>\n",
       "            <td>1932.85</td>\n",
       "        </tr>\n",
       "        <tr>\n",
       "            <td>6454</td>\n",
       "            <td>2017-01-01 22:29:50</td>\n",
       "            <td>1854.57</td>\n",
       "        </tr>\n",
       "        <tr>\n",
       "            <td>3554</td>\n",
       "            <td>2017-01-01 22:17:26</td>\n",
       "            <td>2666.79</td>\n",
       "        </tr>\n",
       "        <tr>\n",
       "            <td>6556</td>\n",
       "            <td>2017-01-01 21:04:25</td>\n",
       "            <td>892.85</td>\n",
       "        </tr>\n",
       "        <tr>\n",
       "            <td>3745</td>\n",
       "            <td>2017-01-01 20:52:23</td>\n",
       "            <td>2582.4</td>\n",
       "        </tr>\n",
       "        <tr>\n",
       "            <td>1092</td>\n",
       "            <td>2017-01-01 17:34:10</td>\n",
       "            <td>1525.98</td>\n",
       "        </tr>\n",
       "        <tr>\n",
       "            <td>1364</td>\n",
       "            <td>2017-01-01 16:40:57</td>\n",
       "            <td>1036.57</td>\n",
       "        </tr>\n",
       "        <tr>\n",
       "            <td>3159</td>\n",
       "            <td>2017-01-01 14:05:39</td>\n",
       "            <td>1870.35</td>\n",
       "        </tr>\n",
       "        <tr>\n",
       "            <td>6223</td>\n",
       "            <td>2017-01-01 13:57:21</td>\n",
       "            <td>4676.25</td>\n",
       "        </tr>\n",
       "    </tbody>\n",
       "</table>"
      ],
      "text/plain": [
       "[(6451, '2017-01-02 00:02:40', 6451.76),\n",
       " (3546, '2017-01-01 23:50:16', 1932.85),\n",
       " (6454, '2017-01-01 22:29:50', 1854.57),\n",
       " (3554, '2017-01-01 22:17:26', 2666.79),\n",
       " (6556, '2017-01-01 21:04:25', 892.85),\n",
       " (3745, '2017-01-01 20:52:23', 2582.4),\n",
       " (1092, '2017-01-01 17:34:10', 1525.98),\n",
       " (1364, '2017-01-01 16:40:57', 1036.57),\n",
       " (3159, '2017-01-01 14:05:39', 1870.35),\n",
       " (6223, '2017-01-01 13:57:21', 4676.25)]"
      ]
     },
     "execution_count": 5,
     "metadata": {},
     "output_type": "execute_result"
    }
   ],
   "source": [
    "%%sql\n",
    "\n",
    "SELECT id, occurred_at, total_amt_usd\n",
    "FROM orders\n",
    "ORDER BY occurred_at DESC\n",
    "LIMIT 10;"
   ]
  },
  {
   "cell_type": "markdown",
   "id": "0c12b0a6",
   "metadata": {},
   "source": [
    "**Write a query to return the top 5 orders in terms of largest `total_amt_usd`. Include the `id`, `account_id`, and `total_amt_usd`.**"
   ]
  },
  {
   "cell_type": "code",
   "execution_count": null,
   "id": "8fe97cc6",
   "metadata": {},
   "outputs": [],
   "source": []
  },
  {
   "cell_type": "markdown",
   "id": "09625c29",
   "metadata": {},
   "source": [
    "**Write a query to return the lowest 20 orders in terms of smallest `total_amt_usd`. Include the `id`, `account_id`, and `total_amt_usd`.**"
   ]
  },
  {
   "cell_type": "code",
   "execution_count": null,
   "id": "600bdf04",
   "metadata": {},
   "outputs": [],
   "source": []
  },
  {
   "cell_type": "markdown",
   "id": "534f9a38",
   "metadata": {},
   "source": [
    "<br>\n",
    "\n",
    "**Write a query that displays the order ID, account ID, and total dollar amount for all the orders, sorted first by the account ID (in ascending order), and then by the total dollar amount (in descending order).**"
   ]
  },
  {
   "cell_type": "code",
   "execution_count": null,
   "id": "e360035c",
   "metadata": {},
   "outputs": [],
   "source": []
  },
  {
   "cell_type": "markdown",
   "id": "0d6402c7",
   "metadata": {},
   "source": [
    "<br>\n",
    "\n",
    "**Now write a query that again displays order ID, account ID, and total dollar amount for each order, but this time sorted first by total dollar amount (in descending order), and then by account ID (in ascending order).**"
   ]
  },
  {
   "cell_type": "code",
   "execution_count": null,
   "id": "40c5840f",
   "metadata": {},
   "outputs": [],
   "source": []
  },
  {
   "cell_type": "markdown",
   "id": "f384849c",
   "metadata": {},
   "source": [
    "<br>\n",
    "\n",
    "**Compare the results of these two queries above. How are the results different when you switch the column you sort on first?**"
   ]
  },
  {
   "cell_type": "code",
   "execution_count": null,
   "id": "742a65c3",
   "metadata": {},
   "outputs": [],
   "source": []
  },
  {
   "cell_type": "markdown",
   "id": "6e9f03d2",
   "metadata": {},
   "source": [
    "<br>\n",
    "\n",
    "### WHERE"
   ]
  },
  {
   "cell_type": "markdown",
   "id": "ccbb0199",
   "metadata": {},
   "source": [
    "<br>\n",
    "\n",
    "**Pulls the first 5 rows and all columns from the orders table that have a dollar amount of `gloss_amt_usd` greater `than` or equal to `1000`.**"
   ]
  },
  {
   "cell_type": "code",
   "execution_count": null,
   "id": "d40654e0",
   "metadata": {},
   "outputs": [],
   "source": []
  },
  {
   "cell_type": "markdown",
   "id": "8f60bd28",
   "metadata": {},
   "source": [
    "<br>\n",
    "\n",
    "**Pulls the first 10 rows and all columns from the orders table that have a total_amt_usd less than 500.**"
   ]
  },
  {
   "cell_type": "code",
   "execution_count": null,
   "id": "a7d802fd",
   "metadata": {},
   "outputs": [],
   "source": []
  },
  {
   "cell_type": "markdown",
   "id": "98bae520",
   "metadata": {},
   "source": [
    "<br>\n",
    "\n",
    "### Where with Non-Numeric\n",
    "\n",
    "\n",
    "**Filter the accounts table to include the company name, website, and the primary point of contact (`primary_poc`) just for the Exxon Mobil company in the accounts table.**"
   ]
  },
  {
   "cell_type": "code",
   "execution_count": null,
   "id": "8003890e",
   "metadata": {},
   "outputs": [],
   "source": []
  },
  {
   "cell_type": "markdown",
   "id": "56cc9945",
   "metadata": {},
   "source": [
    "<br>\n",
    "\n",
    "### Arithmetic Operations\n",
    "\n",
    "**Using the orders table:**"
   ]
  },
  {
   "cell_type": "markdown",
   "id": "6ef196a5",
   "metadata": {},
   "source": [
    "<br>\n",
    "\n",
    "**Create a column that divides the standard_amt_usd by the standard_qty to find the unit price for standard paper for each order. Limit the results to the first 10 orders, and include the id and account_id fields.**"
   ]
  },
  {
   "cell_type": "code",
   "execution_count": null,
   "id": "adc92569",
   "metadata": {},
   "outputs": [],
   "source": []
  },
  {
   "cell_type": "markdown",
   "id": "9a9decd8",
   "metadata": {},
   "source": [
    "<br>\n",
    "\n",
    "**Write a query that finds the percentage of revenue that comes from poster paper for each order. You will need to use only the columns that end with `_usd`. (Try to do this without using the `total` column.) Display the `id` and `account_id` fields also.**"
   ]
  },
  {
   "cell_type": "code",
   "execution_count": null,
   "id": "868dcba4",
   "metadata": {},
   "outputs": [],
   "source": []
  },
  {
   "cell_type": "markdown",
   "id": "1b188674",
   "metadata": {},
   "source": [
    "<br>\n",
    "\n",
    "### LIKE"
   ]
  },
  {
   "cell_type": "markdown",
   "id": "de1b3704",
   "metadata": {},
   "source": [
    "<br>\n",
    "\n",
    "**Use the accounts table to find**"
   ]
  },
  {
   "cell_type": "markdown",
   "id": "4add08a9",
   "metadata": {},
   "source": [
    "**All the companies whose names start with 'C'.**"
   ]
  },
  {
   "cell_type": "code",
   "execution_count": null,
   "id": "d8127fb4",
   "metadata": {},
   "outputs": [],
   "source": []
  },
  {
   "cell_type": "markdown",
   "id": "782e5f95",
   "metadata": {},
   "source": [
    "<br>\n",
    "\n",
    "**All companies whose names contain the string 'one' somewhere in the name.**"
   ]
  },
  {
   "cell_type": "code",
   "execution_count": null,
   "id": "af9ecea9",
   "metadata": {},
   "outputs": [],
   "source": []
  },
  {
   "cell_type": "markdown",
   "id": "60e38678",
   "metadata": {},
   "source": [
    "<br>\n",
    "\n",
    "**All companies whose names end with 's'**"
   ]
  },
  {
   "cell_type": "code",
   "execution_count": null,
   "id": "fd56f355",
   "metadata": {},
   "outputs": [],
   "source": []
  },
  {
   "cell_type": "markdown",
   "id": "66a1da2a",
   "metadata": {},
   "source": [
    "<br>\n",
    "\n",
    "### IN"
   ]
  },
  {
   "cell_type": "markdown",
   "id": "14b43b3a",
   "metadata": {},
   "source": [
    "**Use the accounts table to find the account name, primary_poc, and sales_rep_id for Walmart, Target, and Nordstrom.**"
   ]
  },
  {
   "cell_type": "code",
   "execution_count": null,
   "id": "5070c6de",
   "metadata": {},
   "outputs": [],
   "source": []
  },
  {
   "cell_type": "markdown",
   "id": "cc37b04c",
   "metadata": {},
   "source": [
    "<br>\n",
    "\n",
    "**Use the web_events table to find all information regarding individuals who were contacted via the channel of organic or adwords.**"
   ]
  },
  {
   "cell_type": "code",
   "execution_count": null,
   "id": "460c3c72",
   "metadata": {},
   "outputs": [],
   "source": []
  },
  {
   "cell_type": "markdown",
   "id": "ec968ae0",
   "metadata": {},
   "source": [
    "<br>\n",
    "\n",
    "### NOT"
   ]
  },
  {
   "cell_type": "markdown",
   "id": "c9639b71",
   "metadata": {},
   "source": [
    "**Use the `accounts` table to find the account name, primary poc, and sales rep id for all stores except Walmart, Target, and Nordstrom.**"
   ]
  },
  {
   "cell_type": "code",
   "execution_count": null,
   "id": "4b8fc392",
   "metadata": {},
   "outputs": [],
   "source": []
  },
  {
   "cell_type": "markdown",
   "id": "37d07f6a",
   "metadata": {},
   "source": [
    "<br>\n",
    "\n",
    "**Use the `web_events` table to find all information regarding individuals who were contacted via any method except using organic or adwords methods.**"
   ]
  },
  {
   "cell_type": "markdown",
   "id": "88201c09",
   "metadata": {},
   "source": [
    "<br>\n",
    "\n",
    "**Use the accounts table to find:**"
   ]
  },
  {
   "cell_type": "markdown",
   "id": "03e8d486",
   "metadata": {},
   "source": [
    "**All the companies whose names do not start with 'C'.**"
   ]
  },
  {
   "cell_type": "code",
   "execution_count": null,
   "id": "32a56fab",
   "metadata": {},
   "outputs": [],
   "source": []
  },
  {
   "cell_type": "markdown",
   "id": "acd3fd08",
   "metadata": {},
   "source": [
    "<br>\n",
    "\n",
    "**All companies whose names do not contain the string 'one' somewhere in the name.**"
   ]
  },
  {
   "cell_type": "code",
   "execution_count": null,
   "id": "98be92d3",
   "metadata": {},
   "outputs": [],
   "source": []
  },
  {
   "cell_type": "markdown",
   "id": "5c4e5edd",
   "metadata": {},
   "source": [
    "<br>\n",
    "\n",
    "**All companies whose names do not end with 's'.**"
   ]
  },
  {
   "cell_type": "code",
   "execution_count": null,
   "id": "53a2d0e3",
   "metadata": {},
   "outputs": [],
   "source": []
  },
  {
   "cell_type": "markdown",
   "id": "7b774e8d",
   "metadata": {},
   "source": [
    "<br>\n",
    "\n",
    "### AND and BETWEEN"
   ]
  },
  {
   "cell_type": "markdown",
   "id": "a506dd0a",
   "metadata": {},
   "source": [
    "<br>\n",
    "\n",
    "**Write a query that returns all the orders where the `standard_qty` is over `1000`, the `poster_qty` is `0`, and the `gloss_qty` is `0`.**"
   ]
  },
  {
   "cell_type": "code",
   "execution_count": null,
   "id": "5e940083",
   "metadata": {},
   "outputs": [],
   "source": []
  },
  {
   "cell_type": "markdown",
   "id": "c7e27853",
   "metadata": {},
   "source": [
    "<br>\n",
    "\n",
    "**Using the `accounts` table, find all the companies whose names do not start with 'C' and end with 's'.**"
   ]
  },
  {
   "cell_type": "code",
   "execution_count": null,
   "id": "b50d552c",
   "metadata": {},
   "outputs": [],
   "source": []
  },
  {
   "cell_type": "markdown",
   "id": "abbcea28",
   "metadata": {},
   "source": [
    "<br>\n",
    "\n",
    "**When you use the BETWEEN operator in SQL, do the results include the values of your endpoints, or not? Figure out the answer to this important question by writing a query that displays the order date and `gloss_qty` data for all `orders` where gloss_qty is between 24 and 29. Then look at your output to see if the BETWEEN operator included the begin and end values or not.**"
   ]
  },
  {
   "cell_type": "code",
   "execution_count": null,
   "id": "8f5bc79b",
   "metadata": {},
   "outputs": [],
   "source": []
  },
  {
   "cell_type": "markdown",
   "id": "3c17ea5f",
   "metadata": {},
   "source": [
    "<br>\n",
    "\n",
    "**Use the `web_events` table to find all information regarding individuals who were contacted via the `organic` or `adwords` channels, and started their account at any point in 2016, sorted from newest to oldest.**"
   ]
  },
  {
   "cell_type": "code",
   "execution_count": null,
   "id": "6bc52d6b",
   "metadata": {},
   "outputs": [],
   "source": []
  },
  {
   "cell_type": "markdown",
   "id": "38737b1a",
   "metadata": {},
   "source": [
    "<br>\n",
    "\n",
    "### OR"
   ]
  },
  {
   "cell_type": "markdown",
   "id": "b33a99b4",
   "metadata": {},
   "source": [
    "<br>\n",
    "\n",
    "**Find list of `orders` ids where either `gloss_qty` or `poster_qty` is greater than `4000`. Only include the id field in the resulting table.**"
   ]
  },
  {
   "cell_type": "code",
   "execution_count": null,
   "id": "93f37e00",
   "metadata": {},
   "outputs": [],
   "source": []
  },
  {
   "cell_type": "markdown",
   "id": "249caddb",
   "metadata": {},
   "source": [
    "<br>\n",
    "\n",
    "**Write a query that returns a list of `orders` where the `standard_qty` is zero and either the `gloss_qty` or `poster_qty` is over `1000`.**"
   ]
  },
  {
   "cell_type": "code",
   "execution_count": null,
   "id": "d0fe1a54",
   "metadata": {},
   "outputs": [],
   "source": []
  },
  {
   "cell_type": "markdown",
   "id": "c3354368",
   "metadata": {},
   "source": [
    "<br>\n",
    "\n",
    "**Find all the company names that start with a 'C' or 'W', and the primary contact `contains` 'ana' or 'Ana', but it doesn't contain 'eana'.**"
   ]
  },
  {
   "cell_type": "code",
   "execution_count": null,
   "id": "dabc1283",
   "metadata": {},
   "outputs": [],
   "source": []
  }
 ],
 "metadata": {
  "kernelspec": {
   "display_name": "Python 3 (ipykernel)",
   "language": "python",
   "name": "python3"
  },
  "language_info": {
   "codemirror_mode": {
    "name": "ipython",
    "version": 3
   },
   "file_extension": ".py",
   "mimetype": "text/x-python",
   "name": "python",
   "nbconvert_exporter": "python",
   "pygments_lexer": "ipython3",
   "version": "3.11.4"
  }
 },
 "nbformat": 4,
 "nbformat_minor": 5
}
