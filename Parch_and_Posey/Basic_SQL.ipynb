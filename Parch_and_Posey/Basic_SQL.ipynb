{
 "cells": [
  {
   "cell_type": "markdown",
   "id": "7afd8dad",
   "metadata": {},
   "source": [
    "## Basic SQL\n",
    "\n",
    "This Notebook contains the basic SQL queries Exercise of the Udacity SQL course"
   ]
  },
  {
   "cell_type": "markdown",
   "id": "e2ead5a7",
   "metadata": {},
   "source": [
    "### Connecting to the SQLite db file"
   ]
  },
  {
   "cell_type": "code",
   "execution_count": 1,
   "id": "cf08820f",
   "metadata": {},
   "outputs": [],
   "source": [
    "# Importing library\n",
    "import sqlite3\n",
    "\n",
    "# Connect to or create the SQLite database\n",
    "\n",
    "conn = sqlite3.connect('parch_and_posey.db')"
   ]
  },
  {
   "cell_type": "code",
   "execution_count": 2,
   "id": "72b7f7a7",
   "metadata": {},
   "outputs": [],
   "source": [
    "%load_ext sql"
   ]
  },
  {
   "cell_type": "code",
   "execution_count": 3,
   "id": "27cad7ec",
   "metadata": {},
   "outputs": [],
   "source": [
    "%sql sqlite:///parch_and_posey.db"
   ]
  },
  {
   "cell_type": "code",
   "execution_count": 4,
   "id": "e6491c2f",
   "metadata": {},
   "outputs": [
    {
     "name": "stdout",
     "output_type": "stream",
     "text": [
      " * sqlite:///parch_and_posey.db\n",
      "Done.\n"
     ]
    },
    {
     "data": {
      "text/html": [
       "<table>\n",
       "    <thead>\n",
       "        <tr>\n",
       "            <th>name</th>\n",
       "        </tr>\n",
       "    </thead>\n",
       "    <tbody>\n",
       "        <tr>\n",
       "            <td>accounts</td>\n",
       "        </tr>\n",
       "        <tr>\n",
       "            <td>orders</td>\n",
       "        </tr>\n",
       "        <tr>\n",
       "            <td>region</td>\n",
       "        </tr>\n",
       "        <tr>\n",
       "            <td>sales_reps</td>\n",
       "        </tr>\n",
       "        <tr>\n",
       "            <td>web_events</td>\n",
       "        </tr>\n",
       "    </tbody>\n",
       "</table>"
      ],
      "text/plain": [
       "[('accounts',), ('orders',), ('region',), ('sales_reps',), ('web_events',)]"
      ]
     },
     "execution_count": 4,
     "metadata": {},
     "output_type": "execute_result"
    }
   ],
   "source": [
    "%%sql\n",
    "\n",
    "SELECT name FROM sqlite_master WHERE type IN ('table','view') AND name NOT LIKE 'sqlite_%' ORDER BY 1"
   ]
  },
  {
   "cell_type": "markdown",
   "id": "c5b5cb65",
   "metadata": {},
   "source": [
    "<br>\n",
    "\n",
    "### ORDER BY"
   ]
  },
  {
   "cell_type": "markdown",
   "id": "62db1abf",
   "metadata": {},
   "source": [
    "**Write a query to return the 10 earliest orders in the orders table. Include the `id`, `occurred_at`, and `total_amt_usd`.**"
   ]
  },
  {
   "cell_type": "code",
   "execution_count": 5,
   "id": "fb1f7f42",
   "metadata": {},
   "outputs": [
    {
     "name": "stdout",
     "output_type": "stream",
     "text": [
      " * sqlite:///parch_and_posey.db\n",
      "Done.\n"
     ]
    },
    {
     "data": {
      "text/html": [
       "<table>\n",
       "    <thead>\n",
       "        <tr>\n",
       "            <th>id</th>\n",
       "            <th>occurred_at</th>\n",
       "            <th>total_amt_usd</th>\n",
       "        </tr>\n",
       "    </thead>\n",
       "    <tbody>\n",
       "        <tr>\n",
       "            <td>6451</td>\n",
       "            <td>2017-01-02 00:02:40</td>\n",
       "            <td>6451.76</td>\n",
       "        </tr>\n",
       "        <tr>\n",
       "            <td>3546</td>\n",
       "            <td>2017-01-01 23:50:16</td>\n",
       "            <td>1932.85</td>\n",
       "        </tr>\n",
       "        <tr>\n",
       "            <td>6454</td>\n",
       "            <td>2017-01-01 22:29:50</td>\n",
       "            <td>1854.57</td>\n",
       "        </tr>\n",
       "        <tr>\n",
       "            <td>3554</td>\n",
       "            <td>2017-01-01 22:17:26</td>\n",
       "            <td>2666.79</td>\n",
       "        </tr>\n",
       "        <tr>\n",
       "            <td>6556</td>\n",
       "            <td>2017-01-01 21:04:25</td>\n",
       "            <td>892.85</td>\n",
       "        </tr>\n",
       "        <tr>\n",
       "            <td>3745</td>\n",
       "            <td>2017-01-01 20:52:23</td>\n",
       "            <td>2582.4</td>\n",
       "        </tr>\n",
       "        <tr>\n",
       "            <td>1092</td>\n",
       "            <td>2017-01-01 17:34:10</td>\n",
       "            <td>1525.98</td>\n",
       "        </tr>\n",
       "        <tr>\n",
       "            <td>1364</td>\n",
       "            <td>2017-01-01 16:40:57</td>\n",
       "            <td>1036.57</td>\n",
       "        </tr>\n",
       "        <tr>\n",
       "            <td>3159</td>\n",
       "            <td>2017-01-01 14:05:39</td>\n",
       "            <td>1870.35</td>\n",
       "        </tr>\n",
       "        <tr>\n",
       "            <td>6223</td>\n",
       "            <td>2017-01-01 13:57:21</td>\n",
       "            <td>4676.25</td>\n",
       "        </tr>\n",
       "    </tbody>\n",
       "</table>"
      ],
      "text/plain": [
       "[(6451, '2017-01-02 00:02:40', 6451.76),\n",
       " (3546, '2017-01-01 23:50:16', 1932.85),\n",
       " (6454, '2017-01-01 22:29:50', 1854.57),\n",
       " (3554, '2017-01-01 22:17:26', 2666.79),\n",
       " (6556, '2017-01-01 21:04:25', 892.85),\n",
       " (3745, '2017-01-01 20:52:23', 2582.4),\n",
       " (1092, '2017-01-01 17:34:10', 1525.98),\n",
       " (1364, '2017-01-01 16:40:57', 1036.57),\n",
       " (3159, '2017-01-01 14:05:39', 1870.35),\n",
       " (6223, '2017-01-01 13:57:21', 4676.25)]"
      ]
     },
     "execution_count": 5,
     "metadata": {},
     "output_type": "execute_result"
    }
   ],
   "source": [
    "%%sql\n",
    "\n",
    "SELECT id, occurred_at, total_amt_usd\n",
    "FROM orders\n",
    "ORDER BY occurred_at DESC\n",
    "LIMIT 10;"
   ]
  },
  {
   "cell_type": "markdown",
   "id": "0c12b0a6",
   "metadata": {},
   "source": [
    "**Write a query to return the top 5 orders in terms of largest `total_amt_usd`. Include the `id`, `account_id`, and `total_amt_usd`.**"
   ]
  },
  {
   "cell_type": "code",
   "execution_count": 6,
   "id": "8fe97cc6",
   "metadata": {},
   "outputs": [
    {
     "name": "stdout",
     "output_type": "stream",
     "text": [
      " * sqlite:///parch_and_posey.db\n",
      "Done.\n"
     ]
    },
    {
     "data": {
      "text/html": [
       "<table>\n",
       "    <thead>\n",
       "        <tr>\n",
       "            <th>id</th>\n",
       "            <th>account_id</th>\n",
       "            <th>total_amt_usd</th>\n",
       "        </tr>\n",
       "    </thead>\n",
       "    <tbody>\n",
       "        <tr>\n",
       "            <td>4016</td>\n",
       "            <td>4251</td>\n",
       "            <td>232207.07</td>\n",
       "        </tr>\n",
       "        <tr>\n",
       "            <td>3892</td>\n",
       "            <td>4161</td>\n",
       "            <td>112875.18</td>\n",
       "        </tr>\n",
       "        <tr>\n",
       "            <td>3963</td>\n",
       "            <td>4211</td>\n",
       "            <td>107533.55</td>\n",
       "        </tr>\n",
       "        <tr>\n",
       "            <td>5791</td>\n",
       "            <td>2861</td>\n",
       "            <td>95005.82</td>\n",
       "        </tr>\n",
       "        <tr>\n",
       "            <td>3778</td>\n",
       "            <td>4101</td>\n",
       "            <td>93547.84</td>\n",
       "        </tr>\n",
       "    </tbody>\n",
       "</table>"
      ],
      "text/plain": [
       "[(4016, 4251, 232207.07),\n",
       " (3892, 4161, 112875.18),\n",
       " (3963, 4211, 107533.55),\n",
       " (5791, 2861, 95005.82),\n",
       " (3778, 4101, 93547.84)]"
      ]
     },
     "execution_count": 6,
     "metadata": {},
     "output_type": "execute_result"
    }
   ],
   "source": [
    "%%sql\n",
    "\n",
    "SELECT id, account_id, total_amt_usd\n",
    "FROM orders\n",
    "ORDER BY total_amt_usd DESC\n",
    "LIMIT 5;"
   ]
  },
  {
   "cell_type": "markdown",
   "id": "09625c29",
   "metadata": {},
   "source": [
    "**Write a query to return the lowest 20 orders in terms of smallest `total_amt_usd`. Include the `id`, `account_id`, and `total_amt_usd`.**"
   ]
  },
  {
   "cell_type": "code",
   "execution_count": 7,
   "id": "600bdf04",
   "metadata": {},
   "outputs": [
    {
     "name": "stdout",
     "output_type": "stream",
     "text": [
      " * sqlite:///parch_and_posey.db\n",
      "Done.\n"
     ]
    },
    {
     "data": {
      "text/html": [
       "<table>\n",
       "    <thead>\n",
       "        <tr>\n",
       "            <th>id</th>\n",
       "            <th>account_id</th>\n",
       "            <th>total_amt_usd</th>\n",
       "        </tr>\n",
       "    </thead>\n",
       "    <tbody>\n",
       "        <tr>\n",
       "            <td>124</td>\n",
       "            <td>1131</td>\n",
       "            <td>0.0</td>\n",
       "        </tr>\n",
       "        <tr>\n",
       "            <td>1353</td>\n",
       "            <td>1951</td>\n",
       "            <td>0.0</td>\n",
       "        </tr>\n",
       "        <tr>\n",
       "            <td>2518</td>\n",
       "            <td>2881</td>\n",
       "            <td>0.0</td>\n",
       "        </tr>\n",
       "        <tr>\n",
       "            <td>4445</td>\n",
       "            <td>1221</td>\n",
       "            <td>0.0</td>\n",
       "        </tr>\n",
       "        <tr>\n",
       "            <td>4446</td>\n",
       "            <td>1231</td>\n",
       "            <td>0.0</td>\n",
       "        </tr>\n",
       "        <tr>\n",
       "            <td>4490</td>\n",
       "            <td>1281</td>\n",
       "            <td>0.0</td>\n",
       "        </tr>\n",
       "        <tr>\n",
       "            <td>4625</td>\n",
       "            <td>1411</td>\n",
       "            <td>0.0</td>\n",
       "        </tr>\n",
       "        <tr>\n",
       "            <td>4770</td>\n",
       "            <td>1521</td>\n",
       "            <td>0.0</td>\n",
       "        </tr>\n",
       "        <tr>\n",
       "            <td>4844</td>\n",
       "            <td>1571</td>\n",
       "            <td>0.0</td>\n",
       "        </tr>\n",
       "        <tr>\n",
       "            <td>5001</td>\n",
       "            <td>1791</td>\n",
       "            <td>0.0</td>\n",
       "        </tr>\n",
       "        <tr>\n",
       "            <td>5057</td>\n",
       "            <td>1851</td>\n",
       "            <td>0.0</td>\n",
       "        </tr>\n",
       "        <tr>\n",
       "            <td>5612</td>\n",
       "            <td>2601</td>\n",
       "            <td>0.0</td>\n",
       "        </tr>\n",
       "        <tr>\n",
       "            <td>6009</td>\n",
       "            <td>3141</td>\n",
       "            <td>0.0</td>\n",
       "        </tr>\n",
       "        <tr>\n",
       "            <td>6281</td>\n",
       "            <td>3491</td>\n",
       "            <td>0.0</td>\n",
       "        </tr>\n",
       "        <tr>\n",
       "            <td>6312</td>\n",
       "            <td>3541</td>\n",
       "            <td>0.0</td>\n",
       "        </tr>\n",
       "        <tr>\n",
       "            <td>6323</td>\n",
       "            <td>3551</td>\n",
       "            <td>0.0</td>\n",
       "        </tr>\n",
       "        <tr>\n",
       "            <td>6375</td>\n",
       "            <td>3651</td>\n",
       "            <td>0.0</td>\n",
       "        </tr>\n",
       "        <tr>\n",
       "            <td>6435</td>\n",
       "            <td>3801</td>\n",
       "            <td>0.0</td>\n",
       "        </tr>\n",
       "        <tr>\n",
       "            <td>6523</td>\n",
       "            <td>3991</td>\n",
       "            <td>0.0</td>\n",
       "        </tr>\n",
       "        <tr>\n",
       "            <td>6856</td>\n",
       "            <td>4451</td>\n",
       "            <td>0.0</td>\n",
       "        </tr>\n",
       "    </tbody>\n",
       "</table>"
      ],
      "text/plain": [
       "[(124, 1131, 0.0),\n",
       " (1353, 1951, 0.0),\n",
       " (2518, 2881, 0.0),\n",
       " (4445, 1221, 0.0),\n",
       " (4446, 1231, 0.0),\n",
       " (4490, 1281, 0.0),\n",
       " (4625, 1411, 0.0),\n",
       " (4770, 1521, 0.0),\n",
       " (4844, 1571, 0.0),\n",
       " (5001, 1791, 0.0),\n",
       " (5057, 1851, 0.0),\n",
       " (5612, 2601, 0.0),\n",
       " (6009, 3141, 0.0),\n",
       " (6281, 3491, 0.0),\n",
       " (6312, 3541, 0.0),\n",
       " (6323, 3551, 0.0),\n",
       " (6375, 3651, 0.0),\n",
       " (6435, 3801, 0.0),\n",
       " (6523, 3991, 0.0),\n",
       " (6856, 4451, 0.0)]"
      ]
     },
     "execution_count": 7,
     "metadata": {},
     "output_type": "execute_result"
    }
   ],
   "source": [
    "%%sql\n",
    "\n",
    "SELECT id, account_id, total_amt_usd\n",
    "FROM orders\n",
    "ORDER BY total_amt_usd\n",
    "LIMIT 20;"
   ]
  },
  {
   "cell_type": "markdown",
   "id": "534f9a38",
   "metadata": {},
   "source": [
    "<br>\n",
    "\n",
    "**Write a query that displays the order ID, account ID, and total dollar amount for all the orders, sorted first by the account ID (in ascending order), and then by the total dollar amount (in descending order).**"
   ]
  },
  {
   "cell_type": "code",
   "execution_count": 8,
   "id": "e360035c",
   "metadata": {},
   "outputs": [
    {
     "name": "stdout",
     "output_type": "stream",
     "text": [
      " * sqlite:///parch_and_posey.db\n",
      "Done.\n"
     ]
    },
    {
     "data": {
      "text/html": [
       "<table>\n",
       "    <thead>\n",
       "        <tr>\n",
       "            <th>id</th>\n",
       "            <th>account_id</th>\n",
       "            <th>total_amt_usd</th>\n",
       "        </tr>\n",
       "    </thead>\n",
       "    <tbody>\n",
       "        <tr>\n",
       "            <td>4308</td>\n",
       "            <td>1001</td>\n",
       "            <td>9426.71</td>\n",
       "        </tr>\n",
       "        <tr>\n",
       "            <td>4309</td>\n",
       "            <td>1001</td>\n",
       "            <td>9230.67</td>\n",
       "        </tr>\n",
       "        <tr>\n",
       "            <td>4316</td>\n",
       "            <td>1001</td>\n",
       "            <td>9134.31</td>\n",
       "        </tr>\n",
       "        <tr>\n",
       "            <td>4317</td>\n",
       "            <td>1001</td>\n",
       "            <td>8963.91</td>\n",
       "        </tr>\n",
       "        <tr>\n",
       "            <td>4314</td>\n",
       "            <td>1001</td>\n",
       "            <td>8863.24</td>\n",
       "        </tr>\n",
       "        <tr>\n",
       "            <td>4307</td>\n",
       "            <td>1001</td>\n",
       "            <td>8757.18</td>\n",
       "        </tr>\n",
       "        <tr>\n",
       "            <td>4311</td>\n",
       "            <td>1001</td>\n",
       "            <td>8672.95</td>\n",
       "        </tr>\n",
       "        <tr>\n",
       "            <td>4310</td>\n",
       "            <td>1001</td>\n",
       "            <td>8538.26</td>\n",
       "        </tr>\n",
       "        <tr>\n",
       "            <td>4312</td>\n",
       "            <td>1001</td>\n",
       "            <td>8343.09</td>\n",
       "        </tr>\n",
       "        <tr>\n",
       "            <td>4313</td>\n",
       "            <td>1001</td>\n",
       "            <td>8311.59</td>\n",
       "        </tr>\n",
       "        <tr>\n",
       "            <td>4315</td>\n",
       "            <td>1001</td>\n",
       "            <td>8286.99</td>\n",
       "        </tr>\n",
       "        <tr>\n",
       "            <td>4318</td>\n",
       "            <td>1001</td>\n",
       "            <td>7924.46</td>\n",
       "        </tr>\n",
       "        <tr>\n",
       "            <td>8</td>\n",
       "            <td>1001</td>\n",
       "            <td>2052.2</td>\n",
       "        </tr>\n",
       "        <tr>\n",
       "            <td>14</td>\n",
       "            <td>1001</td>\n",
       "            <td>1993.58</td>\n",
       "        </tr>\n",
       "        <tr>\n",
       "            <td>16</td>\n",
       "            <td>1001</td>\n",
       "            <td>1719.28</td>\n",
       "        </tr>\n",
       "        <tr>\n",
       "            <td>2</td>\n",
       "            <td>1001</td>\n",
       "            <td>1718.03</td>\n",
       "        </tr>\n",
       "        <tr>\n",
       "            <td>7</td>\n",
       "            <td>1001</td>\n",
       "            <td>1498.2</td>\n",
       "        </tr>\n",
       "        <tr>\n",
       "            <td>15</td>\n",
       "            <td>1001</td>\n",
       "            <td>1283.12</td>\n",
       "        </tr>\n",
       "        <tr>\n",
       "            <td>12</td>\n",
       "            <td>1001</td>\n",
       "            <td>1182.61</td>\n",
       "        </tr>\n",
       "        <tr>\n",
       "            <td>6</td>\n",
       "            <td>1001</td>\n",
       "            <td>1067.25</td>\n",
       "        </tr>\n",
       "    </tbody>\n",
       "</table>"
      ],
      "text/plain": [
       "[(4308, 1001, 9426.71),\n",
       " (4309, 1001, 9230.67),\n",
       " (4316, 1001, 9134.31),\n",
       " (4317, 1001, 8963.91),\n",
       " (4314, 1001, 8863.24),\n",
       " (4307, 1001, 8757.18),\n",
       " (4311, 1001, 8672.95),\n",
       " (4310, 1001, 8538.26),\n",
       " (4312, 1001, 8343.09),\n",
       " (4313, 1001, 8311.59),\n",
       " (4315, 1001, 8286.99),\n",
       " (4318, 1001, 7924.46),\n",
       " (8, 1001, 2052.2),\n",
       " (14, 1001, 1993.58),\n",
       " (16, 1001, 1719.28),\n",
       " (2, 1001, 1718.03),\n",
       " (7, 1001, 1498.2),\n",
       " (15, 1001, 1283.12),\n",
       " (12, 1001, 1182.61),\n",
       " (6, 1001, 1067.25)]"
      ]
     },
     "execution_count": 8,
     "metadata": {},
     "output_type": "execute_result"
    }
   ],
   "source": [
    "%%sql\n",
    "\n",
    "SELECT id, account_id, total_amt_usd\n",
    "FROM orders\n",
    "ORDER BY account_id, total_amt_usd DESC\n",
    "LIMIT 20"
   ]
  },
  {
   "cell_type": "markdown",
   "id": "0d6402c7",
   "metadata": {},
   "source": [
    "<br>\n",
    "\n",
    "**Now write a query that again displays order ID, account ID, and total dollar amount for each order, but this time sorted first by total dollar amount (in descending order), and then by account ID (in ascending order).**"
   ]
  },
  {
   "cell_type": "code",
   "execution_count": 9,
   "id": "40c5840f",
   "metadata": {},
   "outputs": [
    {
     "name": "stdout",
     "output_type": "stream",
     "text": [
      " * sqlite:///parch_and_posey.db\n",
      "Done.\n"
     ]
    },
    {
     "data": {
      "text/html": [
       "<table>\n",
       "    <thead>\n",
       "        <tr>\n",
       "            <th>id</th>\n",
       "            <th>account_id</th>\n",
       "            <th>total_amt_usd</th>\n",
       "        </tr>\n",
       "    </thead>\n",
       "    <tbody>\n",
       "        <tr>\n",
       "            <td>4016</td>\n",
       "            <td>4251</td>\n",
       "            <td>232207.07</td>\n",
       "        </tr>\n",
       "        <tr>\n",
       "            <td>3892</td>\n",
       "            <td>4161</td>\n",
       "            <td>112875.18</td>\n",
       "        </tr>\n",
       "        <tr>\n",
       "            <td>3963</td>\n",
       "            <td>4211</td>\n",
       "            <td>107533.55</td>\n",
       "        </tr>\n",
       "        <tr>\n",
       "            <td>5791</td>\n",
       "            <td>2861</td>\n",
       "            <td>95005.82</td>\n",
       "        </tr>\n",
       "        <tr>\n",
       "            <td>3778</td>\n",
       "            <td>4101</td>\n",
       "            <td>93547.84</td>\n",
       "        </tr>\n",
       "        <tr>\n",
       "            <td>6590</td>\n",
       "            <td>4111</td>\n",
       "            <td>93505.69</td>\n",
       "        </tr>\n",
       "        <tr>\n",
       "            <td>362</td>\n",
       "            <td>1301</td>\n",
       "            <td>93106.81</td>\n",
       "        </tr>\n",
       "        <tr>\n",
       "            <td>731</td>\n",
       "            <td>1521</td>\n",
       "            <td>92991.05</td>\n",
       "        </tr>\n",
       "        <tr>\n",
       "            <td>4562</td>\n",
       "            <td>1341</td>\n",
       "            <td>84099.62</td>\n",
       "        </tr>\n",
       "        <tr>\n",
       "            <td>3858</td>\n",
       "            <td>4151</td>\n",
       "            <td>82163.71</td>\n",
       "        </tr>\n",
       "        <tr>\n",
       "            <td>4942</td>\n",
       "            <td>1701</td>\n",
       "            <td>81243.96</td>\n",
       "        </tr>\n",
       "        <tr>\n",
       "            <td>1191</td>\n",
       "            <td>1831</td>\n",
       "            <td>77285.75</td>\n",
       "        </tr>\n",
       "        <tr>\n",
       "            <td>1913</td>\n",
       "            <td>2461</td>\n",
       "            <td>48675.9</td>\n",
       "        </tr>\n",
       "        <tr>\n",
       "            <td>5479</td>\n",
       "            <td>2441</td>\n",
       "            <td>45465.23</td>\n",
       "        </tr>\n",
       "        <tr>\n",
       "            <td>4698</td>\n",
       "            <td>1451</td>\n",
       "            <td>43421.28</td>\n",
       "        </tr>\n",
       "        <tr>\n",
       "            <td>5167</td>\n",
       "            <td>2041</td>\n",
       "            <td>40928.7</td>\n",
       "        </tr>\n",
       "        <tr>\n",
       "            <td>4230</td>\n",
       "            <td>4451</td>\n",
       "            <td>36123.87</td>\n",
       "        </tr>\n",
       "        <tr>\n",
       "            <td>1939</td>\n",
       "            <td>2461</td>\n",
       "            <td>34016.55</td>\n",
       "        </tr>\n",
       "        <tr>\n",
       "            <td>6442</td>\n",
       "            <td>3811</td>\n",
       "            <td>31873.12</td>\n",
       "        </tr>\n",
       "        <tr>\n",
       "            <td>4806</td>\n",
       "            <td>1541</td>\n",
       "            <td>31329.24</td>\n",
       "        </tr>\n",
       "        <tr>\n",
       "            <td>1245</td>\n",
       "            <td>1871</td>\n",
       "            <td>30541.97</td>\n",
       "        </tr>\n",
       "        <tr>\n",
       "            <td>1112</td>\n",
       "            <td>1781</td>\n",
       "            <td>30279.45</td>\n",
       "        </tr>\n",
       "        <tr>\n",
       "            <td>320</td>\n",
       "            <td>1281</td>\n",
       "            <td>29699.28</td>\n",
       "        </tr>\n",
       "        <tr>\n",
       "            <td>5478</td>\n",
       "            <td>2441</td>\n",
       "            <td>29255.8</td>\n",
       "        </tr>\n",
       "        <tr>\n",
       "            <td>6579</td>\n",
       "            <td>4111</td>\n",
       "            <td>28229.14</td>\n",
       "        </tr>\n",
       "    </tbody>\n",
       "</table>"
      ],
      "text/plain": [
       "[(4016, 4251, 232207.07),\n",
       " (3892, 4161, 112875.18),\n",
       " (3963, 4211, 107533.55),\n",
       " (5791, 2861, 95005.82),\n",
       " (3778, 4101, 93547.84),\n",
       " (6590, 4111, 93505.69),\n",
       " (362, 1301, 93106.81),\n",
       " (731, 1521, 92991.05),\n",
       " (4562, 1341, 84099.62),\n",
       " (3858, 4151, 82163.71),\n",
       " (4942, 1701, 81243.96),\n",
       " (1191, 1831, 77285.75),\n",
       " (1913, 2461, 48675.9),\n",
       " (5479, 2441, 45465.23),\n",
       " (4698, 1451, 43421.28),\n",
       " (5167, 2041, 40928.7),\n",
       " (4230, 4451, 36123.87),\n",
       " (1939, 2461, 34016.55),\n",
       " (6442, 3811, 31873.12),\n",
       " (4806, 1541, 31329.24),\n",
       " (1245, 1871, 30541.97),\n",
       " (1112, 1781, 30279.45),\n",
       " (320, 1281, 29699.28),\n",
       " (5478, 2441, 29255.8),\n",
       " (6579, 4111, 28229.14)]"
      ]
     },
     "execution_count": 9,
     "metadata": {},
     "output_type": "execute_result"
    }
   ],
   "source": [
    "%%sql\n",
    "\n",
    "SELECT id, account_id, total_amt_usd\n",
    "FROM orders\n",
    "ORDER BY total_amt_usd DESC, account_id\n",
    "LIMIT 25;"
   ]
  },
  {
   "cell_type": "markdown",
   "id": "6e9f03d2",
   "metadata": {},
   "source": [
    "<br>\n",
    "\n",
    "### WHERE"
   ]
  },
  {
   "cell_type": "markdown",
   "id": "ccbb0199",
   "metadata": {},
   "source": [
    "<br>\n",
    "\n",
    "**Pull the first 5 rows and all columns from the orders table that have a dollar amount of `gloss_amt_usd` greater `than` or equal to `1000`.**"
   ]
  },
  {
   "cell_type": "code",
   "execution_count": 10,
   "id": "d40654e0",
   "metadata": {},
   "outputs": [
    {
     "name": "stdout",
     "output_type": "stream",
     "text": [
      " * sqlite:///parch_and_posey.db\n",
      "Done.\n"
     ]
    },
    {
     "data": {
      "text/html": [
       "<table>\n",
       "    <thead>\n",
       "        <tr>\n",
       "            <th>id</th>\n",
       "            <th>account_id</th>\n",
       "            <th>occurred_at</th>\n",
       "            <th>standard_qty</th>\n",
       "            <th>gloss_qty</th>\n",
       "            <th>poster_qty</th>\n",
       "            <th>total</th>\n",
       "            <th>standard_amt_usd</th>\n",
       "            <th>gloss_amt_usd</th>\n",
       "            <th>poster_amt_usd</th>\n",
       "            <th>total_amt_usd</th>\n",
       "        </tr>\n",
       "    </thead>\n",
       "    <tbody>\n",
       "        <tr>\n",
       "            <td>14</td>\n",
       "            <td>1001</td>\n",
       "            <td>2016-10-26 20:31:30</td>\n",
       "            <td>97</td>\n",
       "            <td>143</td>\n",
       "            <td>54</td>\n",
       "            <td>294</td>\n",
       "            <td>484.03</td>\n",
       "            <td>1071.07</td>\n",
       "            <td>438.48</td>\n",
       "            <td>1993.58</td>\n",
       "        </tr>\n",
       "        <tr>\n",
       "            <td>62</td>\n",
       "            <td>1091</td>\n",
       "            <td>2014-10-13 12:12:55</td>\n",
       "            <td>146</td>\n",
       "            <td>196</td>\n",
       "            <td>3</td>\n",
       "            <td>345</td>\n",
       "            <td>728.54</td>\n",
       "            <td>1468.04</td>\n",
       "            <td>24.36</td>\n",
       "            <td>2220.94</td>\n",
       "        </tr>\n",
       "        <tr>\n",
       "            <td>88</td>\n",
       "            <td>1101</td>\n",
       "            <td>2015-06-24 13:08:15</td>\n",
       "            <td>182</td>\n",
       "            <td>339</td>\n",
       "            <td>17</td>\n",
       "            <td>538</td>\n",
       "            <td>908.18</td>\n",
       "            <td>2539.11</td>\n",
       "            <td>138.04</td>\n",
       "            <td>3585.33</td>\n",
       "        </tr>\n",
       "        <tr>\n",
       "            <td>121</td>\n",
       "            <td>1131</td>\n",
       "            <td>2016-08-10 23:47:41</td>\n",
       "            <td>273</td>\n",
       "            <td>134</td>\n",
       "            <td>0</td>\n",
       "            <td>407</td>\n",
       "            <td>1362.27</td>\n",
       "            <td>1003.66</td>\n",
       "            <td>0.0</td>\n",
       "            <td>2365.93</td>\n",
       "        </tr>\n",
       "        <tr>\n",
       "            <td>129</td>\n",
       "            <td>1141</td>\n",
       "            <td>2016-12-21 15:52:58</td>\n",
       "            <td>143</td>\n",
       "            <td>1045</td>\n",
       "            <td>2157</td>\n",
       "            <td>3345</td>\n",
       "            <td>713.57</td>\n",
       "            <td>7827.05</td>\n",
       "            <td>17514.84</td>\n",
       "            <td>26055.46</td>\n",
       "        </tr>\n",
       "    </tbody>\n",
       "</table>"
      ],
      "text/plain": [
       "[(14, 1001, '2016-10-26 20:31:30', 97, 143, 54, 294, 484.03, 1071.07, 438.48, 1993.58),\n",
       " (62, 1091, '2014-10-13 12:12:55', 146, 196, 3, 345, 728.54, 1468.04, 24.36, 2220.94),\n",
       " (88, 1101, '2015-06-24 13:08:15', 182, 339, 17, 538, 908.18, 2539.11, 138.04, 3585.33),\n",
       " (121, 1131, '2016-08-10 23:47:41', 273, 134, 0, 407, 1362.27, 1003.66, 0.0, 2365.93),\n",
       " (129, 1141, '2016-12-21 15:52:58', 143, 1045, 2157, 3345, 713.57, 7827.05, 17514.84, 26055.46)]"
      ]
     },
     "execution_count": 10,
     "metadata": {},
     "output_type": "execute_result"
    }
   ],
   "source": [
    "%%sql\n",
    "\n",
    "SELECT *\n",
    "FROM orders\n",
    "WHERE gloss_amt_usd >= 1000\n",
    "LIMIT 5;"
   ]
  },
  {
   "cell_type": "markdown",
   "id": "8f60bd28",
   "metadata": {},
   "source": [
    "<br>\n",
    "\n",
    "**Pull the first 10 rows and all columns from the orders table that have a total_amt_usd less than 500.**"
   ]
  },
  {
   "cell_type": "code",
   "execution_count": 11,
   "id": "a7d802fd",
   "metadata": {},
   "outputs": [
    {
     "name": "stdout",
     "output_type": "stream",
     "text": [
      " * sqlite:///parch_and_posey.db\n",
      "Done.\n"
     ]
    },
    {
     "data": {
      "text/html": [
       "<table>\n",
       "    <thead>\n",
       "        <tr>\n",
       "            <th>id</th>\n",
       "            <th>account_id</th>\n",
       "            <th>occurred_at</th>\n",
       "            <th>standard_qty</th>\n",
       "            <th>gloss_qty</th>\n",
       "            <th>poster_qty</th>\n",
       "            <th>total</th>\n",
       "            <th>standard_amt_usd</th>\n",
       "            <th>gloss_amt_usd</th>\n",
       "            <th>poster_amt_usd</th>\n",
       "            <th>total_amt_usd</th>\n",
       "        </tr>\n",
       "    </thead>\n",
       "    <tbody>\n",
       "        <tr>\n",
       "            <td>67</td>\n",
       "            <td>1091</td>\n",
       "            <td>2015-04-07 13:29:20</td>\n",
       "            <td>95</td>\n",
       "            <td>0</td>\n",
       "            <td>0</td>\n",
       "            <td>95</td>\n",
       "            <td>474.05</td>\n",
       "            <td>0.0</td>\n",
       "            <td>0.0</td>\n",
       "            <td>474.05</td>\n",
       "        </tr>\n",
       "        <tr>\n",
       "            <td>96</td>\n",
       "            <td>1101</td>\n",
       "            <td>2016-03-15 11:36:03</td>\n",
       "            <td>14</td>\n",
       "            <td>8</td>\n",
       "            <td>16</td>\n",
       "            <td>38</td>\n",
       "            <td>69.86</td>\n",
       "            <td>59.92</td>\n",
       "            <td>129.92</td>\n",
       "            <td>259.7</td>\n",
       "        </tr>\n",
       "        <tr>\n",
       "            <td>119</td>\n",
       "            <td>1131</td>\n",
       "            <td>2016-06-12 12:29:45</td>\n",
       "            <td>0</td>\n",
       "            <td>30</td>\n",
       "            <td>23</td>\n",
       "            <td>53</td>\n",
       "            <td>0.0</td>\n",
       "            <td>224.7</td>\n",
       "            <td>186.76</td>\n",
       "            <td>411.46</td>\n",
       "        </tr>\n",
       "        <tr>\n",
       "            <td>124</td>\n",
       "            <td>1131</td>\n",
       "            <td>2016-11-07 05:10:56</td>\n",
       "            <td>0</td>\n",
       "            <td>0</td>\n",
       "            <td>0</td>\n",
       "            <td>0</td>\n",
       "            <td>0.0</td>\n",
       "            <td>0.0</td>\n",
       "            <td>0.0</td>\n",
       "            <td>0.0</td>\n",
       "        </tr>\n",
       "        <tr>\n",
       "            <td>254</td>\n",
       "            <td>1251</td>\n",
       "            <td>2014-11-01 02:15:24</td>\n",
       "            <td>0</td>\n",
       "            <td>0</td>\n",
       "            <td>17</td>\n",
       "            <td>17</td>\n",
       "            <td>0.0</td>\n",
       "            <td>0.0</td>\n",
       "            <td>138.04</td>\n",
       "            <td>138.04</td>\n",
       "        </tr>\n",
       "        <tr>\n",
       "            <td>328</td>\n",
       "            <td>1291</td>\n",
       "            <td>2015-08-03 08:35:23</td>\n",
       "            <td>0</td>\n",
       "            <td>19</td>\n",
       "            <td>21</td>\n",
       "            <td>40</td>\n",
       "            <td>0.0</td>\n",
       "            <td>142.31</td>\n",
       "            <td>170.52</td>\n",
       "            <td>312.83</td>\n",
       "        </tr>\n",
       "        <tr>\n",
       "            <td>542</td>\n",
       "            <td>1421</td>\n",
       "            <td>2015-11-13 09:07:09</td>\n",
       "            <td>0</td>\n",
       "            <td>64</td>\n",
       "            <td>0</td>\n",
       "            <td>64</td>\n",
       "            <td>0.0</td>\n",
       "            <td>479.36</td>\n",
       "            <td>0.0</td>\n",
       "            <td>479.36</td>\n",
       "        </tr>\n",
       "        <tr>\n",
       "            <td>683</td>\n",
       "            <td>1501</td>\n",
       "            <td>2016-04-14 23:59:50</td>\n",
       "            <td>0</td>\n",
       "            <td>15</td>\n",
       "            <td>16</td>\n",
       "            <td>31</td>\n",
       "            <td>0.0</td>\n",
       "            <td>112.35</td>\n",
       "            <td>129.92</td>\n",
       "            <td>242.27</td>\n",
       "        </tr>\n",
       "        <tr>\n",
       "            <td>713</td>\n",
       "            <td>1521</td>\n",
       "            <td>2014-11-23 16:04:03</td>\n",
       "            <td>0</td>\n",
       "            <td>8</td>\n",
       "            <td>10</td>\n",
       "            <td>18</td>\n",
       "            <td>0.0</td>\n",
       "            <td>59.92</td>\n",
       "            <td>81.2</td>\n",
       "            <td>141.12</td>\n",
       "        </tr>\n",
       "        <tr>\n",
       "            <td>730</td>\n",
       "            <td>1521</td>\n",
       "            <td>2016-05-06 02:34:48</td>\n",
       "            <td>0</td>\n",
       "            <td>0</td>\n",
       "            <td>2</td>\n",
       "            <td>2</td>\n",
       "            <td>0.0</td>\n",
       "            <td>0.0</td>\n",
       "            <td>16.24</td>\n",
       "            <td>16.24</td>\n",
       "        </tr>\n",
       "    </tbody>\n",
       "</table>"
      ],
      "text/plain": [
       "[(67, 1091, '2015-04-07 13:29:20', 95, 0, 0, 95, 474.05, 0.0, 0.0, 474.05),\n",
       " (96, 1101, '2016-03-15 11:36:03', 14, 8, 16, 38, 69.86, 59.92, 129.92, 259.7),\n",
       " (119, 1131, '2016-06-12 12:29:45', 0, 30, 23, 53, 0.0, 224.7, 186.76, 411.46),\n",
       " (124, 1131, '2016-11-07 05:10:56', 0, 0, 0, 0, 0.0, 0.0, 0.0, 0.0),\n",
       " (254, 1251, '2014-11-01 02:15:24', 0, 0, 17, 17, 0.0, 0.0, 138.04, 138.04),\n",
       " (328, 1291, '2015-08-03 08:35:23', 0, 19, 21, 40, 0.0, 142.31, 170.52, 312.83),\n",
       " (542, 1421, '2015-11-13 09:07:09', 0, 64, 0, 64, 0.0, 479.36, 0.0, 479.36),\n",
       " (683, 1501, '2016-04-14 23:59:50', 0, 15, 16, 31, 0.0, 112.35, 129.92, 242.27),\n",
       " (713, 1521, '2014-11-23 16:04:03', 0, 8, 10, 18, 0.0, 59.92, 81.2, 141.12),\n",
       " (730, 1521, '2016-05-06 02:34:48', 0, 0, 2, 2, 0.0, 0.0, 16.24, 16.24)]"
      ]
     },
     "execution_count": 11,
     "metadata": {},
     "output_type": "execute_result"
    }
   ],
   "source": [
    "%%sql\n",
    "\n",
    "SELECT *\n",
    "FROM orders\n",
    "WHERE total_amt_usd < 500\n",
    "LIMIT 10;"
   ]
  },
  {
   "cell_type": "markdown",
   "id": "98bae520",
   "metadata": {},
   "source": [
    "<br>\n",
    "\n",
    "### Where with Non-Numeric\n",
    "\n",
    "\n",
    "**Filter the accounts table to include the company name, website, and the primary point of contact (`primary_poc`) just for the Exxon Mobil company in the accounts table.**"
   ]
  },
  {
   "cell_type": "code",
   "execution_count": 12,
   "id": "8003890e",
   "metadata": {},
   "outputs": [
    {
     "name": "stdout",
     "output_type": "stream",
     "text": [
      " * sqlite:///parch_and_posey.db\n",
      "Done.\n"
     ]
    },
    {
     "data": {
      "text/html": [
       "<table>\n",
       "    <thead>\n",
       "        <tr>\n",
       "            <th>name</th>\n",
       "            <th>website</th>\n",
       "            <th>primary_poc</th>\n",
       "        </tr>\n",
       "    </thead>\n",
       "    <tbody>\n",
       "        <tr>\n",
       "            <td>Exxon Mobil</td>\n",
       "            <td>www.exxonmobil.com</td>\n",
       "            <td>Sung Shields</td>\n",
       "        </tr>\n",
       "    </tbody>\n",
       "</table>"
      ],
      "text/plain": [
       "[('Exxon Mobil', 'www.exxonmobil.com', 'Sung Shields')]"
      ]
     },
     "execution_count": 12,
     "metadata": {},
     "output_type": "execute_result"
    }
   ],
   "source": [
    "%%sql\n",
    "\n",
    "SELECT name, website, primary_poc\n",
    "FROM accounts\n",
    "WHERE LOWER(name) = 'exxon mobil'"
   ]
  },
  {
   "cell_type": "markdown",
   "id": "56cc9945",
   "metadata": {},
   "source": [
    "<br>\n",
    "\n",
    "### Arithmetic Operations\n",
    "\n",
    "**Using the orders table:**"
   ]
  },
  {
   "cell_type": "markdown",
   "id": "6ef196a5",
   "metadata": {},
   "source": [
    "<br>\n",
    "\n",
    "**Create a column that divides the standard_amt_usd by the standard_qty to find the unit price for standard paper for each order. Limit the results to the first 10 orders, and include the id and account_id fields.**"
   ]
  },
  {
   "cell_type": "code",
   "execution_count": 13,
   "id": "adc92569",
   "metadata": {},
   "outputs": [
    {
     "name": "stdout",
     "output_type": "stream",
     "text": [
      " * sqlite:///parch_and_posey.db\n",
      "Done.\n"
     ]
    },
    {
     "data": {
      "text/html": [
       "<table>\n",
       "    <thead>\n",
       "        <tr>\n",
       "            <th>id</th>\n",
       "            <th>account_id</th>\n",
       "            <th>standard_amt_usd</th>\n",
       "            <th>standard_qty</th>\n",
       "            <th>standard_paper_unit_price</th>\n",
       "        </tr>\n",
       "    </thead>\n",
       "    <tbody>\n",
       "        <tr>\n",
       "            <td>1</td>\n",
       "            <td>1001</td>\n",
       "            <td>613.77</td>\n",
       "            <td>123</td>\n",
       "            <td>5.0</td>\n",
       "        </tr>\n",
       "        <tr>\n",
       "            <td>2</td>\n",
       "            <td>1001</td>\n",
       "            <td>948.1</td>\n",
       "            <td>190</td>\n",
       "            <td>5.0</td>\n",
       "        </tr>\n",
       "        <tr>\n",
       "            <td>3</td>\n",
       "            <td>1001</td>\n",
       "            <td>424.15</td>\n",
       "            <td>85</td>\n",
       "            <td>5.0</td>\n",
       "        </tr>\n",
       "        <tr>\n",
       "            <td>4</td>\n",
       "            <td>1001</td>\n",
       "            <td>718.56</td>\n",
       "            <td>144</td>\n",
       "            <td>5.0</td>\n",
       "        </tr>\n",
       "        <tr>\n",
       "            <td>5</td>\n",
       "            <td>1001</td>\n",
       "            <td>538.92</td>\n",
       "            <td>108</td>\n",
       "            <td>5.0</td>\n",
       "        </tr>\n",
       "        <tr>\n",
       "            <td>6</td>\n",
       "            <td>1001</td>\n",
       "            <td>513.97</td>\n",
       "            <td>103</td>\n",
       "            <td>5.0</td>\n",
       "        </tr>\n",
       "        <tr>\n",
       "            <td>7</td>\n",
       "            <td>1001</td>\n",
       "            <td>503.99</td>\n",
       "            <td>101</td>\n",
       "            <td>5.0</td>\n",
       "        </tr>\n",
       "        <tr>\n",
       "            <td>8</td>\n",
       "            <td>1001</td>\n",
       "            <td>474.05</td>\n",
       "            <td>95</td>\n",
       "            <td>5.0</td>\n",
       "        </tr>\n",
       "        <tr>\n",
       "            <td>9</td>\n",
       "            <td>1001</td>\n",
       "            <td>454.09</td>\n",
       "            <td>91</td>\n",
       "            <td>5.0</td>\n",
       "        </tr>\n",
       "        <tr>\n",
       "            <td>10</td>\n",
       "            <td>1001</td>\n",
       "            <td>469.06</td>\n",
       "            <td>94</td>\n",
       "            <td>5.0</td>\n",
       "        </tr>\n",
       "    </tbody>\n",
       "</table>"
      ],
      "text/plain": [
       "[(1, 1001, 613.77, 123, 5.0),\n",
       " (2, 1001, 948.1, 190, 5.0),\n",
       " (3, 1001, 424.15, 85, 5.0),\n",
       " (4, 1001, 718.56, 144, 5.0),\n",
       " (5, 1001, 538.92, 108, 5.0),\n",
       " (6, 1001, 513.97, 103, 5.0),\n",
       " (7, 1001, 503.99, 101, 5.0),\n",
       " (8, 1001, 474.05, 95, 5.0),\n",
       " (9, 1001, 454.09, 91, 5.0),\n",
       " (10, 1001, 469.06, 94, 5.0)]"
      ]
     },
     "execution_count": 13,
     "metadata": {},
     "output_type": "execute_result"
    }
   ],
   "source": [
    "%%sql\n",
    "\n",
    "SELECT id, account_id, standard_amt_usd, standard_qty, round((Standard_amt_usd/standard_qty+0.01),4) AS standard_paper_unit_price\n",
    "FROM orders\n",
    "LIMIT 10;"
   ]
  },
  {
   "cell_type": "markdown",
   "id": "9a9decd8",
   "metadata": {},
   "source": [
    "<br>\n",
    "\n",
    "**Write a query that finds the percentage of revenue that comes from poster paper for each order. You will need to use only the columns that end with `_usd`. (Try to do this without using the `total` column.) Display the `id` and `account_id` fields also.**"
   ]
  },
  {
   "cell_type": "code",
   "execution_count": null,
   "id": "868dcba4",
   "metadata": {},
   "outputs": [],
   "source": [
    "%%sql\n",
    "\n",
    "SELECT id, account_id, "
   ]
  },
  {
   "cell_type": "markdown",
   "id": "1b188674",
   "metadata": {},
   "source": [
    "<br>\n",
    "\n",
    "### LIKE"
   ]
  },
  {
   "cell_type": "markdown",
   "id": "de1b3704",
   "metadata": {},
   "source": [
    "<br>\n",
    "\n",
    "**Use the accounts table to find**"
   ]
  },
  {
   "cell_type": "markdown",
   "id": "4add08a9",
   "metadata": {},
   "source": [
    "**All the companies whose names start with 'C'.**"
   ]
  },
  {
   "cell_type": "code",
   "execution_count": null,
   "id": "d8127fb4",
   "metadata": {},
   "outputs": [],
   "source": [
    "%%sql\n",
    "\n",
    "SELECT *\n",
    "FROM accounts\n",
    "WHERE UPPER(name) LIKE 'C%'"
   ]
  },
  {
   "cell_type": "markdown",
   "id": "782e5f95",
   "metadata": {},
   "source": [
    "<br>\n",
    "\n",
    "**All companies whose names contain the string 'one' somewhere in the name.**"
   ]
  },
  {
   "cell_type": "code",
   "execution_count": null,
   "id": "af9ecea9",
   "metadata": {},
   "outputs": [],
   "source": []
  },
  {
   "cell_type": "markdown",
   "id": "60e38678",
   "metadata": {},
   "source": [
    "<br>\n",
    "\n",
    "**All companies whose names end with 's'**"
   ]
  },
  {
   "cell_type": "code",
   "execution_count": null,
   "id": "fd56f355",
   "metadata": {},
   "outputs": [],
   "source": []
  },
  {
   "cell_type": "markdown",
   "id": "66a1da2a",
   "metadata": {},
   "source": [
    "<br>\n",
    "\n",
    "### IN"
   ]
  },
  {
   "cell_type": "markdown",
   "id": "14b43b3a",
   "metadata": {},
   "source": [
    "**Use the accounts table to find the account name, primary_poc, and sales_rep_id for Walmart, Target, and Nordstrom.**"
   ]
  },
  {
   "cell_type": "code",
   "execution_count": null,
   "id": "5070c6de",
   "metadata": {},
   "outputs": [],
   "source": []
  },
  {
   "cell_type": "markdown",
   "id": "cc37b04c",
   "metadata": {},
   "source": [
    "<br>\n",
    "\n",
    "**Use the web_events table to find all information regarding individuals who were contacted via the channel of organic or adwords.**"
   ]
  },
  {
   "cell_type": "code",
   "execution_count": null,
   "id": "460c3c72",
   "metadata": {},
   "outputs": [],
   "source": []
  },
  {
   "cell_type": "markdown",
   "id": "ec968ae0",
   "metadata": {},
   "source": [
    "<br>\n",
    "\n",
    "### NOT"
   ]
  },
  {
   "cell_type": "markdown",
   "id": "c9639b71",
   "metadata": {},
   "source": [
    "**Use the `accounts` table to find the account name, primary poc, and sales rep id for all stores except Walmart, Target, and Nordstrom.**"
   ]
  },
  {
   "cell_type": "code",
   "execution_count": null,
   "id": "4b8fc392",
   "metadata": {},
   "outputs": [],
   "source": []
  },
  {
   "cell_type": "markdown",
   "id": "37d07f6a",
   "metadata": {},
   "source": [
    "<br>\n",
    "\n",
    "**Use the `web_events` table to find all information regarding individuals who were contacted via any method except using organic or adwords methods.**"
   ]
  },
  {
   "cell_type": "markdown",
   "id": "88201c09",
   "metadata": {},
   "source": [
    "<br>\n",
    "\n",
    "**Use the accounts table to find:**"
   ]
  },
  {
   "cell_type": "markdown",
   "id": "03e8d486",
   "metadata": {},
   "source": [
    "**All the companies whose names do not start with 'C'.**"
   ]
  },
  {
   "cell_type": "code",
   "execution_count": null,
   "id": "32a56fab",
   "metadata": {},
   "outputs": [],
   "source": []
  },
  {
   "cell_type": "markdown",
   "id": "acd3fd08",
   "metadata": {},
   "source": [
    "<br>\n",
    "\n",
    "**All companies whose names do not contain the string 'one' somewhere in the name.**"
   ]
  },
  {
   "cell_type": "code",
   "execution_count": null,
   "id": "98be92d3",
   "metadata": {},
   "outputs": [],
   "source": []
  },
  {
   "cell_type": "markdown",
   "id": "5c4e5edd",
   "metadata": {},
   "source": [
    "<br>\n",
    "\n",
    "**All companies whose names do not end with 's'.**"
   ]
  },
  {
   "cell_type": "code",
   "execution_count": null,
   "id": "53a2d0e3",
   "metadata": {},
   "outputs": [],
   "source": []
  },
  {
   "cell_type": "markdown",
   "id": "7b774e8d",
   "metadata": {},
   "source": [
    "<br>\n",
    "\n",
    "### AND and BETWEEN"
   ]
  },
  {
   "cell_type": "markdown",
   "id": "a506dd0a",
   "metadata": {},
   "source": [
    "<br>\n",
    "\n",
    "**Write a query that returns all the orders where the `standard_qty` is over `1000`, the `poster_qty` is `0`, and the `gloss_qty` is `0`.**"
   ]
  },
  {
   "cell_type": "code",
   "execution_count": null,
   "id": "5e940083",
   "metadata": {},
   "outputs": [],
   "source": []
  },
  {
   "cell_type": "markdown",
   "id": "c7e27853",
   "metadata": {},
   "source": [
    "<br>\n",
    "\n",
    "**Using the `accounts` table, find all the companies whose names do not start with 'C' and end with 's'.**"
   ]
  },
  {
   "cell_type": "code",
   "execution_count": null,
   "id": "b50d552c",
   "metadata": {},
   "outputs": [],
   "source": []
  },
  {
   "cell_type": "markdown",
   "id": "abbcea28",
   "metadata": {},
   "source": [
    "<br>\n",
    "\n",
    "**When you use the BETWEEN operator in SQL, do the results include the values of your endpoints, or not? Figure out the answer to this important question by writing a query that displays the order date and `gloss_qty` data for all `orders` where gloss_qty is between 24 and 29. Then look at your output to see if the BETWEEN operator included the begin and end values or not.**"
   ]
  },
  {
   "cell_type": "code",
   "execution_count": null,
   "id": "8f5bc79b",
   "metadata": {},
   "outputs": [],
   "source": []
  },
  {
   "cell_type": "markdown",
   "id": "3c17ea5f",
   "metadata": {},
   "source": [
    "<br>\n",
    "\n",
    "**Use the `web_events` table to find all information regarding individuals who were contacted via the `organic` or `adwords` channels, and started their account at any point in 2016, sorted from newest to oldest.**"
   ]
  },
  {
   "cell_type": "code",
   "execution_count": null,
   "id": "6bc52d6b",
   "metadata": {},
   "outputs": [],
   "source": []
  },
  {
   "cell_type": "markdown",
   "id": "38737b1a",
   "metadata": {},
   "source": [
    "<br>\n",
    "\n",
    "### OR"
   ]
  },
  {
   "cell_type": "markdown",
   "id": "b33a99b4",
   "metadata": {},
   "source": [
    "<br>\n",
    "\n",
    "**Find list of `orders` ids where either `gloss_qty` or `poster_qty` is greater than `4000`. Only include the id field in the resulting table.**"
   ]
  },
  {
   "cell_type": "code",
   "execution_count": null,
   "id": "93f37e00",
   "metadata": {},
   "outputs": [],
   "source": []
  },
  {
   "cell_type": "markdown",
   "id": "249caddb",
   "metadata": {},
   "source": [
    "<br>\n",
    "\n",
    "**Write a query that returns a list of `orders` where the `standard_qty` is zero and either the `gloss_qty` or `poster_qty` is over `1000`.**"
   ]
  },
  {
   "cell_type": "code",
   "execution_count": null,
   "id": "d0fe1a54",
   "metadata": {},
   "outputs": [],
   "source": []
  },
  {
   "cell_type": "markdown",
   "id": "c3354368",
   "metadata": {},
   "source": [
    "<br>\n",
    "\n",
    "**Find all the company names that start with a 'C' or 'W', and the primary contact `contains` 'ana' or 'Ana', but it doesn't contain 'eana'.**"
   ]
  },
  {
   "cell_type": "code",
   "execution_count": null,
   "id": "dabc1283",
   "metadata": {},
   "outputs": [],
   "source": []
  }
 ],
 "metadata": {
  "kernelspec": {
   "display_name": "Python 3 (ipykernel)",
   "language": "python",
   "name": "python3"
  },
  "language_info": {
   "codemirror_mode": {
    "name": "ipython",
    "version": 3
   },
   "file_extension": ".py",
   "mimetype": "text/x-python",
   "name": "python",
   "nbconvert_exporter": "python",
   "pygments_lexer": "ipython3",
   "version": "3.11.4"
  }
 },
 "nbformat": 4,
 "nbformat_minor": 5
}
