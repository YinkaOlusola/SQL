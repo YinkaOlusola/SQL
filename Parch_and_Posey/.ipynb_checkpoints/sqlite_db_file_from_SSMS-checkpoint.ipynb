{
 "cells": [
  {
   "cell_type": "markdown",
   "id": "5e52d2da",
   "metadata": {},
   "source": [
    "<br>\n",
    "\n",
    "# Parch & Posey"
   ]
  },
  {
   "cell_type": "markdown",
   "id": "ab36d445",
   "metadata": {},
   "source": [
    "## This notebook contains the codes that were used to create the SQLite db file of Parch and Posey"
   ]
  },
  {
   "cell_type": "markdown",
   "id": "0895121c",
   "metadata": {},
   "source": [
    "Parch & Posey is a Hypothetical Paper company with 50 sales representatives spread across the United States in four regions.\n",
    "\n",
    "There are three types of paper\n",
    " - Regular\n",
    " - Poster\n",
    " - Glossy\n",
    " \n",
    "They supply to a client that is a Fortune 100 company.\n",
    "\n",
    "Using SQL, tricky business questions were answered.\n",
    "\n",
    "An entity relationship diagram (ERD) is a common way to view data in a database. Below is the ERD for the database used from Parch & Posey. These diagrams helps to visualize the data you are analyzing including:\n",
    "\n",
    "The names of the tables.\n",
    "The columns in each table.\n",
    "The way the tables work together.\n",
    "\n",
    "In the Parch & Posey database there are five tables:\n",
    "\n",
    " - web_events\n",
    " - accounts\n",
    " - orders\n",
    " - sales_reps\n",
    " - region\n",
    "\n",
    "The dataset was obtained in a text format, it was pasted in SQL Server Management Studio (SSMS) to create the database.\n",
    "\n",
    "The tables in the created database were saved as CSV files giving two options for creating a SQLite database file.\n",
    "\n",
    "One option is to use the CSV files to create the SQLite db files. Another option is to connect directly to the SQL Server Management Studio and then, through some interpolation, create the db file. The second option seems to be more efficient in terms of time and space.\n",
    "\n",
    "The database file was created using SQL Server Management Studio and the read into a Jupyter Notebook."
   ]
  },
  {
   "cell_type": "markdown",
   "id": "a607dd0d",
   "metadata": {},
   "source": [
    "![ERD of Parch and Posey](ERD_for_parch_and_porsey.png)"
   ]
  },
  {
   "cell_type": "markdown",
   "id": "f05f5d51",
   "metadata": {},
   "source": [
    "<br>\n",
    "<br>\n",
    "\n",
    "### Importing Libraries"
   ]
  },
  {
   "cell_type": "code",
   "execution_count": 1,
   "id": "d61700bf",
   "metadata": {},
   "outputs": [],
   "source": [
    "# importing needed libraries\n",
    "\n",
    "import pyodbc\n",
    "import pandas as pd\n",
    "import glob\n",
    "import sqlite3\n",
    "import warnings\n",
    "warnings.filterwarnings(\"ignore\")"
   ]
  },
  {
   "cell_type": "markdown",
   "id": "a848f422",
   "metadata": {},
   "source": [
    "<br>\n",
    "\n",
    "# Creating the SQLite db file by connecting to a SQL Server Management Studio"
   ]
  },
  {
   "cell_type": "markdown",
   "id": "a2a3cace",
   "metadata": {},
   "source": [
    "## Connecting to the database"
   ]
  },
  {
   "cell_type": "code",
   "execution_count": 2,
   "id": "355d0ffb",
   "metadata": {},
   "outputs": [],
   "source": [
    "def establish_connection(server, database):\n",
    "    '''\n",
    "        This function is used to establish a connection with a SQL Server Management Studio.\n",
    "        \n",
    "        Input:\n",
    "        \n",
    "                server: A string representing the instance name of the server\n",
    "            \n",
    "                database: A string representing the name of the attached database to establish connection with\n",
    "                \n",
    "        Output:\n",
    "                connection: The establish connection which can be used to access the database\n",
    "    '''\n",
    "    \n",
    "    # A needed library\n",
    "    import pyodbc\n",
    "    \n",
    "    \n",
    "    trusted_connection = 'yes'\n",
    "    \n",
    "    connection_string = f'DRIVER=ODBC Driver 17 for SQL Server;SERVER={server};DATABASE={database};Trusted_Connection={trusted_connection}'\n",
    "    \n",
    "    # An exception to indicate the status of the connection and catch errors\n",
    "    try:\n",
    "        conn = pyodbc.connect(connection_string)\n",
    "        print(\"Connected to the database!\")\n",
    "        return conn\n",
    "    except Exception as e:\n",
    "        print(f\"Error: {str(e)}\")\n",
    "        return\n",
    "        \n",
    "    "
   ]
  },
  {
   "cell_type": "markdown",
   "id": "0ad93a33",
   "metadata": {},
   "source": [
    "<br>\n",
    "<br>\n",
    "\n",
    "## Saving the content of the database as a SQLite db file"
   ]
  },
  {
   "cell_type": "code",
   "execution_count": 3,
   "id": "a81f0ec9",
   "metadata": {},
   "outputs": [],
   "source": [
    "def Save_As_Db_File(conn, database):\n",
    "    '''\n",
    "        This functions creates a SQLite .db file in the same directory as this notebook\n",
    "        using a given connection with a SQL Server Management Studio database\n",
    "        \n",
    "        Input:\n",
    "                conn: This is the connection that has been established with a database server\n",
    "                \n",
    "                database: A string representing the name of the SQLite .db file to be created\n",
    "            \n",
    "    '''\n",
    "    \n",
    "    \n",
    "    #Important libraries\n",
    "    import pandas as pd\n",
    "    import sqlite3\n",
    "    \n",
    "    '''\n",
    "        Creating an empty SQLite database file using database, the parameter passed into the function\n",
    "    '''\n",
    "    \n",
    "    database_file_conn = sqlite3.connect(database+'.db')\n",
    "    \n",
    "    \n",
    "    '''\n",
    "        The names of the tables in the database will be obtained and saved as a list\n",
    "        This will be used when reading the content of the remote database and when\n",
    "        populating the created SQLite .db file.\n",
    "    '''     \n",
    "    # SQL query to retrieve tables names from the database using sys.tables\n",
    "    table_names_from_db = \"SELECT name FROM sys.tables\"\n",
    "    \n",
    "    # Fetching the table names into a Pandas Dataframe\n",
    "    table_names_df = pd.read_sql(table_names_from_db, conn)\n",
    "    \n",
    "    # Table names as a list\n",
    "    table_names = list(table_names_df['name'].values)\n",
    "    \n",
    "    \n",
    "    '''\n",
    "        The content content of the database are read using a loop, and then saved in the created\n",
    "        SQLite .db file\n",
    "    '''\n",
    "    # An empty Pandas Dataframe\n",
    "    for table_name in table_names:\n",
    "        \n",
    "        # SQL query to fetch individual tables from the database\n",
    "        query_table = f'SELECT * FROM {table_name}'\n",
    "        \n",
    "        # It executes the query `query_table` and fetch data into a Pandas Dataframe\n",
    "        df = pd.read_sql(query_table, conn)\n",
    "        \n",
    "        # The Pandas Dataframe with its content is passed into the created SQLite .db file as a table\n",
    "        df.to_sql(table_name, database_file_conn, if_exists=\"replace\", index=False)\n",
    "        \n",
    "        \n",
    "    try:\n",
    "        # create a cursor\n",
    "        cursor = database_file_conn.cursor()\n",
    "        \n",
    "        # Execute the query\n",
    "        cursor.execute(\"SELECT name FROM sqlite_master WHERE type IN ('table', 'view') AND name NOT LIKE 'sqlite_%' ORDER BY 1\")\n",
    "\n",
    "        # Fetch the result into a variable\n",
    "        result = cursor.fetchall()\n",
    "        \n",
    "        #Tables in created database\n",
    "        tables = pd.DataFrame([item[0] for item in result], columns=['Tables'])\n",
    "        print(f'The database {database} was created successfully and the tables in it are:')\n",
    "        print()\n",
    "        display(tables)\n",
    "        return\n",
    "    except Exception as e:\n",
    "        print(f\"Error: {str(e)}\")\n",
    "        return\n",
    "        \n",
    "    \n",
    "    "
   ]
  },
  {
   "cell_type": "markdown",
   "id": "0866807d",
   "metadata": {},
   "source": [
    "### Connection parameters for the Database Server"
   ]
  },
  {
   "cell_type": "code",
   "execution_count": 4,
   "id": "1d795896",
   "metadata": {},
   "outputs": [],
   "source": [
    "# Defining connection parameters\n",
    "\n",
    "server = 'localhost\\SQLEXPRESS'  # SQL Server instance name\n",
    "database = 'perch_and_posey'  # name of attached database"
   ]
  },
  {
   "cell_type": "markdown",
   "id": "f0435a6e",
   "metadata": {},
   "source": [
    "### Creating the locally available SQLite database file"
   ]
  },
  {
   "cell_type": "code",
   "execution_count": 5,
   "id": "6667f0e0",
   "metadata": {},
   "outputs": [
    {
     "name": "stdout",
     "output_type": "stream",
     "text": [
      "Connected to the database!\n"
     ]
    }
   ],
   "source": [
    "conn = establish_connection(server, database)"
   ]
  },
  {
   "cell_type": "code",
   "execution_count": 6,
   "id": "79bbe8d7",
   "metadata": {},
   "outputs": [
    {
     "name": "stdout",
     "output_type": "stream",
     "text": [
      "The database Parch_and_Posey was created successfully and the tables in it are:\n",
      "\n"
     ]
    },
    {
     "data": {
      "text/html": [
       "<div>\n",
       "<style scoped>\n",
       "    .dataframe tbody tr th:only-of-type {\n",
       "        vertical-align: middle;\n",
       "    }\n",
       "\n",
       "    .dataframe tbody tr th {\n",
       "        vertical-align: top;\n",
       "    }\n",
       "\n",
       "    .dataframe thead th {\n",
       "        text-align: right;\n",
       "    }\n",
       "</style>\n",
       "<table border=\"1\" class=\"dataframe\">\n",
       "  <thead>\n",
       "    <tr style=\"text-align: right;\">\n",
       "      <th></th>\n",
       "      <th>Tables</th>\n",
       "    </tr>\n",
       "  </thead>\n",
       "  <tbody>\n",
       "    <tr>\n",
       "      <th>0</th>\n",
       "      <td>accounts</td>\n",
       "    </tr>\n",
       "    <tr>\n",
       "      <th>1</th>\n",
       "      <td>orders</td>\n",
       "    </tr>\n",
       "    <tr>\n",
       "      <th>2</th>\n",
       "      <td>region</td>\n",
       "    </tr>\n",
       "    <tr>\n",
       "      <th>3</th>\n",
       "      <td>sales_reps</td>\n",
       "    </tr>\n",
       "    <tr>\n",
       "      <th>4</th>\n",
       "      <td>web_events</td>\n",
       "    </tr>\n",
       "  </tbody>\n",
       "</table>\n",
       "</div>"
      ],
      "text/plain": [
       "       Tables\n",
       "0    accounts\n",
       "1      orders\n",
       "2      region\n",
       "3  sales_reps\n",
       "4  web_events"
      ]
     },
     "metadata": {},
     "output_type": "display_data"
    }
   ],
   "source": [
    "Save_As_Db_File(conn, 'Parch_and_Posey')"
   ]
  },
  {
   "cell_type": "markdown",
   "id": "52af16d5",
   "metadata": {},
   "source": [
    "<br>\n",
    "<br>\n",
    "\n",
    "# Creating SQLite .db file from csv files"
   ]
  },
  {
   "cell_type": "code",
   "execution_count": null,
   "id": "999f25be",
   "metadata": {},
   "outputs": [],
   "source": [
    "# Connect to or create the SQLite database\n",
    "\n",
    "conn = sqlite3.connect('parch_and_posey.db')"
   ]
  },
  {
   "cell_type": "code",
   "execution_count": null,
   "id": "3e8d927f",
   "metadata": {},
   "outputs": [],
   "source": [
    "# Using glob.glob to get a list of matching file names\n",
    "file_names = glob.glob('data/*.csv')\n",
    "\n",
    "for file in file_names:\n",
    "    table_name = str(file.split('.')[0].split('\\\\')[-1]) # get the names of each table\n",
    "    df = pd.read_csv(file)  # create a dataframe from each csv file\n",
    "    df.to_sql(table_name, conn, if_exists=\"replace\", index=False)  # Insert data into SQLite table"
   ]
  },
  {
   "cell_type": "markdown",
   "id": "89b38e72",
   "metadata": {},
   "source": [
    "<br>\n",
    "<br>\n",
    "\n",
    "# Viewing the contents of each table in the database"
   ]
  },
  {
   "cell_type": "code",
   "execution_count": 7,
   "id": "661d49d8",
   "metadata": {},
   "outputs": [],
   "source": [
    "%load_ext sql"
   ]
  },
  {
   "cell_type": "code",
   "execution_count": 8,
   "id": "126c1bf9",
   "metadata": {},
   "outputs": [],
   "source": [
    "%sql sqlite:///parch_and_posey.db"
   ]
  },
  {
   "cell_type": "markdown",
   "id": "28da1959",
   "metadata": {},
   "source": [
    "### Tables in the database"
   ]
  },
  {
   "cell_type": "code",
   "execution_count": 9,
   "id": "a2151fc9",
   "metadata": {},
   "outputs": [
    {
     "name": "stdout",
     "output_type": "stream",
     "text": [
      " * sqlite:///parch_and_posey.db\n",
      "Done.\n"
     ]
    },
    {
     "data": {
      "text/html": [
       "<table>\n",
       "    <thead>\n",
       "        <tr>\n",
       "            <th>name</th>\n",
       "        </tr>\n",
       "    </thead>\n",
       "    <tbody>\n",
       "        <tr>\n",
       "            <td>accounts</td>\n",
       "        </tr>\n",
       "        <tr>\n",
       "            <td>orders</td>\n",
       "        </tr>\n",
       "        <tr>\n",
       "            <td>region</td>\n",
       "        </tr>\n",
       "        <tr>\n",
       "            <td>sales_reps</td>\n",
       "        </tr>\n",
       "        <tr>\n",
       "            <td>web_events</td>\n",
       "        </tr>\n",
       "    </tbody>\n",
       "</table>"
      ],
      "text/plain": [
       "[('accounts',), ('orders',), ('region',), ('sales_reps',), ('web_events',)]"
      ]
     },
     "execution_count": 9,
     "metadata": {},
     "output_type": "execute_result"
    }
   ],
   "source": [
    "%%sql\n",
    "\n",
    "SELECT name FROM sqlite_master WHERE type IN ('table', 'view') AND name NOT LIKE 'sqlite_%' ORDER BY 1"
   ]
  },
  {
   "cell_type": "markdown",
   "id": "89a48ba1",
   "metadata": {},
   "source": [
    "### Accounts Table"
   ]
  },
  {
   "cell_type": "code",
   "execution_count": 10,
   "id": "b0975bf9",
   "metadata": {},
   "outputs": [
    {
     "name": "stdout",
     "output_type": "stream",
     "text": [
      " * sqlite:///parch_and_posey.db\n",
      "Done.\n"
     ]
    },
    {
     "data": {
      "text/html": [
       "<table>\n",
       "    <thead>\n",
       "        <tr>\n",
       "            <th>id</th>\n",
       "            <th>name</th>\n",
       "            <th>website</th>\n",
       "            <th>lat</th>\n",
       "            <th>long</th>\n",
       "            <th>primary_poc</th>\n",
       "            <th>sales_rep_id</th>\n",
       "        </tr>\n",
       "    </thead>\n",
       "    <tbody>\n",
       "        <tr>\n",
       "            <td>1001</td>\n",
       "            <td>Walmart</td>\n",
       "            <td>www.walmart.com</td>\n",
       "            <td>40.23849561</td>\n",
       "            <td>-75.10329704</td>\n",
       "            <td>Tamara Tuma</td>\n",
       "            <td>321500</td>\n",
       "        </tr>\n",
       "        <tr>\n",
       "            <td>1011</td>\n",
       "            <td>Exxon Mobil</td>\n",
       "            <td>www.exxonmobil.com</td>\n",
       "            <td>41.1691563</td>\n",
       "            <td>-73.84937379</td>\n",
       "            <td>Sung Shields</td>\n",
       "            <td>321510</td>\n",
       "        </tr>\n",
       "        <tr>\n",
       "            <td>1021</td>\n",
       "            <td>Apple</td>\n",
       "            <td>www.apple.com</td>\n",
       "            <td>42.29049481</td>\n",
       "            <td>-76.08400942</td>\n",
       "            <td>Jodee Lupo</td>\n",
       "            <td>321520</td>\n",
       "        </tr>\n",
       "        <tr>\n",
       "            <td>1031</td>\n",
       "            <td>Berkshire Hathaway</td>\n",
       "            <td>www.berkshirehathaway.com</td>\n",
       "            <td>40.94902131</td>\n",
       "            <td>-75.76389759</td>\n",
       "            <td>Serafina Banda</td>\n",
       "            <td>321530</td>\n",
       "        </tr>\n",
       "        <tr>\n",
       "            <td>1041</td>\n",
       "            <td>McKesson</td>\n",
       "            <td>www.mckesson.com</td>\n",
       "            <td>42.21709326</td>\n",
       "            <td>-75.28499823</td>\n",
       "            <td>Angeles Crusoe</td>\n",
       "            <td>321540</td>\n",
       "        </tr>\n",
       "    </tbody>\n",
       "</table>"
      ],
      "text/plain": [
       "[(1001, 'Walmart', 'www.walmart.com', 40.23849561, -75.10329704, 'Tamara Tuma', 321500),\n",
       " (1011, 'Exxon Mobil', 'www.exxonmobil.com', 41.1691563, -73.84937379, 'Sung Shields', 321510),\n",
       " (1021, 'Apple', 'www.apple.com', 42.29049481, -76.08400942, 'Jodee Lupo', 321520),\n",
       " (1031, 'Berkshire Hathaway', 'www.berkshirehathaway.com', 40.94902131, -75.76389759, 'Serafina Banda', 321530),\n",
       " (1041, 'McKesson', 'www.mckesson.com', 42.21709326, -75.28499823, 'Angeles Crusoe', 321540)]"
      ]
     },
     "execution_count": 10,
     "metadata": {},
     "output_type": "execute_result"
    }
   ],
   "source": [
    "%%sql\n",
    "\n",
    "SELECT *\n",
    "FROM accounts\n",
    "LIMIT 5;"
   ]
  },
  {
   "cell_type": "markdown",
   "id": "ba0536c7",
   "metadata": {},
   "source": [
    "### Orders Table"
   ]
  },
  {
   "cell_type": "code",
   "execution_count": 11,
   "id": "08b74d0f",
   "metadata": {},
   "outputs": [
    {
     "name": "stdout",
     "output_type": "stream",
     "text": [
      " * sqlite:///parch_and_posey.db\n",
      "Done.\n"
     ]
    },
    {
     "data": {
      "text/html": [
       "<table>\n",
       "    <thead>\n",
       "        <tr>\n",
       "            <th>id</th>\n",
       "            <th>account_id</th>\n",
       "            <th>occurred_at</th>\n",
       "            <th>standard_qty</th>\n",
       "            <th>gloss_qty</th>\n",
       "            <th>poster_qty</th>\n",
       "            <th>total</th>\n",
       "            <th>standard_amt_usd</th>\n",
       "            <th>gloss_amt_usd</th>\n",
       "            <th>poster_amt_usd</th>\n",
       "            <th>total_amt_usd</th>\n",
       "        </tr>\n",
       "    </thead>\n",
       "    <tbody>\n",
       "        <tr>\n",
       "            <td>1</td>\n",
       "            <td>1001</td>\n",
       "            <td>2015-10-06 17:31:14</td>\n",
       "            <td>123</td>\n",
       "            <td>22</td>\n",
       "            <td>24</td>\n",
       "            <td>169</td>\n",
       "            <td>613.77</td>\n",
       "            <td>164.78</td>\n",
       "            <td>194.88</td>\n",
       "            <td>973.43</td>\n",
       "        </tr>\n",
       "        <tr>\n",
       "            <td>2</td>\n",
       "            <td>1001</td>\n",
       "            <td>2015-11-05 03:34:33</td>\n",
       "            <td>190</td>\n",
       "            <td>41</td>\n",
       "            <td>57</td>\n",
       "            <td>288</td>\n",
       "            <td>948.1</td>\n",
       "            <td>307.09</td>\n",
       "            <td>462.84</td>\n",
       "            <td>1718.03</td>\n",
       "        </tr>\n",
       "        <tr>\n",
       "            <td>3</td>\n",
       "            <td>1001</td>\n",
       "            <td>2015-12-04 04:21:55</td>\n",
       "            <td>85</td>\n",
       "            <td>47</td>\n",
       "            <td>0</td>\n",
       "            <td>132</td>\n",
       "            <td>424.15</td>\n",
       "            <td>352.03</td>\n",
       "            <td>0.0</td>\n",
       "            <td>776.18</td>\n",
       "        </tr>\n",
       "        <tr>\n",
       "            <td>4</td>\n",
       "            <td>1001</td>\n",
       "            <td>2016-01-02 01:18:24</td>\n",
       "            <td>144</td>\n",
       "            <td>32</td>\n",
       "            <td>0</td>\n",
       "            <td>176</td>\n",
       "            <td>718.56</td>\n",
       "            <td>239.68</td>\n",
       "            <td>0.0</td>\n",
       "            <td>958.24</td>\n",
       "        </tr>\n",
       "        <tr>\n",
       "            <td>5</td>\n",
       "            <td>1001</td>\n",
       "            <td>2016-02-01 19:27:27</td>\n",
       "            <td>108</td>\n",
       "            <td>29</td>\n",
       "            <td>28</td>\n",
       "            <td>165</td>\n",
       "            <td>538.92</td>\n",
       "            <td>217.21</td>\n",
       "            <td>227.36</td>\n",
       "            <td>983.49</td>\n",
       "        </tr>\n",
       "    </tbody>\n",
       "</table>"
      ],
      "text/plain": [
       "[(1, 1001, '2015-10-06 17:31:14', 123, 22, 24, 169, 613.77, 164.78, 194.88, 973.43),\n",
       " (2, 1001, '2015-11-05 03:34:33', 190, 41, 57, 288, 948.1, 307.09, 462.84, 1718.03),\n",
       " (3, 1001, '2015-12-04 04:21:55', 85, 47, 0, 132, 424.15, 352.03, 0.0, 776.18),\n",
       " (4, 1001, '2016-01-02 01:18:24', 144, 32, 0, 176, 718.56, 239.68, 0.0, 958.24),\n",
       " (5, 1001, '2016-02-01 19:27:27', 108, 29, 28, 165, 538.92, 217.21, 227.36, 983.49)]"
      ]
     },
     "execution_count": 11,
     "metadata": {},
     "output_type": "execute_result"
    }
   ],
   "source": [
    "%%sql\n",
    "\n",
    "SELECT *\n",
    "FROM orders\n",
    "LIMIT 5;"
   ]
  },
  {
   "cell_type": "markdown",
   "id": "24522ace",
   "metadata": {},
   "source": [
    "### Region Table"
   ]
  },
  {
   "cell_type": "code",
   "execution_count": 12,
   "id": "1716b855",
   "metadata": {},
   "outputs": [
    {
     "name": "stdout",
     "output_type": "stream",
     "text": [
      " * sqlite:///parch_and_posey.db\n",
      "Done.\n"
     ]
    },
    {
     "data": {
      "text/html": [
       "<table>\n",
       "    <thead>\n",
       "        <tr>\n",
       "            <th>id</th>\n",
       "            <th>name</th>\n",
       "        </tr>\n",
       "    </thead>\n",
       "    <tbody>\n",
       "        <tr>\n",
       "            <td>1</td>\n",
       "            <td>Northeast</td>\n",
       "        </tr>\n",
       "        <tr>\n",
       "            <td>2</td>\n",
       "            <td>Midwest</td>\n",
       "        </tr>\n",
       "        <tr>\n",
       "            <td>3</td>\n",
       "            <td>Southeast</td>\n",
       "        </tr>\n",
       "        <tr>\n",
       "            <td>4</td>\n",
       "            <td>West</td>\n",
       "        </tr>\n",
       "    </tbody>\n",
       "</table>"
      ],
      "text/plain": [
       "[(1, 'Northeast'), (2, 'Midwest'), (3, 'Southeast'), (4, 'West')]"
      ]
     },
     "execution_count": 12,
     "metadata": {},
     "output_type": "execute_result"
    }
   ],
   "source": [
    "%%sql\n",
    "\n",
    "SELECT *\n",
    "FROM region\n",
    "LIMIT 5;"
   ]
  },
  {
   "cell_type": "markdown",
   "id": "1deffca7",
   "metadata": {},
   "source": [
    "### Sales Reps Table"
   ]
  },
  {
   "cell_type": "code",
   "execution_count": 13,
   "id": "eb0f039c",
   "metadata": {},
   "outputs": [
    {
     "name": "stdout",
     "output_type": "stream",
     "text": [
      " * sqlite:///parch_and_posey.db\n",
      "Done.\n"
     ]
    },
    {
     "data": {
      "text/html": [
       "<table>\n",
       "    <thead>\n",
       "        <tr>\n",
       "            <th>id</th>\n",
       "            <th>name</th>\n",
       "            <th>region_id</th>\n",
       "        </tr>\n",
       "    </thead>\n",
       "    <tbody>\n",
       "        <tr>\n",
       "            <td>321500</td>\n",
       "            <td>Samuel Racine</td>\n",
       "            <td>1</td>\n",
       "        </tr>\n",
       "        <tr>\n",
       "            <td>321510</td>\n",
       "            <td>Eugena Esser</td>\n",
       "            <td>1</td>\n",
       "        </tr>\n",
       "        <tr>\n",
       "            <td>321520</td>\n",
       "            <td>Michel Averette</td>\n",
       "            <td>1</td>\n",
       "        </tr>\n",
       "        <tr>\n",
       "            <td>321530</td>\n",
       "            <td>Renetta Carew</td>\n",
       "            <td>1</td>\n",
       "        </tr>\n",
       "        <tr>\n",
       "            <td>321540</td>\n",
       "            <td>Cara Clarke</td>\n",
       "            <td>1</td>\n",
       "        </tr>\n",
       "    </tbody>\n",
       "</table>"
      ],
      "text/plain": [
       "[(321500, 'Samuel Racine', 1),\n",
       " (321510, 'Eugena Esser', 1),\n",
       " (321520, 'Michel Averette', 1),\n",
       " (321530, 'Renetta Carew', 1),\n",
       " (321540, 'Cara Clarke', 1)]"
      ]
     },
     "execution_count": 13,
     "metadata": {},
     "output_type": "execute_result"
    }
   ],
   "source": [
    "%%sql\n",
    "\n",
    "SELECT *\n",
    "FROM sales_reps\n",
    "LIMIT 5;"
   ]
  },
  {
   "cell_type": "markdown",
   "id": "adb90ef2",
   "metadata": {},
   "source": [
    "### Web Events Table"
   ]
  },
  {
   "cell_type": "code",
   "execution_count": 14,
   "id": "ca004d27",
   "metadata": {},
   "outputs": [
    {
     "name": "stdout",
     "output_type": "stream",
     "text": [
      " * sqlite:///parch_and_posey.db\n",
      "Done.\n"
     ]
    },
    {
     "data": {
      "text/html": [
       "<table>\n",
       "    <thead>\n",
       "        <tr>\n",
       "            <th>id</th>\n",
       "            <th>account_id</th>\n",
       "            <th>occurred_at</th>\n",
       "            <th>channel</th>\n",
       "        </tr>\n",
       "    </thead>\n",
       "    <tbody>\n",
       "        <tr>\n",
       "            <td>1</td>\n",
       "            <td>1001</td>\n",
       "            <td>2015-10-06 17:13:58</td>\n",
       "            <td>direct</td>\n",
       "        </tr>\n",
       "        <tr>\n",
       "            <td>2</td>\n",
       "            <td>1001</td>\n",
       "            <td>2015-11-05 03:08:26</td>\n",
       "            <td>direct</td>\n",
       "        </tr>\n",
       "        <tr>\n",
       "            <td>3</td>\n",
       "            <td>1001</td>\n",
       "            <td>2015-12-04 03:57:24</td>\n",
       "            <td>direct</td>\n",
       "        </tr>\n",
       "        <tr>\n",
       "            <td>4</td>\n",
       "            <td>1001</td>\n",
       "            <td>2016-01-02 00:55:03</td>\n",
       "            <td>direct</td>\n",
       "        </tr>\n",
       "        <tr>\n",
       "            <td>5</td>\n",
       "            <td>1001</td>\n",
       "            <td>2016-02-01 19:02:33</td>\n",
       "            <td>direct</td>\n",
       "        </tr>\n",
       "    </tbody>\n",
       "</table>"
      ],
      "text/plain": [
       "[(1, 1001, '2015-10-06 17:13:58', 'direct'),\n",
       " (2, 1001, '2015-11-05 03:08:26', 'direct'),\n",
       " (3, 1001, '2015-12-04 03:57:24', 'direct'),\n",
       " (4, 1001, '2016-01-02 00:55:03', 'direct'),\n",
       " (5, 1001, '2016-02-01 19:02:33', 'direct')]"
      ]
     },
     "execution_count": 14,
     "metadata": {},
     "output_type": "execute_result"
    }
   ],
   "source": [
    "%%sql\n",
    "\n",
    "SELECT *\n",
    "FROM web_events\n",
    "LIMIT 5;"
   ]
  },
  {
   "cell_type": "code",
   "execution_count": null,
   "id": "62290bcd",
   "metadata": {},
   "outputs": [],
   "source": []
  }
 ],
 "metadata": {
  "kernelspec": {
   "display_name": "Python 3 (ipykernel)",
   "language": "python",
   "name": "python3"
  },
  "language_info": {
   "codemirror_mode": {
    "name": "ipython",
    "version": 3
   },
   "file_extension": ".py",
   "mimetype": "text/x-python",
   "name": "python",
   "nbconvert_exporter": "python",
   "pygments_lexer": "ipython3",
   "version": "3.11.4"
  }
 },
 "nbformat": 4,
 "nbformat_minor": 5
}
